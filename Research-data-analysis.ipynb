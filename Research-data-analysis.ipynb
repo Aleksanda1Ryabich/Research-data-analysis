{
 "cells": [
  {
   "cell_type": "markdown",
   "metadata": {},
   "source": [
    "# Исследование объявлений о продаже квартир\n",
    "\n",
    "В вашем распоряжении данные сервиса Яндекс.Недвижимость — архив объявлений о продаже квартир в Санкт-Петербурге и соседних населённых пунктов за несколько лет. Нужно научиться определять рыночную стоимость объектов недвижимости. Ваша задача — установить параметры. Это позволит построить автоматизированную систему: она отследит аномалии и мошенническую деятельность. \n",
    "\n",
    "По каждой квартире на продажу доступны два вида данных. Первые вписаны пользователем, вторые — получены автоматически на основе картографических данных. Например, расстояние до центра, аэропорта, ближайшего парка и водоёма. "
   ]
  },
  {
   "cell_type": "markdown",
   "metadata": {},
   "source": [
    "### Откройте файл с данными и изучите общую информацию. "
   ]
  },
  {
   "cell_type": "code",
   "execution_count": 1,
   "metadata": {},
   "outputs": [
    {
     "data": {
      "text/html": [
       "<div>\n",
       "<style scoped>\n",
       "    .dataframe tbody tr th:only-of-type {\n",
       "        vertical-align: middle;\n",
       "    }\n",
       "\n",
       "    .dataframe tbody tr th {\n",
       "        vertical-align: top;\n",
       "    }\n",
       "\n",
       "    .dataframe thead th {\n",
       "        text-align: right;\n",
       "    }\n",
       "</style>\n",
       "<table border=\"1\" class=\"dataframe\">\n",
       "  <thead>\n",
       "    <tr style=\"text-align: right;\">\n",
       "      <th></th>\n",
       "      <th>total_images</th>\n",
       "      <th>last_price</th>\n",
       "      <th>total_area</th>\n",
       "      <th>first_day_exposition</th>\n",
       "      <th>rooms</th>\n",
       "      <th>ceiling_height</th>\n",
       "      <th>floors_total</th>\n",
       "      <th>living_area</th>\n",
       "      <th>floor</th>\n",
       "      <th>is_apartment</th>\n",
       "      <th>studio</th>\n",
       "      <th>open_plan</th>\n",
       "      <th>kitchen_area</th>\n",
       "      <th>balcony</th>\n",
       "      <th>locality_name</th>\n",
       "      <th>airports_nearest</th>\n",
       "      <th>cityCenters_nearest</th>\n",
       "      <th>parks_around3000</th>\n",
       "      <th>parks_nearest</th>\n",
       "      <th>ponds_around3000</th>\n",
       "      <th>ponds_nearest</th>\n",
       "      <th>days_exposition</th>\n",
       "    </tr>\n",
       "  </thead>\n",
       "  <tbody>\n",
       "    <tr>\n",
       "      <th>0</th>\n",
       "      <td>20</td>\n",
       "      <td>13000000.0</td>\n",
       "      <td>108.0</td>\n",
       "      <td>2019-03-07T00:00:00</td>\n",
       "      <td>3</td>\n",
       "      <td>2.70</td>\n",
       "      <td>16.0</td>\n",
       "      <td>51.0</td>\n",
       "      <td>8</td>\n",
       "      <td>NaN</td>\n",
       "      <td>False</td>\n",
       "      <td>False</td>\n",
       "      <td>25.0</td>\n",
       "      <td>NaN</td>\n",
       "      <td>Санкт-Петербург</td>\n",
       "      <td>18863.0</td>\n",
       "      <td>16028.0</td>\n",
       "      <td>1.0</td>\n",
       "      <td>482.0</td>\n",
       "      <td>2.0</td>\n",
       "      <td>755.0</td>\n",
       "      <td>NaN</td>\n",
       "    </tr>\n",
       "    <tr>\n",
       "      <th>1</th>\n",
       "      <td>7</td>\n",
       "      <td>3350000.0</td>\n",
       "      <td>40.4</td>\n",
       "      <td>2018-12-04T00:00:00</td>\n",
       "      <td>1</td>\n",
       "      <td>NaN</td>\n",
       "      <td>11.0</td>\n",
       "      <td>18.6</td>\n",
       "      <td>1</td>\n",
       "      <td>NaN</td>\n",
       "      <td>False</td>\n",
       "      <td>False</td>\n",
       "      <td>11.0</td>\n",
       "      <td>2.0</td>\n",
       "      <td>посёлок Шушары</td>\n",
       "      <td>12817.0</td>\n",
       "      <td>18603.0</td>\n",
       "      <td>0.0</td>\n",
       "      <td>NaN</td>\n",
       "      <td>0.0</td>\n",
       "      <td>NaN</td>\n",
       "      <td>81.0</td>\n",
       "    </tr>\n",
       "    <tr>\n",
       "      <th>2</th>\n",
       "      <td>10</td>\n",
       "      <td>5196000.0</td>\n",
       "      <td>56.0</td>\n",
       "      <td>2015-08-20T00:00:00</td>\n",
       "      <td>2</td>\n",
       "      <td>NaN</td>\n",
       "      <td>5.0</td>\n",
       "      <td>34.3</td>\n",
       "      <td>4</td>\n",
       "      <td>NaN</td>\n",
       "      <td>False</td>\n",
       "      <td>False</td>\n",
       "      <td>8.3</td>\n",
       "      <td>0.0</td>\n",
       "      <td>Санкт-Петербург</td>\n",
       "      <td>21741.0</td>\n",
       "      <td>13933.0</td>\n",
       "      <td>1.0</td>\n",
       "      <td>90.0</td>\n",
       "      <td>2.0</td>\n",
       "      <td>574.0</td>\n",
       "      <td>558.0</td>\n",
       "    </tr>\n",
       "    <tr>\n",
       "      <th>3</th>\n",
       "      <td>0</td>\n",
       "      <td>64900000.0</td>\n",
       "      <td>159.0</td>\n",
       "      <td>2015-07-24T00:00:00</td>\n",
       "      <td>3</td>\n",
       "      <td>NaN</td>\n",
       "      <td>14.0</td>\n",
       "      <td>NaN</td>\n",
       "      <td>9</td>\n",
       "      <td>NaN</td>\n",
       "      <td>False</td>\n",
       "      <td>False</td>\n",
       "      <td>NaN</td>\n",
       "      <td>0.0</td>\n",
       "      <td>Санкт-Петербург</td>\n",
       "      <td>28098.0</td>\n",
       "      <td>6800.0</td>\n",
       "      <td>2.0</td>\n",
       "      <td>84.0</td>\n",
       "      <td>3.0</td>\n",
       "      <td>234.0</td>\n",
       "      <td>424.0</td>\n",
       "    </tr>\n",
       "    <tr>\n",
       "      <th>4</th>\n",
       "      <td>2</td>\n",
       "      <td>10000000.0</td>\n",
       "      <td>100.0</td>\n",
       "      <td>2018-06-19T00:00:00</td>\n",
       "      <td>2</td>\n",
       "      <td>3.03</td>\n",
       "      <td>14.0</td>\n",
       "      <td>32.0</td>\n",
       "      <td>13</td>\n",
       "      <td>NaN</td>\n",
       "      <td>False</td>\n",
       "      <td>False</td>\n",
       "      <td>41.0</td>\n",
       "      <td>NaN</td>\n",
       "      <td>Санкт-Петербург</td>\n",
       "      <td>31856.0</td>\n",
       "      <td>8098.0</td>\n",
       "      <td>2.0</td>\n",
       "      <td>112.0</td>\n",
       "      <td>1.0</td>\n",
       "      <td>48.0</td>\n",
       "      <td>121.0</td>\n",
       "    </tr>\n",
       "  </tbody>\n",
       "</table>\n",
       "</div>"
      ],
      "text/plain": [
       "   total_images  last_price  total_area first_day_exposition  rooms  \\\n",
       "0            20  13000000.0       108.0  2019-03-07T00:00:00      3   \n",
       "1             7   3350000.0        40.4  2018-12-04T00:00:00      1   \n",
       "2            10   5196000.0        56.0  2015-08-20T00:00:00      2   \n",
       "3             0  64900000.0       159.0  2015-07-24T00:00:00      3   \n",
       "4             2  10000000.0       100.0  2018-06-19T00:00:00      2   \n",
       "\n",
       "   ceiling_height  floors_total  living_area  floor is_apartment  studio  \\\n",
       "0            2.70          16.0         51.0      8          NaN   False   \n",
       "1             NaN          11.0         18.6      1          NaN   False   \n",
       "2             NaN           5.0         34.3      4          NaN   False   \n",
       "3             NaN          14.0          NaN      9          NaN   False   \n",
       "4            3.03          14.0         32.0     13          NaN   False   \n",
       "\n",
       "   open_plan  kitchen_area  balcony    locality_name  airports_nearest  \\\n",
       "0      False          25.0      NaN  Санкт-Петербург           18863.0   \n",
       "1      False          11.0      2.0   посёлок Шушары           12817.0   \n",
       "2      False           8.3      0.0  Санкт-Петербург           21741.0   \n",
       "3      False           NaN      0.0  Санкт-Петербург           28098.0   \n",
       "4      False          41.0      NaN  Санкт-Петербург           31856.0   \n",
       "\n",
       "   cityCenters_nearest  parks_around3000  parks_nearest  ponds_around3000  \\\n",
       "0              16028.0               1.0          482.0               2.0   \n",
       "1              18603.0               0.0            NaN               0.0   \n",
       "2              13933.0               1.0           90.0               2.0   \n",
       "3               6800.0               2.0           84.0               3.0   \n",
       "4               8098.0               2.0          112.0               1.0   \n",
       "\n",
       "   ponds_nearest  days_exposition  \n",
       "0          755.0              NaN  \n",
       "1            NaN             81.0  \n",
       "2          574.0            558.0  \n",
       "3          234.0            424.0  \n",
       "4           48.0            121.0  "
      ]
     },
     "execution_count": 1,
     "metadata": {},
     "output_type": "execute_result"
    }
   ],
   "source": [
    "import pandas as pd\n",
    "import numpy as np\n",
    "\n",
    "data = pd.read_csv('/datasets/real_estate_data.csv', sep='\\t')\n",
    "pd.set_option('display.max_columns', None)\n",
    "data.head()"
   ]
  },
  {
   "cell_type": "code",
   "execution_count": 2,
   "metadata": {},
   "outputs": [
    {
     "name": "stdout",
     "output_type": "stream",
     "text": [
      "<class 'pandas.core.frame.DataFrame'>\n",
      "RangeIndex: 23699 entries, 0 to 23698\n",
      "Data columns (total 22 columns):\n",
      " #   Column                Non-Null Count  Dtype  \n",
      "---  ------                --------------  -----  \n",
      " 0   total_images          23699 non-null  int64  \n",
      " 1   last_price            23699 non-null  float64\n",
      " 2   total_area            23699 non-null  float64\n",
      " 3   first_day_exposition  23699 non-null  object \n",
      " 4   rooms                 23699 non-null  int64  \n",
      " 5   ceiling_height        14504 non-null  float64\n",
      " 6   floors_total          23613 non-null  float64\n",
      " 7   living_area           21796 non-null  float64\n",
      " 8   floor                 23699 non-null  int64  \n",
      " 9   is_apartment          2775 non-null   object \n",
      " 10  studio                23699 non-null  bool   \n",
      " 11  open_plan             23699 non-null  bool   \n",
      " 12  kitchen_area          21421 non-null  float64\n",
      " 13  balcony               12180 non-null  float64\n",
      " 14  locality_name         23650 non-null  object \n",
      " 15  airports_nearest      18157 non-null  float64\n",
      " 16  cityCenters_nearest   18180 non-null  float64\n",
      " 17  parks_around3000      18181 non-null  float64\n",
      " 18  parks_nearest         8079 non-null   float64\n",
      " 19  ponds_around3000      18181 non-null  float64\n",
      " 20  ponds_nearest         9110 non-null   float64\n",
      " 21  days_exposition       20518 non-null  float64\n",
      "dtypes: bool(2), float64(14), int64(3), object(3)\n",
      "memory usage: 3.7+ MB\n"
     ]
    }
   ],
   "source": [
    "data.info()"
   ]
  },
  {
   "cell_type": "code",
   "execution_count": 3,
   "metadata": {
    "scrolled": true
   },
   "outputs": [
    {
     "data": {
      "image/png": "[encoded data removed]",
      "text/plain": [
       "<Figure size 1080x1440 with 20 Axes>"
      ]
     },
     "metadata": {
      "needs_background": "light"
     },
     "output_type": "display_data"
    }
   ],
   "source": [
    "data.hist(figsize=(15, 20));\n"
   ]
  },
  {
   "cell_type": "markdown",
   "metadata": {},
   "source": [
    "Данные имеют пропуски, нверный тип данных, дубликаты явные и неявные, разный регистр названия колонок, нетипичные значения."
   ]
  },
  {
   "cell_type": "markdown",
   "metadata": {},
   "source": [
    "### Предобработка данных"
   ]
  },
  {
   "cell_type": "code",
   "execution_count": 4,
   "metadata": {},
   "outputs": [],
   "source": [
    "data.rename(columns={'cityCenters_nearest' : 'city_centers_nearest'}, inplace=True)#запись в нижнем регистре"
   ]
  },
  {
   "cell_type": "code",
   "execution_count": 5,
   "metadata": {},
   "outputs": [
    {
     "data": {
      "text/plain": [
       "total_images                0\n",
       "last_price                  0\n",
       "total_area                  0\n",
       "first_day_exposition        0\n",
       "rooms                       0\n",
       "ceiling_height           9195\n",
       "floors_total               86\n",
       "living_area              1903\n",
       "floor                       0\n",
       "is_apartment            20924\n",
       "studio                      0\n",
       "open_plan                   0\n",
       "kitchen_area             2278\n",
       "balcony                 11519\n",
       "locality_name              49\n",
       "airports_nearest         5542\n",
       "city_centers_nearest     5519\n",
       "parks_around3000         5518\n",
       "parks_nearest           15620\n",
       "ponds_around3000         5518\n",
       "ponds_nearest           14589\n",
       "days_exposition          3181\n",
       "dtype: int64"
      ]
     },
     "execution_count": 5,
     "metadata": {},
     "output_type": "execute_result"
    }
   ],
   "source": [
    "data.isna().sum()#поиск пропусков и их количество"
   ]
  },
  {
   "cell_type": "markdown",
   "metadata": {},
   "source": [
    "Количество обнаруженных Null из 23699:\n",
    "9195 ceiling_height - около 1/3 объявлений пропущена высота потолков, остается Null.\n",
    "86 floors_total - данные не заполнены, из выборки, остается Null.\n",
    "1903 living_area - остается Null.\n",
    "20924 is_apartment - возможно, это не апартаменты и присвоить False.\n",
    "2278 kitchen_area - проверить это - студия ли, если нет, то останется Null.\n",
    "11519 balcony - предположительно нет балконов, заполняем 0\n",
    "49 locality_name - данные были не заполнены, остается Null\n",
    "5542 airports_nearest - аэропортов рядом нет, остается Null\n",
    "5519 city_centers_nearest - центр города не близко, остается Null\n",
    "5518 parks_around3000 - парки отсутствуют в радиусе 3км, остается Null\n",
    "15620 parks_nearest - парки отсутствуют, остается Null\n",
    "5518 ponds_around3000 - пруды отсутствуют в радиусе 3км, остается Null\n",
    "14589 ponds_nearest - пруды отсутствуют, остается Null\n",
    "3181 days_exposition - объявление не было опубликовано, остается Null"
   ]
  },
  {
   "cell_type": "code",
   "execution_count": 6,
   "metadata": {},
   "outputs": [
    {
     "data": {
      "image/png": "[encoded data removed]",
      "text/plain": [
       "<Figure size 1368x432 with 1 Axes>"
      ]
     },
     "metadata": {
      "needs_background": "light"
     },
     "output_type": "display_data"
    }
   ],
   "source": [
    "def pass_value_barh(data):#написание функции с бритвой Оккама\n",
    "    (\n",
    "        (data.isna().mean()*100)\n",
    "        .to_frame()\n",
    "        .rename(columns = {0:'space'})\n",
    "        .query('space > 0')\n",
    "        .sort_values(by = 'space', ascending = True)\n",
    "        .plot(kind= 'barh', figsize=(19,6), rot = -5, legend = False, fontsize = 16)\n",
    "        .set_title('Пропуски' + \"\\n\", fontsize = 22, color = 'SteelBlue')    \n",
    "    );    \n",
    "pass_value_barh(data)"
   ]
  },
  {
   "cell_type": "code",
   "execution_count": 7,
   "metadata": {},
   "outputs": [],
   "source": [
    "data['balcony'] = data['balcony'].fillna(0)#замена Null 'балконы' на '0'"
   ]
  },
  {
   "cell_type": "code",
   "execution_count": 8,
   "metadata": {},
   "outputs": [],
   "source": [
    "data['is_apartment'] = data['is_apartment'].fillna('False')#замена Null 'апартаменты' на 'False'"
   ]
  },
  {
   "cell_type": "code",
   "execution_count": 9,
   "metadata": {},
   "outputs": [],
   "source": [
    "data['locality_name'].dropna(inplace=True)#удаление строки с Null 'locality_name'"
   ]
  },
  {
   "cell_type": "code",
   "execution_count": 10,
   "metadata": {},
   "outputs": [],
   "source": [
    "data['floors_total'].dropna(inplace=True)#удаление строки с Null 'floors_total'"
   ]
  },
  {
   "cell_type": "code",
   "execution_count": 11,
   "metadata": {},
   "outputs": [],
   "source": [
    "data['ceiling_height'] = data['ceiling_height'].fillna(2.70)"
   ]
  },
  {
   "cell_type": "code",
   "execution_count": 12,
   "metadata": {},
   "outputs": [
    {
     "name": "stdout",
     "output_type": "stream",
     "text": [
      "<class 'pandas.core.frame.DataFrame'>\n",
      "RangeIndex: 23699 entries, 0 to 23698\n",
      "Data columns (total 22 columns):\n",
      " #   Column                Non-Null Count  Dtype  \n",
      "---  ------                --------------  -----  \n",
      " 0   total_images          23699 non-null  int64  \n",
      " 1   last_price            23699 non-null  float64\n",
      " 2   total_area            23699 non-null  float64\n",
      " 3   first_day_exposition  23699 non-null  object \n",
      " 4   rooms                 23699 non-null  int64  \n",
      " 5   ceiling_height        23699 non-null  float64\n",
      " 6   floors_total          23613 non-null  float64\n",
      " 7   living_area           21796 non-null  float64\n",
      " 8   floor                 23699 non-null  int64  \n",
      " 9   is_apartment          23699 non-null  object \n",
      " 10  studio                23699 non-null  bool   \n",
      " 11  open_plan             23699 non-null  bool   \n",
      " 12  kitchen_area          21421 non-null  float64\n",
      " 13  balcony               23699 non-null  float64\n",
      " 14  locality_name         23650 non-null  object \n",
      " 15  airports_nearest      18157 non-null  float64\n",
      " 16  city_centers_nearest  18180 non-null  float64\n",
      " 17  parks_around3000      18181 non-null  float64\n",
      " 18  parks_nearest         8079 non-null   float64\n",
      " 19  ponds_around3000      18181 non-null  float64\n",
      " 20  ponds_nearest         9110 non-null   float64\n",
      " 21  days_exposition       20518 non-null  float64\n",
      "dtypes: bool(2), float64(14), int64(3), object(3)\n",
      "memory usage: 3.7+ MB\n"
     ]
    }
   ],
   "source": [
    "data.info()"
   ]
  },
  {
   "cell_type": "markdown",
   "metadata": {},
   "source": [
    "Необходимо сменить тип данных для:\n",
    "last_price - int64\n",
    "first_day_exposition - date\n",
    "floors_total - Int8 nullable-integer extension dtype\n",
    "is_apartment - bool\n",
    "balcony - int8\n",
    "days_exposition - int64\n",
    "Изменение типа для first_day_exposition требуется, чтобы работать с датой было удобно.\n",
    "Изменение типа для is_apartment требуется, чтобы работать с булевым значением и сэкономить память.\n",
    "Изменение типов других колонок требуется для экономии памяти."
   ]
  },
  {
   "cell_type": "code",
   "execution_count": 13,
   "metadata": {},
   "outputs": [
    {
     "name": "stdout",
     "output_type": "stream",
     "text": [
      "1ok\n",
      "2ok\n",
      "3ok\n",
      "4ok\n",
      "5ok\n",
      "6ok\n"
     ]
    }
   ],
   "source": [
    "#изменение типов данных с помощью конструкции try-except для работы с непредсказуемым поведением, т.е. на случай ошибки\n",
    "try:\n",
    "    data['last_price'] = data['last_price'].astype('int64')\n",
    "    print('1ok')\n",
    "except:\n",
    "    print('last_price int type conversion fail')\n",
    "    \n",
    "try:    \n",
    "    data['first_day_exposition'] = pd.to_datetime(data['first_day_exposition'],format='%Y-%m-%dT%H:%M:%S')\n",
    "    print('2ok')\n",
    "except:\n",
    "    print('first_day_exposition to_datetime type conversion fail')\n",
    "    \n",
    "try:\n",
    "    data['floors_total'] =  data['floors_total'].astype('Int8')\n",
    "    print('3ok')\n",
    "except:\n",
    "    print('floors_total int8 type conversion fail')\n",
    "      \n",
    "try:\n",
    "    data['is_apartment'] = data['is_apartment'].map({'False':False, 'True':True})\n",
    "    print('4ok')\n",
    "except:\n",
    "    print('is_apartment bool type conversion fail')\n",
    "        \n",
    "try:\n",
    "    data['balcony'] = data['balcony'].astype('int8')\n",
    "    print('5ok')\n",
    "except:\n",
    "    print('balcony int8 type conversion fail')\n",
    "    \n",
    "try:\n",
    "    data['days_exposition'] = np.floor(pd.to_numeric(data['days_exposition'], errors='coerce')).astype('Int64')\n",
    "    print('6ok')\n",
    "except:\n",
    "    print('days_exposition int64 type conversion fail')"
   ]
  },
  {
   "cell_type": "code",
   "execution_count": 14,
   "metadata": {},
   "outputs": [
    {
     "name": "stdout",
     "output_type": "stream",
     "text": [
      "<class 'pandas.core.frame.DataFrame'>\n",
      "RangeIndex: 23699 entries, 0 to 23698\n",
      "Data columns (total 22 columns):\n",
      " #   Column                Non-Null Count  Dtype         \n",
      "---  ------                --------------  -----         \n",
      " 0   total_images          23699 non-null  int64         \n",
      " 1   last_price            23699 non-null  int64         \n",
      " 2   total_area            23699 non-null  float64       \n",
      " 3   first_day_exposition  23699 non-null  datetime64[ns]\n",
      " 4   rooms                 23699 non-null  int64         \n",
      " 5   ceiling_height        23699 non-null  float64       \n",
      " 6   floors_total          23613 non-null  Int8          \n",
      " 7   living_area           21796 non-null  float64       \n",
      " 8   floor                 23699 non-null  int64         \n",
      " 9   is_apartment          20924 non-null  object        \n",
      " 10  studio                23699 non-null  bool          \n",
      " 11  open_plan             23699 non-null  bool          \n",
      " 12  kitchen_area          21421 non-null  float64       \n",
      " 13  balcony               23699 non-null  int8          \n",
      " 14  locality_name         23650 non-null  object        \n",
      " 15  airports_nearest      18157 non-null  float64       \n",
      " 16  city_centers_nearest  18180 non-null  float64       \n",
      " 17  parks_around3000      18181 non-null  float64       \n",
      " 18  parks_nearest         8079 non-null   float64       \n",
      " 19  ponds_around3000      18181 non-null  float64       \n",
      " 20  ponds_nearest         9110 non-null   float64       \n",
      " 21  days_exposition       20518 non-null  Int64         \n",
      "dtypes: Int64(1), Int8(1), bool(2), datetime64[ns](1), float64(10), int64(4), int8(1), object(2)\n",
      "memory usage: 3.4+ MB\n"
     ]
    }
   ],
   "source": [
    "data.info()"
   ]
  },
  {
   "cell_type": "code",
   "execution_count": 15,
   "metadata": {},
   "outputs": [
    {
     "name": "stdout",
     "output_type": "stream",
     "text": [
      "Количество уникальных занчений locality_name: 365\n"
     ]
    }
   ],
   "source": [
    "def loc_length():\n",
    "    return print('Количество уникальных занчений locality_name:', data['locality_name'].unique().shape[0])\n",
    "loc_length()"
   ]
  },
  {
   "cell_type": "code",
   "execution_count": 16,
   "metadata": {},
   "outputs": [],
   "source": [
    "#нижний регистр для всех названий\n",
    "data['locality_name'] = data['locality_name'].str.lower()"
   ]
  },
  {
   "cell_type": "code",
   "execution_count": 17,
   "metadata": {},
   "outputs": [],
   "source": [
    "#замена 'ё' на 'е'\n",
    "data['locality_name'] = data['locality_name'].str.replace('ё', 'е')"
   ]
  },
  {
   "cell_type": "code",
   "execution_count": 18,
   "metadata": {},
   "outputs": [],
   "source": [
    "#замена 'городской поселок' на 'поселок городского типа'\n",
    "data['locality_name'] = data['locality_name'].str.replace('городской поселок','поселок городского типа')"
   ]
  },
  {
   "cell_type": "code",
   "execution_count": 19,
   "metadata": {},
   "outputs": [
    {
     "name": "stdout",
     "output_type": "stream",
     "text": [
      "Количетво явных дубликатов: 0\n"
     ]
    }
   ],
   "source": [
    "#проверка дубликатов\n",
    "print('Количетво явных дубликатов:', data.duplicated().sum())"
   ]
  },
  {
   "cell_type": "code",
   "execution_count": 20,
   "metadata": {},
   "outputs": [
    {
     "name": "stdout",
     "output_type": "stream",
     "text": [
      "Ошибка в цикле из-за значения: nan\n"
     ]
    }
   ],
   "source": [
    "locality_township = []\n",
    "for x in data['locality_name'].unique():\n",
    "    try:\n",
    "        if 'городского типа' in x:\n",
    "            locality_township.append(x)\n",
    "    except:\n",
    "        print('Ошибка в цикле из-за значения:', x)      "
   ]
  },
  {
   "cell_type": "code",
   "execution_count": 21,
   "metadata": {},
   "outputs": [
    {
     "data": {
      "text/plain": [
       "0                      санкт-петербург\n",
       "1                       поселок шушары\n",
       "2      поселок городского типа янино-1\n",
       "3                    поселок парголово\n",
       "4                       поселок мурино\n",
       "                    ...               \n",
       "319                     деревня нижняя\n",
       "320          коттеджный поселок лесное\n",
       "321                  деревня тихковицы\n",
       "322             деревня борисова грива\n",
       "323               поселок дзержинского\n",
       "Length: 324, dtype: object"
      ]
     },
     "execution_count": 21,
     "metadata": {},
     "output_type": "execute_result"
    }
   ],
   "source": [
    "unique_locality = pd.Series(data['locality_name'].unique())#уникальные значения населенных пунктов\n",
    "unique_locality"
   ]
  },
  {
   "cell_type": "code",
   "execution_count": 22,
   "metadata": {},
   "outputs": [
    {
     "data": {
      "text/html": [
       "<div>\n",
       "<style scoped>\n",
       "    .dataframe tbody tr th:only-of-type {\n",
       "        vertical-align: middle;\n",
       "    }\n",
       "\n",
       "    .dataframe tbody tr th {\n",
       "        vertical-align: top;\n",
       "    }\n",
       "\n",
       "    .dataframe thead th {\n",
       "        text-align: right;\n",
       "    }\n",
       "</style>\n",
       "<table border=\"1\" class=\"dataframe\">\n",
       "  <thead>\n",
       "    <tr style=\"text-align: right;\">\n",
       "      <th></th>\n",
       "      <th>name</th>\n",
       "    </tr>\n",
       "  </thead>\n",
       "  <tbody>\n",
       "    <tr>\n",
       "      <th>0</th>\n",
       "      <td>янино-1</td>\n",
       "    </tr>\n",
       "    <tr>\n",
       "      <th>1</th>\n",
       "      <td>красный бор</td>\n",
       "    </tr>\n",
       "    <tr>\n",
       "      <th>2</th>\n",
       "      <td>лебяжье</td>\n",
       "    </tr>\n",
       "    <tr>\n",
       "      <th>3</th>\n",
       "      <td>сиверский</td>\n",
       "    </tr>\n",
       "    <tr>\n",
       "      <th>4</th>\n",
       "      <td>кузьмоловский</td>\n",
       "    </tr>\n",
       "    <tr>\n",
       "      <th>5</th>\n",
       "      <td>ефимовский</td>\n",
       "    </tr>\n",
       "    <tr>\n",
       "      <th>6</th>\n",
       "      <td>рощино</td>\n",
       "    </tr>\n",
       "    <tr>\n",
       "      <th>7</th>\n",
       "      <td>синявино</td>\n",
       "    </tr>\n",
       "    <tr>\n",
       "      <th>8</th>\n",
       "      <td>советский</td>\n",
       "    </tr>\n",
       "    <tr>\n",
       "      <th>9</th>\n",
       "      <td>токсово</td>\n",
       "    </tr>\n",
       "    <tr>\n",
       "      <th>10</th>\n",
       "      <td>вырица</td>\n",
       "    </tr>\n",
       "    <tr>\n",
       "      <th>11</th>\n",
       "      <td>большая ижора</td>\n",
       "    </tr>\n",
       "    <tr>\n",
       "      <th>12</th>\n",
       "      <td>павлово</td>\n",
       "    </tr>\n",
       "    <tr>\n",
       "      <th>13</th>\n",
       "      <td>лесогорский</td>\n",
       "    </tr>\n",
       "    <tr>\n",
       "      <th>14</th>\n",
       "      <td>рахья</td>\n",
       "    </tr>\n",
       "    <tr>\n",
       "      <th>15</th>\n",
       "      <td>новоселье</td>\n",
       "    </tr>\n",
       "    <tr>\n",
       "      <th>16</th>\n",
       "      <td>федоровское</td>\n",
       "    </tr>\n",
       "    <tr>\n",
       "      <th>17</th>\n",
       "      <td>имени свердлова</td>\n",
       "    </tr>\n",
       "    <tr>\n",
       "      <th>18</th>\n",
       "      <td>мга</td>\n",
       "    </tr>\n",
       "    <tr>\n",
       "      <th>19</th>\n",
       "      <td>кузнечное</td>\n",
       "    </tr>\n",
       "    <tr>\n",
       "      <th>20</th>\n",
       "      <td>имени морозова</td>\n",
       "    </tr>\n",
       "    <tr>\n",
       "      <th>21</th>\n",
       "      <td>тайцы</td>\n",
       "    </tr>\n",
       "    <tr>\n",
       "      <th>22</th>\n",
       "      <td>ульяновка</td>\n",
       "    </tr>\n",
       "    <tr>\n",
       "      <th>23</th>\n",
       "      <td>дубровка</td>\n",
       "    </tr>\n",
       "    <tr>\n",
       "      <th>24</th>\n",
       "      <td>приладожский</td>\n",
       "    </tr>\n",
       "    <tr>\n",
       "      <th>25</th>\n",
       "      <td>никольский</td>\n",
       "    </tr>\n",
       "    <tr>\n",
       "      <th>26</th>\n",
       "      <td>назия</td>\n",
       "    </tr>\n",
       "    <tr>\n",
       "      <th>27</th>\n",
       "      <td>рябово</td>\n",
       "    </tr>\n",
       "    <tr>\n",
       "      <th>28</th>\n",
       "      <td>важины</td>\n",
       "    </tr>\n",
       "    <tr>\n",
       "      <th>29</th>\n",
       "      <td>форносово</td>\n",
       "    </tr>\n",
       "    <tr>\n",
       "      <th>30</th>\n",
       "      <td>виллози</td>\n",
       "    </tr>\n",
       "    <tr>\n",
       "      <th>31</th>\n",
       "      <td>будогощь</td>\n",
       "    </tr>\n",
       "    <tr>\n",
       "      <th>32</th>\n",
       "      <td>дружная горка</td>\n",
       "    </tr>\n",
       "    <tr>\n",
       "      <th>33</th>\n",
       "      <td>вознесенье</td>\n",
       "    </tr>\n",
       "    <tr>\n",
       "      <th>34</th>\n",
       "      <td>кондратьево</td>\n",
       "    </tr>\n",
       "    <tr>\n",
       "      <th>35</th>\n",
       "      <td>свирьстрой</td>\n",
       "    </tr>\n",
       "  </tbody>\n",
       "</table>\n",
       "</div>"
      ],
      "text/plain": [
       "               name\n",
       "0           янино-1\n",
       "1       красный бор\n",
       "2           лебяжье\n",
       "3         сиверский\n",
       "4     кузьмоловский\n",
       "5        ефимовский\n",
       "6            рощино\n",
       "7          синявино\n",
       "8         советский\n",
       "9           токсово\n",
       "10           вырица\n",
       "11    большая ижора\n",
       "12          павлово\n",
       "13      лесогорский\n",
       "14            рахья\n",
       "15        новоселье\n",
       "16      федоровское\n",
       "17  имени свердлова\n",
       "18              мга\n",
       "19        кузнечное\n",
       "20   имени морозова\n",
       "21            тайцы\n",
       "22        ульяновка\n",
       "23         дубровка\n",
       "24     приладожский\n",
       "25       никольский\n",
       "26            назия\n",
       "27           рябово\n",
       "28           важины\n",
       "29        форносово\n",
       "30          виллози\n",
       "31         будогощь\n",
       "32    дружная горка\n",
       "33       вознесенье\n",
       "34      кондратьево\n",
       "35       свирьстрой"
      ]
     },
     "execution_count": 22,
     "metadata": {},
     "output_type": "execute_result"
    }
   ],
   "source": [
    "#преобразование DataFrame для подсчета количество входжений названия посёлков городского типа в 'unique_locality'\n",
    "locality_df = pd.DataFrame(locality_township)\n",
    "locality_df = locality_df.rename(columns={0:'name'})\n",
    "locality_df['name'] = locality_df['name'].str.replace('поселок городского типа ', '')\n",
    "locality_df"
   ]
  },
  {
   "cell_type": "code",
   "execution_count": 23,
   "metadata": {},
   "outputs": [
    {
     "name": "stdout",
     "output_type": "stream",
     "text": [
      "павлово\n",
      "рахья\n",
      "федоровское\n",
      "приладожский\n",
      "рябово\n",
      "Количество уникальных занчений locality_name: 323\n"
     ]
    }
   ],
   "source": [
    "#устранение неявных дубликатов\n",
    "for index, row in locality_df.iterrows():\n",
    "     if unique_locality.str.contains(row['name']).sum() > 1:\n",
    "        print(row['name'])\n",
    "        data['locality_name'] = data['locality_name'].str.replace('поселок '+row['name'], 'поселок городского типа '+row['name'])\n",
    "loc_length()"
   ]
  },
  {
   "cell_type": "code",
   "execution_count": 24,
   "metadata": {},
   "outputs": [
    {
     "data": {
      "text/html": [
       "<div>\n",
       "<style scoped>\n",
       "    .dataframe tbody tr th:only-of-type {\n",
       "        vertical-align: middle;\n",
       "    }\n",
       "\n",
       "    .dataframe tbody tr th {\n",
       "        vertical-align: top;\n",
       "    }\n",
       "\n",
       "    .dataframe thead th {\n",
       "        text-align: right;\n",
       "    }\n",
       "</style>\n",
       "<table border=\"1\" class=\"dataframe\">\n",
       "  <thead>\n",
       "    <tr style=\"text-align: right;\">\n",
       "      <th></th>\n",
       "      <th>total_images</th>\n",
       "      <th>last_price</th>\n",
       "      <th>total_area</th>\n",
       "      <th>rooms</th>\n",
       "      <th>ceiling_height</th>\n",
       "      <th>floors_total</th>\n",
       "      <th>living_area</th>\n",
       "      <th>floor</th>\n",
       "      <th>kitchen_area</th>\n",
       "      <th>balcony</th>\n",
       "      <th>airports_nearest</th>\n",
       "      <th>city_centers_nearest</th>\n",
       "      <th>parks_around3000</th>\n",
       "      <th>parks_nearest</th>\n",
       "      <th>ponds_around3000</th>\n",
       "      <th>ponds_nearest</th>\n",
       "      <th>days_exposition</th>\n",
       "    </tr>\n",
       "  </thead>\n",
       "  <tbody>\n",
       "    <tr>\n",
       "      <th>count</th>\n",
       "      <td>23699.000000</td>\n",
       "      <td>2.369900e+04</td>\n",
       "      <td>23699.000000</td>\n",
       "      <td>23699.000000</td>\n",
       "      <td>23699.000000</td>\n",
       "      <td>23613.000000</td>\n",
       "      <td>21796.000000</td>\n",
       "      <td>23699.000000</td>\n",
       "      <td>21421.000000</td>\n",
       "      <td>23699.000000</td>\n",
       "      <td>18157.000000</td>\n",
       "      <td>18180.000000</td>\n",
       "      <td>18181.000000</td>\n",
       "      <td>8079.000000</td>\n",
       "      <td>18181.000000</td>\n",
       "      <td>9110.000000</td>\n",
       "      <td>20518.000000</td>\n",
       "    </tr>\n",
       "    <tr>\n",
       "      <th>mean</th>\n",
       "      <td>9.858475</td>\n",
       "      <td>6.541549e+06</td>\n",
       "      <td>60.348651</td>\n",
       "      <td>2.070636</td>\n",
       "      <td>2.743758</td>\n",
       "      <td>10.673824</td>\n",
       "      <td>34.457852</td>\n",
       "      <td>5.892358</td>\n",
       "      <td>10.569807</td>\n",
       "      <td>0.591080</td>\n",
       "      <td>28793.672193</td>\n",
       "      <td>14191.277833</td>\n",
       "      <td>0.611408</td>\n",
       "      <td>490.804555</td>\n",
       "      <td>0.770255</td>\n",
       "      <td>517.980900</td>\n",
       "      <td>180.888634</td>\n",
       "    </tr>\n",
       "    <tr>\n",
       "      <th>std</th>\n",
       "      <td>5.682529</td>\n",
       "      <td>1.088701e+07</td>\n",
       "      <td>35.654083</td>\n",
       "      <td>1.078405</td>\n",
       "      <td>0.987138</td>\n",
       "      <td>6.597173</td>\n",
       "      <td>22.030445</td>\n",
       "      <td>4.885249</td>\n",
       "      <td>5.905438</td>\n",
       "      <td>0.959298</td>\n",
       "      <td>12630.880622</td>\n",
       "      <td>8608.386210</td>\n",
       "      <td>0.802074</td>\n",
       "      <td>342.317995</td>\n",
       "      <td>0.938346</td>\n",
       "      <td>277.720643</td>\n",
       "      <td>219.727988</td>\n",
       "    </tr>\n",
       "    <tr>\n",
       "      <th>min</th>\n",
       "      <td>0.000000</td>\n",
       "      <td>1.219000e+04</td>\n",
       "      <td>12.000000</td>\n",
       "      <td>0.000000</td>\n",
       "      <td>1.000000</td>\n",
       "      <td>1.000000</td>\n",
       "      <td>2.000000</td>\n",
       "      <td>1.000000</td>\n",
       "      <td>1.300000</td>\n",
       "      <td>0.000000</td>\n",
       "      <td>0.000000</td>\n",
       "      <td>181.000000</td>\n",
       "      <td>0.000000</td>\n",
       "      <td>1.000000</td>\n",
       "      <td>0.000000</td>\n",
       "      <td>13.000000</td>\n",
       "      <td>1.000000</td>\n",
       "    </tr>\n",
       "    <tr>\n",
       "      <th>25%</th>\n",
       "      <td>6.000000</td>\n",
       "      <td>3.400000e+06</td>\n",
       "      <td>40.000000</td>\n",
       "      <td>1.000000</td>\n",
       "      <td>2.600000</td>\n",
       "      <td>5.000000</td>\n",
       "      <td>18.600000</td>\n",
       "      <td>2.000000</td>\n",
       "      <td>7.000000</td>\n",
       "      <td>0.000000</td>\n",
       "      <td>18585.000000</td>\n",
       "      <td>9238.000000</td>\n",
       "      <td>0.000000</td>\n",
       "      <td>288.000000</td>\n",
       "      <td>0.000000</td>\n",
       "      <td>294.000000</td>\n",
       "      <td>45.000000</td>\n",
       "    </tr>\n",
       "    <tr>\n",
       "      <th>50%</th>\n",
       "      <td>9.000000</td>\n",
       "      <td>4.650000e+06</td>\n",
       "      <td>52.000000</td>\n",
       "      <td>2.000000</td>\n",
       "      <td>2.700000</td>\n",
       "      <td>9.000000</td>\n",
       "      <td>30.000000</td>\n",
       "      <td>4.000000</td>\n",
       "      <td>9.100000</td>\n",
       "      <td>0.000000</td>\n",
       "      <td>26726.000000</td>\n",
       "      <td>13098.500000</td>\n",
       "      <td>0.000000</td>\n",
       "      <td>455.000000</td>\n",
       "      <td>1.000000</td>\n",
       "      <td>502.000000</td>\n",
       "      <td>95.000000</td>\n",
       "    </tr>\n",
       "    <tr>\n",
       "      <th>75%</th>\n",
       "      <td>14.000000</td>\n",
       "      <td>6.800000e+06</td>\n",
       "      <td>69.900000</td>\n",
       "      <td>3.000000</td>\n",
       "      <td>2.700000</td>\n",
       "      <td>16.000000</td>\n",
       "      <td>42.300000</td>\n",
       "      <td>8.000000</td>\n",
       "      <td>12.000000</td>\n",
       "      <td>1.000000</td>\n",
       "      <td>37273.000000</td>\n",
       "      <td>16293.000000</td>\n",
       "      <td>1.000000</td>\n",
       "      <td>612.000000</td>\n",
       "      <td>1.000000</td>\n",
       "      <td>729.000000</td>\n",
       "      <td>232.000000</td>\n",
       "    </tr>\n",
       "    <tr>\n",
       "      <th>max</th>\n",
       "      <td>50.000000</td>\n",
       "      <td>7.630000e+08</td>\n",
       "      <td>900.000000</td>\n",
       "      <td>19.000000</td>\n",
       "      <td>100.000000</td>\n",
       "      <td>60.000000</td>\n",
       "      <td>409.700000</td>\n",
       "      <td>33.000000</td>\n",
       "      <td>112.000000</td>\n",
       "      <td>5.000000</td>\n",
       "      <td>84869.000000</td>\n",
       "      <td>65968.000000</td>\n",
       "      <td>3.000000</td>\n",
       "      <td>3190.000000</td>\n",
       "      <td>3.000000</td>\n",
       "      <td>1344.000000</td>\n",
       "      <td>1580.000000</td>\n",
       "    </tr>\n",
       "  </tbody>\n",
       "</table>\n",
       "</div>"
      ],
      "text/plain": [
       "       total_images    last_price    total_area         rooms  ceiling_height  \\\n",
       "count  23699.000000  2.369900e+04  23699.000000  23699.000000    23699.000000   \n",
       "mean       9.858475  6.541549e+06     60.348651      2.070636        2.743758   \n",
       "std        5.682529  1.088701e+07     35.654083      1.078405        0.987138   \n",
       "min        0.000000  1.219000e+04     12.000000      0.000000        1.000000   \n",
       "25%        6.000000  3.400000e+06     40.000000      1.000000        2.600000   \n",
       "50%        9.000000  4.650000e+06     52.000000      2.000000        2.700000   \n",
       "75%       14.000000  6.800000e+06     69.900000      3.000000        2.700000   \n",
       "max       50.000000  7.630000e+08    900.000000     19.000000      100.000000   \n",
       "\n",
       "       floors_total   living_area         floor  kitchen_area       balcony  \\\n",
       "count  23613.000000  21796.000000  23699.000000  21421.000000  23699.000000   \n",
       "mean      10.673824     34.457852      5.892358     10.569807      0.591080   \n",
       "std        6.597173     22.030445      4.885249      5.905438      0.959298   \n",
       "min        1.000000      2.000000      1.000000      1.300000      0.000000   \n",
       "25%        5.000000     18.600000      2.000000      7.000000      0.000000   \n",
       "50%        9.000000     30.000000      4.000000      9.100000      0.000000   \n",
       "75%       16.000000     42.300000      8.000000     12.000000      1.000000   \n",
       "max       60.000000    409.700000     33.000000    112.000000      5.000000   \n",
       "\n",
       "       airports_nearest  city_centers_nearest  parks_around3000  \\\n",
       "count      18157.000000          18180.000000      18181.000000   \n",
       "mean       28793.672193          14191.277833          0.611408   \n",
       "std        12630.880622           8608.386210          0.802074   \n",
       "min            0.000000            181.000000          0.000000   \n",
       "25%        18585.000000           9238.000000          0.000000   \n",
       "50%        26726.000000          13098.500000          0.000000   \n",
       "75%        37273.000000          16293.000000          1.000000   \n",
       "max        84869.000000          65968.000000          3.000000   \n",
       "\n",
       "       parks_nearest  ponds_around3000  ponds_nearest  days_exposition  \n",
       "count    8079.000000      18181.000000    9110.000000     20518.000000  \n",
       "mean      490.804555          0.770255     517.980900       180.888634  \n",
       "std       342.317995          0.938346     277.720643       219.727988  \n",
       "min         1.000000          0.000000      13.000000         1.000000  \n",
       "25%       288.000000          0.000000     294.000000        45.000000  \n",
       "50%       455.000000          1.000000     502.000000        95.000000  \n",
       "75%       612.000000          1.000000     729.000000       232.000000  \n",
       "max      3190.000000          3.000000    1344.000000      1580.000000  "
      ]
     },
     "execution_count": 24,
     "metadata": {},
     "output_type": "execute_result"
    }
   ],
   "source": [
    "data.describe()"
   ]
  },
  {
   "cell_type": "code",
   "execution_count": 25,
   "metadata": {},
   "outputs": [
    {
     "name": "stdout",
     "output_type": "stream",
     "text": [
      "Квартир стоимостью 0: 0\n",
      "Квартир стоимостью меньше 100.000: 1\n",
      "Квартир стоимостью меньше 1.000.000: 20917\n",
      "Квартир стоимостью больше 100.000.000: 37\n"
     ]
    }
   ],
   "source": [
    "print('Квартир стоимостью 0:', data.query('last_price == 0')['last_price'].count())\n",
    "print('Квартир стоимостью меньше 100.000:', data.query('last_price < 1e+05')['last_price'].count())\n",
    "print('Квартир стоимостью меньше 1.000.000:', data.query('last_price < 1e+07')['last_price'].count())\n",
    "print('Квартир стоимостью больше 100.000.000:', data.query('last_price > 1e+08')['last_price'].count())\n",
    "data.drop(index=data.query('last_price > 1e+08').index,inplace=True)"
   ]
  },
  {
   "cell_type": "markdown",
   "metadata": {},
   "source": [
    "Отсутствуют квартир стоимостью 0.\n",
    "Одна квартира стоимостью меньше 100 000, можно не учитывать.\n",
    "Удаляем слишком дорогие квартиры более 100.000.000.\n",
    "20917 квартир стоимостью меньше 1млн - не похоже на выброс, оставляем."
   ]
  },
  {
   "cell_type": "code",
   "execution_count": 26,
   "metadata": {},
   "outputs": [
    {
     "data": {
      "image/png": "[encoded data removed]",
      "text/plain": [
       "<Figure size 432x288 with 1 Axes>"
      ]
     },
     "metadata": {
      "needs_background": "light"
     },
     "output_type": "display_data"
    },
    {
     "data": {
      "image/png": "[encoded data removed]",
      "text/plain": [
       "<Figure size 432x288 with 1 Axes>"
      ]
     },
     "metadata": {
      "needs_background": "light"
     },
     "output_type": "display_data"
    }
   ],
   "source": [
    "import matplotlib.pyplot as plt\n",
    "data.hist('last_price', bins=50, range=(0,2e+07))\n",
    "data.hist('last_price', bins=50, range=(0,4e+06))\n",
    "\n",
    "data.drop(index=data.query('last_price < 1e+05').index,inplace=True)"
   ]
  },
  {
   "cell_type": "code",
   "execution_count": 27,
   "metadata": {},
   "outputs": [
    {
     "name": "stdout",
     "output_type": "stream",
     "text": [
      "Квартир площадью менее 10 кв.м.: 0\n",
      "Квартир площадью более 500 кв.м.: 3\n"
     ]
    }
   ],
   "source": [
    "print('Квартир площадью менее 10 кв.м.:',data.query('total_area < 10')['total_area'].count()) \n",
    "print('Квартир площадью более 500 кв.м.:',data.query('total_area > 500')['total_area'].count())"
   ]
  },
  {
   "cell_type": "markdown",
   "metadata": {},
   "source": [
    "Квартир площадью > 500 кв.м. мало, можно удалить."
   ]
  },
  {
   "cell_type": "code",
   "execution_count": 28,
   "metadata": {},
   "outputs": [
    {
     "data": {
      "image/png": "[encoded data removed]",
      "text/plain": [
       "<Figure size 432x288 with 1 Axes>"
      ]
     },
     "metadata": {
      "needs_background": "light"
     },
     "output_type": "display_data"
    },
    {
     "data": {
      "image/png": "[encoded data removed]",
      "text/plain": [
       "<Figure size 432x288 with 1 Axes>"
      ]
     },
     "metadata": {
      "needs_background": "light"
     },
     "output_type": "display_data"
    }
   ],
   "source": [
    "data.hist('total_area', bins=50, range=(0,900))\n",
    "data.hist('total_area', bins=50, range=(0,100))\n",
    "data.drop(index=data.query('total_area > 500').index,inplace=True)"
   ]
  },
  {
   "cell_type": "code",
   "execution_count": 29,
   "metadata": {},
   "outputs": [
    {
     "name": "stdout",
     "output_type": "stream",
     "text": [
      "Квартиры без комнат: 197\n",
      "Квартиры без комнат и студии: 138\n",
      "Квартиры без комнат и апартаменты: 0\n",
      "Квартиры без комнат и свободная планировка: 59\n",
      "Квартиры без комнат не апартаменты и не свободная планировка: 0\n"
     ]
    }
   ],
   "source": [
    "print('Квартиры без комнат:',data.query('rooms == 0')['rooms'].count())\n",
    "print('Квартиры без комнат и студии:',data.query('rooms == 0 and studio')['rooms'].count()) \n",
    "print('Квартиры без комнат и апартаменты:',data.query('rooms == 0 and is_apartment')['rooms'].count()) \n",
    "print('Квартиры без комнат и свободная планировка:',data.query('rooms == 0 and open_plan')['rooms'].count())\n",
    "print('Квартиры без комнат не апартаменты и не свободная планировка:',data.query('rooms == 0 and ~open_plan and ~studio')['rooms'].count())\n",
    "data.drop(index=data.query('rooms > 7').index,inplace=True)"
   ]
  },
  {
   "cell_type": "markdown",
   "metadata": {},
   "source": [
    "Проверка: студии, апартаменты, свободная планировка"
   ]
  },
  {
   "cell_type": "code",
   "execution_count": 30,
   "metadata": {},
   "outputs": [
    {
     "name": "stdout",
     "output_type": "stream",
     "text": [
      "Квартиры с потолками от 4м до 5м: 36 шт.\n",
      "Квартиры с потолками от 5м до 25м: 14 шт.\n",
      "Квартиры с потолками от 25м до 36м: 19 шт.\n",
      "Квартиры с потолками от 25м до 36м: 0 шт.\n",
      "Квартиры с потолками от 50м: 1 шт.\n"
     ]
    }
   ],
   "source": [
    "print('Квартиры с потолками от 4м до 5м: ' + str(data.query('ceiling_height > 4 and ceiling_height <= 5')['ceiling_height'].count()) + ' шт.')\n",
    "print('Квартиры с потолками от 5м до 25м: ' + str(data.query('ceiling_height > 5 and ceiling_height < 25')['ceiling_height'].count()) + ' шт.')\n",
    "print('Квартиры с потолками от 25м до 36м: ' + str(data.query('ceiling_height >= 25 and ceiling_height <= 36')['ceiling_height'].count()) + ' шт.')\n",
    "print('Квартиры с потолками от 25м до 36м: ' + str(data.query('ceiling_height > 36 and ceiling_height < 50')['ceiling_height'].count()) + ' шт.')\n",
    "print('Квартиры с потолками от 50м: ' + str(data.query('ceiling_height >= 50')['ceiling_height'].count()) + ' шт.')\n",
    "\n",
    "data.drop(index=data.query('ceiling_height > 4 and ceiling_height < 25').index,inplace=True)\n",
    "data.update(data[(data['ceiling_height'] >= 25) & (data['ceiling_height'] <= 36)]['ceiling_height']/10)\n",
    "data.drop(index=data.query('ceiling_height > 36').index,inplace=True)"
   ]
  },
  {
   "cell_type": "markdown",
   "metadata": {},
   "source": [
    "Необходимо удалить квартиры с высотой потолков от 4 до 25 метров.\n",
    "Для квартир с высотой потолков до 25 до 36 метров предполагается, что это является опечаткой, разделить на 10, итог: 2.5 и 3.6 метра.\n",
    "Удаляем квартиры с высотой потолков от 36 метров."
   ]
  },
  {
   "cell_type": "code",
   "execution_count": 31,
   "metadata": {},
   "outputs": [
    {
     "data": {
      "image/png": "[encoded data removed]",
      "text/plain": [
       "<Figure size 432x288 with 1 Axes>"
      ]
     },
     "metadata": {
      "needs_background": "light"
     },
     "output_type": "display_data"
    }
   ],
   "source": [
    "data.hist('ceiling_height',bins=50,range=(0,4));"
   ]
  },
  {
   "cell_type": "markdown",
   "metadata": {},
   "source": [
    "В жилых домах по СНиПу высота потолков устанавливается с учетом минимальных требований равной 2,5 - 3,2 метров, независимо от года постройки и от типа здания, следовательно удаляем значения менее 2,5."
   ]
  },
  {
   "cell_type": "code",
   "execution_count": 32,
   "metadata": {},
   "outputs": [
    {
     "name": "stdout",
     "output_type": "stream",
     "text": [
      "Квартиры с потолками меньше 2.5м : 73 шт.\n"
     ]
    }
   ],
   "source": [
    "print('Квартиры с потолками меньше 2.5м : ' + str(data.query('ceiling_height < 2.5')['ceiling_height'].count()) + ' шт.')\n",
    "data.drop(index=data.query('ceiling_height < 2.5').index,inplace=True)"
   ]
  },
  {
   "cell_type": "code",
   "execution_count": 33,
   "metadata": {},
   "outputs": [
    {
     "name": "stdout",
     "output_type": "stream",
     "text": [
      "Квартиры в одноэтажных домах :  23\n",
      "Квартиры в >30 этажных домах :  31\n"
     ]
    },
    {
     "data": {
      "text/plain": [
       "array([[<AxesSubplot:title={'center':'floors_total'}>]], dtype=object)"
      ]
     },
     "execution_count": 33,
     "metadata": {},
     "output_type": "execute_result"
    },
    {
     "data": {
      "image/png": "[encoded data removed]",
      "text/plain": [
       "<Figure size 432x288 with 1 Axes>"
      ]
     },
     "metadata": {
      "needs_background": "light"
     },
     "output_type": "display_data"
    }
   ],
   "source": [
    "print('Квартиры в одноэтажных домах : ',data.query('floors_total == 1')['floors_total'].count())\n",
    "print('Квартиры в >30 этажных домах : ',data.query('floors_total > 30')['floors_total'].count())\n",
    "\n",
    "data.drop(index=data.query('floors_total > 30').index,inplace=True)\n",
    "\n",
    "data.hist('floors_total', bins=30)"
   ]
  },
  {
   "cell_type": "code",
   "execution_count": 34,
   "metadata": {},
   "outputs": [
    {
     "name": "stdout",
     "output_type": "stream",
     "text": [
      "Жилая площадь меньше 10 кв.м.:  25\n",
      "Жилая площадь больше общей:  0\n",
      "Жилая площадь больше 200:  12\n"
     ]
    },
    {
     "data": {
      "text/plain": [
       "array([[<AxesSubplot:title={'center':'living_area'}>]], dtype=object)"
      ]
     },
     "execution_count": 34,
     "metadata": {},
     "output_type": "execute_result"
    },
    {
     "data": {
      "image/png": "[encoded data removed]",
      "text/plain": [
       "<Figure size 432x288 with 1 Axes>"
      ]
     },
     "metadata": {
      "needs_background": "light"
     },
     "output_type": "display_data"
    },
    {
     "data": {
      "image/png": "[encoded data removed]",
      "text/plain": [
       "<Figure size 432x288 with 1 Axes>"
      ]
     },
     "metadata": {
      "needs_background": "light"
     },
     "output_type": "display_data"
    }
   ],
   "source": [
    "print('Жилая площадь меньше 10 кв.м.: ',data.query('living_area < 10')['living_area'].count())\n",
    "print('Жилая площадь больше общей: ',data.query('living_area > total_area')['living_area'].count())\n",
    "print('Жилая площадь больше 200: ',data.query('living_area > 200')['living_area'].count())\n",
    "\n",
    "data.drop(index=data.query('living_area < 10').index,inplace=True)\n",
    "data.drop(index=data.query('living_area > 200').index,inplace=True)\n",
    "\n",
    "data.hist('living_area', bins=30);\n",
    "data.hist('living_area', bins=60, range=(0,60))"
   ]
  },
  {
   "cell_type": "markdown",
   "metadata": {},
   "source": [
    "Удалим значения с жилой площадью меньше 10кв.м. и квартиры с площадью более 200 кв.м."
   ]
  },
  {
   "cell_type": "code",
   "execution_count": 35,
   "metadata": {},
   "outputs": [
    {
     "name": "stdout",
     "output_type": "stream",
     "text": [
      "Этаж 0 0\n",
      "Этаж 0 0\n",
      "Этаж превышающий количества этажей:  0\n"
     ]
    },
    {
     "data": {
      "text/plain": [
       "array([[<AxesSubplot:title={'center':'floor'}>]], dtype=object)"
      ]
     },
     "execution_count": 35,
     "metadata": {},
     "output_type": "execute_result"
    },
    {
     "data": {
      "image/png": "[encoded data removed]",
      "text/plain": [
       "<Figure size 432x288 with 1 Axes>"
      ]
     },
     "metadata": {
      "needs_background": "light"
     },
     "output_type": "display_data"
    }
   ],
   "source": [
    "print('Этаж 0',data.query('floor == 0')['floor'].count())\n",
    "print('Этаж 0',data.query('floor > 30')['floor'].count())\n",
    "print('Этаж превышающий количества этажей: ',data.query('floor > floors_total')['floor'].count())\n",
    "\n",
    "data.hist('floor',bins=20)"
   ]
  },
  {
   "cell_type": "code",
   "execution_count": 36,
   "metadata": {},
   "outputs": [
    {
     "name": "stdout",
     "output_type": "stream",
     "text": [
      "Площадь кухни < 2 кв.м.:  1\n",
      "Площадь кухни 5 кв.м.:  351\n",
      "Площадь кухни > 50 кв.м.:  33\n",
      "Площадь кухни больше общей:  0\n"
     ]
    },
    {
     "data": {
      "text/plain": [
       "array([[<AxesSubplot:title={'center':'kitchen_area'}>]], dtype=object)"
      ]
     },
     "execution_count": 36,
     "metadata": {},
     "output_type": "execute_result"
    },
    {
     "data": {
      "image/png": "[encoded data removed]",
      "text/plain": [
       "<Figure size 432x288 with 1 Axes>"
      ]
     },
     "metadata": {
      "needs_background": "light"
     },
     "output_type": "display_data"
    },
    {
     "data": {
      "image/png": "[encoded data removed]",
      "text/plain": [
       "<Figure size 432x288 with 1 Axes>"
      ]
     },
     "metadata": {
      "needs_background": "light"
     },
     "output_type": "display_data"
    }
   ],
   "source": [
    "print('Площадь кухни < 2 кв.м.: ',data.query('kitchen_area < 2')['living_area'].count())\n",
    "print('Площадь кухни 5 кв.м.: ',data.query('kitchen_area == 5')['living_area'].count())\n",
    "print('Площадь кухни > 50 кв.м.: ',data.query('kitchen_area > 50')['living_area'].count())\n",
    "print('Площадь кухни больше общей: ',data.query('kitchen_area > total_area')['living_area'].count())\n",
    "\n",
    "data.drop(index=data.query('kitchen_area < 2').index,inplace=True)\n",
    "data.drop(index=data.query('kitchen_area > 50').index,inplace=True)\n",
    "\n",
    "data.hist('kitchen_area', bins=50);\n",
    "data.hist('kitchen_area', bins=30, range=(0,30))"
   ]
  },
  {
   "cell_type": "markdown",
   "metadata": {},
   "source": [
    "Следует удалить строки с кухнями менее 2кв.м. и более 50кв.м."
   ]
  },
  {
   "cell_type": "code",
   "execution_count": 37,
   "metadata": {},
   "outputs": [
    {
     "data": {
      "text/plain": [
       "array([[<AxesSubplot:title={'center':'balcony'}>]], dtype=object)"
      ]
     },
     "execution_count": 37,
     "metadata": {},
     "output_type": "execute_result"
    },
    {
     "data": {
      "image/png": "[encoded data removed]",
      "text/plain": [
       "<Figure size 432x288 with 1 Axes>"
      ]
     },
     "metadata": {
      "needs_background": "light"
     },
     "output_type": "display_data"
    }
   ],
   "source": [
    "data.hist('balcony', bins=6)"
   ]
  },
  {
   "cell_type": "code",
   "execution_count": 38,
   "metadata": {},
   "outputs": [
    {
     "name": "stdout",
     "output_type": "stream",
     "text": [
      "Объявление не было оопубликовано:  0\n",
      "Объявлению больше 3 лет :  165\n"
     ]
    },
    {
     "data": {
      "text/plain": [
       "array([[<AxesSubplot:title={'center':'days_exposition'}>]], dtype=object)"
      ]
     },
     "execution_count": 38,
     "metadata": {},
     "output_type": "execute_result"
    },
    {
     "data": {
      "image/png": "[encoded data removed]",
      "text/plain": [
       "<Figure size 432x288 with 1 Axes>"
      ]
     },
     "metadata": {
      "needs_background": "light"
     },
     "output_type": "display_data"
    }
   ],
   "source": [
    "print('Объявление не было оопубликовано: ',data.query('days_exposition == 0')['days_exposition'].count())\n",
    "print('Объявлению больше 3 лет : ',data.query('days_exposition > 365*3')['days_exposition'].count())\n",
    "\n",
    "data.drop(index=data.query('days_exposition > 365*3').index,inplace=True)\n",
    "data.hist('days_exposition', bins=100)"
   ]
  },
  {
   "cell_type": "markdown",
   "metadata": {},
   "source": [
    "Удалить объявление, которое было опубликовано больше 3 лет"
   ]
  },
  {
   "cell_type": "code",
   "execution_count": 39,
   "metadata": {},
   "outputs": [
    {
     "name": "stdout",
     "output_type": "stream",
     "text": [
      "Квартиры очень близко к аэропорту: 1\n"
     ]
    },
    {
     "data": {
      "image/png": "[encoded data removed]",
      "text/plain": [
       "<Figure size 432x288 with 1 Axes>"
      ]
     },
     "metadata": {
      "needs_background": "light"
     },
     "output_type": "display_data"
    }
   ],
   "source": [
    "print('Квартиры очень близко к аэропорту:',data.query('airports_nearest < 5000')['airports_nearest'].count())\n",
    "data.hist('airports_nearest', bins=100, range=(0,20000));\n",
    "\n",
    "data.drop(index=data.query('airports_nearest < 5000').index,inplace=True)"
   ]
  },
  {
   "cell_type": "code",
   "execution_count": 40,
   "metadata": {},
   "outputs": [],
   "source": [
    "#обновление индексации\n",
    "data.reset_index(drop=True,inplace=True)"
   ]
  },
  {
   "cell_type": "code",
   "execution_count": 41,
   "metadata": {},
   "outputs": [
    {
     "data": {
      "text/html": [
       "<style  type=\"text/css\" >\n",
       "</style><table id=\"T_65a94_\" ><thead>    <tr>        <th class=\"blank level0\" ></th>        <th class=\"col_heading level0 col0\" >rooms</th>        <th class=\"col_heading level0 col1\" >total_area</th>        <th class=\"col_heading level0 col2\" >ceiling_height</th>        <th class=\"col_heading level0 col3\" >days_exposition</th>        <th class=\"col_heading level0 col4\" >last_price</th>        <th class=\"col_heading level0 col5\" >living_area</th>        <th class=\"col_heading level0 col6\" >kitchen_area</th>        <th class=\"col_heading level0 col7\" >floor</th>        <th class=\"col_heading level0 col8\" >floors_total</th>    </tr></thead><tbody>\n",
       "                <tr>\n",
       "                        <th id=\"T_65a94_level0_row0\" class=\"row_heading level0 row0\" >count</th>\n",
       "                        <td id=\"T_65a94_row0_col0\" class=\"data row0 col0\" >23,238.00</td>\n",
       "                        <td id=\"T_65a94_row0_col1\" class=\"data row0 col1\" >23,238.00</td>\n",
       "                        <td id=\"T_65a94_row0_col2\" class=\"data row0 col2\" >23,238.00</td>\n",
       "                        <td id=\"T_65a94_row0_col3\" class=\"data row0 col3\" >20,105.00</td>\n",
       "                        <td id=\"T_65a94_row0_col4\" class=\"data row0 col4\" >23,238.00</td>\n",
       "                        <td id=\"T_65a94_row0_col5\" class=\"data row0 col5\" >21,368.00</td>\n",
       "                        <td id=\"T_65a94_row0_col6\" class=\"data row0 col6\" >21,001.00</td>\n",
       "                        <td id=\"T_65a94_row0_col7\" class=\"data row0 col7\" >23,238.00</td>\n",
       "                        <td id=\"T_65a94_row0_col8\" class=\"data row0 col8\" >23,154.00</td>\n",
       "            </tr>\n",
       "            <tr>\n",
       "                        <th id=\"T_65a94_level0_row1\" class=\"row_heading level0 row1\" >min</th>\n",
       "                        <td id=\"T_65a94_row1_col0\" class=\"data row1 col0\" >0.00</td>\n",
       "                        <td id=\"T_65a94_row1_col1\" class=\"data row1 col1\" >12.00</td>\n",
       "                        <td id=\"T_65a94_row1_col2\" class=\"data row1 col2\" >2.50</td>\n",
       "                        <td id=\"T_65a94_row1_col3\" class=\"data row1 col3\" >1.00</td>\n",
       "                        <td id=\"T_65a94_row1_col4\" class=\"data row1 col4\" >430,000.00</td>\n",
       "                        <td id=\"T_65a94_row1_col5\" class=\"data row1 col5\" >10.00</td>\n",
       "                        <td id=\"T_65a94_row1_col6\" class=\"data row1 col6\" >2.00</td>\n",
       "                        <td id=\"T_65a94_row1_col7\" class=\"data row1 col7\" >1.00</td>\n",
       "                        <td id=\"T_65a94_row1_col8\" class=\"data row1 col8\" >1.00</td>\n",
       "            </tr>\n",
       "            <tr>\n",
       "                        <th id=\"T_65a94_level0_row2\" class=\"row_heading level0 row2\" >max</th>\n",
       "                        <td id=\"T_65a94_row2_col0\" class=\"data row2 col0\" >7.00</td>\n",
       "                        <td id=\"T_65a94_row2_col1\" class=\"data row2 col1\" >494.10</td>\n",
       "                        <td id=\"T_65a94_row2_col2\" class=\"data row2 col2\" >4.00</td>\n",
       "                        <td id=\"T_65a94_row2_col3\" class=\"data row2 col3\" >1,095.00</td>\n",
       "                        <td id=\"T_65a94_row2_col4\" class=\"data row2 col4\" >99,000,000.00</td>\n",
       "                        <td id=\"T_65a94_row2_col5\" class=\"data row2 col5\" >200.00</td>\n",
       "                        <td id=\"T_65a94_row2_col6\" class=\"data row2 col6\" >50.00</td>\n",
       "                        <td id=\"T_65a94_row2_col7\" class=\"data row2 col7\" >27.00</td>\n",
       "                        <td id=\"T_65a94_row2_col8\" class=\"data row2 col8\" >29.00</td>\n",
       "            </tr>\n",
       "    </tbody></table>"
      ],
      "text/plain": [
       "<pandas.io.formats.style.Styler at 0x7fed98c9e910>"
      ]
     },
     "execution_count": 41,
     "metadata": {},
     "output_type": "execute_result"
    }
   ],
   "source": [
    "(\n",
    "    data[['rooms', 'total_area', 'ceiling_height', 'days_exposition', 'last_price', 'living_area',  'kitchen_area', 'floor',\n",
    "       'floors_total']]\n",
    "    .apply (['count', 'min', 'max'])   \n",
    "    .style.format(\"{:,.2f}\")\n",
    ")"
   ]
  },
  {
   "cell_type": "code",
   "execution_count": 42,
   "metadata": {},
   "outputs": [
    {
     "data": {
      "text/html": [
       "<div>\n",
       "<style scoped>\n",
       "    .dataframe tbody tr th:only-of-type {\n",
       "        vertical-align: middle;\n",
       "    }\n",
       "\n",
       "    .dataframe tbody tr th {\n",
       "        vertical-align: top;\n",
       "    }\n",
       "\n",
       "    .dataframe thead th {\n",
       "        text-align: right;\n",
       "    }\n",
       "</style>\n",
       "<table border=\"1\" class=\"dataframe\">\n",
       "  <thead>\n",
       "    <tr style=\"text-align: right;\">\n",
       "      <th></th>\n",
       "      <th>rooms</th>\n",
       "    </tr>\n",
       "  </thead>\n",
       "  <tbody>\n",
       "    <tr>\n",
       "      <th>1</th>\n",
       "      <td>7957</td>\n",
       "    </tr>\n",
       "    <tr>\n",
       "      <th>2</th>\n",
       "      <td>7814</td>\n",
       "    </tr>\n",
       "    <tr>\n",
       "      <th>3</th>\n",
       "      <td>5702</td>\n",
       "    </tr>\n",
       "    <tr>\n",
       "      <th>4</th>\n",
       "      <td>1138</td>\n",
       "    </tr>\n",
       "    <tr>\n",
       "      <th>5</th>\n",
       "      <td>297</td>\n",
       "    </tr>\n",
       "    <tr>\n",
       "      <th>0</th>\n",
       "      <td>192</td>\n",
       "    </tr>\n",
       "    <tr>\n",
       "      <th>6</th>\n",
       "      <td>94</td>\n",
       "    </tr>\n",
       "    <tr>\n",
       "      <th>7</th>\n",
       "      <td>44</td>\n",
       "    </tr>\n",
       "  </tbody>\n",
       "</table>\n",
       "</div>"
      ],
      "text/plain": [
       "   rooms\n",
       "1   7957\n",
       "2   7814\n",
       "3   5702\n",
       "4   1138\n",
       "5    297\n",
       "0    192\n",
       "6     94\n",
       "7     44"
      ]
     },
     "execution_count": 42,
     "metadata": {},
     "output_type": "execute_result"
    }
   ],
   "source": [
    "data.rooms.value_counts().to_frame()"
   ]
  },
  {
   "cell_type": "code",
   "execution_count": 43,
   "metadata": {},
   "outputs": [
    {
     "name": "stdout",
     "output_type": "stream",
     "text": [
      "<class 'pandas.core.frame.DataFrame'>\n",
      "RangeIndex: 23238 entries, 0 to 23237\n",
      "Data columns (total 22 columns):\n",
      " #   Column                Non-Null Count  Dtype         \n",
      "---  ------                --------------  -----         \n",
      " 0   total_images          23238 non-null  int64         \n",
      " 1   last_price            23238 non-null  int64         \n",
      " 2   total_area            23238 non-null  float64       \n",
      " 3   first_day_exposition  23238 non-null  datetime64[ns]\n",
      " 4   rooms                 23238 non-null  int64         \n",
      " 5   ceiling_height        23238 non-null  float64       \n",
      " 6   floors_total          23154 non-null  Int8          \n",
      " 7   living_area           21368 non-null  float64       \n",
      " 8   floor                 23238 non-null  int64         \n",
      " 9   is_apartment          20522 non-null  object        \n",
      " 10  studio                23238 non-null  bool          \n",
      " 11  open_plan             23238 non-null  bool          \n",
      " 12  kitchen_area          21001 non-null  float64       \n",
      " 13  balcony               23238 non-null  int8          \n",
      " 14  locality_name         23189 non-null  object        \n",
      " 15  airports_nearest      17759 non-null  float64       \n",
      " 16  city_centers_nearest  17779 non-null  float64       \n",
      " 17  parks_around3000      17780 non-null  float64       \n",
      " 18  parks_nearest         7849 non-null   float64       \n",
      " 19  ponds_around3000      17780 non-null  float64       \n",
      " 20  ponds_nearest         8847 non-null   float64       \n",
      " 21  days_exposition       20105 non-null  Int64         \n",
      "dtypes: Int64(1), Int8(1), bool(2), datetime64[ns](1), float64(10), int64(4), int8(1), object(2)\n",
      "memory usage: 3.3+ MB\n"
     ]
    }
   ],
   "source": [
    "data.info()"
   ]
  },
  {
   "cell_type": "markdown",
   "metadata": {},
   "source": [
    "Устранились редкие и выбивающиеся значения: rooms > 7, total_area > 500, days_exposition > 365*3, last_price > 100.000.000, living_area > 200, floors_total > 30, а также значения Null для locality_name, floors_total."
   ]
  },
  {
   "cell_type": "markdown",
   "metadata": {},
   "source": [
    "### Посчитайте и добавьте в таблицу новые столбцы"
   ]
  },
  {
   "cell_type": "code",
   "execution_count": 44,
   "metadata": {},
   "outputs": [],
   "source": [
    "#цена одного квадратного метра\n",
    "data['cost_per_sqm'] = data['last_price'] / data['total_area']\n"
   ]
  },
  {
   "cell_type": "code",
   "execution_count": 45,
   "metadata": {},
   "outputs": [],
   "source": [
    "#день публикации объявления (0 - понедельник, 1 - вторник и т.д.)\n",
    "data['dayofweek'] = data['first_day_exposition'].dt.dayofweek\n"
   ]
  },
  {
   "cell_type": "code",
   "execution_count": 46,
   "metadata": {},
   "outputs": [],
   "source": [
    "#месяц публикации объявления\n",
    "data['month'] = data['first_day_exposition'].dt.month\n"
   ]
  },
  {
   "cell_type": "code",
   "execution_count": 47,
   "metadata": {},
   "outputs": [],
   "source": [
    "#год публикации объявления\n",
    "data['year'] = data['first_day_exposition'].dt.year\n"
   ]
  },
  {
   "cell_type": "code",
   "execution_count": 48,
   "metadata": {},
   "outputs": [
    {
     "data": {
      "text/plain": [
       "1    17126\n",
       "2     3242\n",
       "0     2870\n",
       "Name: floor_category_digit, dtype: int64"
      ]
     },
     "execution_count": 48,
     "metadata": {},
     "output_type": "execute_result"
    }
   ],
   "source": [
    "#тип этажа квартиры (значения — «первый», «последний», «другой»)\n",
    "data['floor_category'] = data.apply(\n",
    "    lambda x: 'первый' if (x.floor == 1) \n",
    "    else ('последний' if (x.floor == x.floors_total) & isinstance(x.floors_total,int) \n",
    "    else 'другой'), axis=1\n",
    ")\n",
    "\n",
    "data['floor_category_digit'] = data.apply(\n",
    "    lambda x: 0 if (x.floor == 1) \n",
    "    else (2 if (x.floor == x.floors_total) & isinstance(x.floors_total,int) \n",
    "    else 1), axis=1\n",
    ")\n",
    "data['floor_category_digit'].value_counts()\n"
   ]
  },
  {
   "cell_type": "code",
   "execution_count": 49,
   "metadata": {},
   "outputs": [
    {
     "name": "stdout",
     "output_type": "stream",
     "text": [
      "city_centers_nearest_km ok\n"
     ]
    }
   ],
   "source": [
    "#расстояние в км до центра города\n",
    "data['city_centers_nearest_km'] = round(data['city_centers_nearest'] / 1000)\n",
    "try:\n",
    "    data['city_centers_nearest_km'] =  data['city_centers_nearest_km'].astype('Int32')\n",
    "    print('city_centers_nearest_km ok')\n",
    "except:\n",
    "    print('city_centers_nearest_km Int32 type conversion fail')"
   ]
  },
  {
   "cell_type": "markdown",
   "metadata": {},
   "source": [
    "### Проведите исследовательский анализ данных"
   ]
  },
  {
   "cell_type": "code",
   "execution_count": 50,
   "metadata": {},
   "outputs": [
    {
     "data": {
      "text/html": [
       "<div>\n",
       "<style scoped>\n",
       "    .dataframe tbody tr th:only-of-type {\n",
       "        vertical-align: middle;\n",
       "    }\n",
       "\n",
       "    .dataframe tbody tr th {\n",
       "        vertical-align: top;\n",
       "    }\n",
       "\n",
       "    .dataframe thead th {\n",
       "        text-align: right;\n",
       "    }\n",
       "</style>\n",
       "<table border=\"1\" class=\"dataframe\">\n",
       "  <thead>\n",
       "    <tr style=\"text-align: right;\">\n",
       "      <th></th>\n",
       "      <th>total_images</th>\n",
       "      <th>last_price</th>\n",
       "      <th>total_area</th>\n",
       "      <th>rooms</th>\n",
       "      <th>ceiling_height</th>\n",
       "      <th>floors_total</th>\n",
       "      <th>living_area</th>\n",
       "      <th>floor</th>\n",
       "      <th>kitchen_area</th>\n",
       "      <th>balcony</th>\n",
       "      <th>airports_nearest</th>\n",
       "      <th>city_centers_nearest</th>\n",
       "      <th>parks_around3000</th>\n",
       "      <th>parks_nearest</th>\n",
       "      <th>ponds_around3000</th>\n",
       "      <th>ponds_nearest</th>\n",
       "      <th>days_exposition</th>\n",
       "      <th>cost_per_sqm</th>\n",
       "      <th>dayofweek</th>\n",
       "      <th>month</th>\n",
       "      <th>year</th>\n",
       "      <th>floor_category_digit</th>\n",
       "      <th>city_centers_nearest_km</th>\n",
       "    </tr>\n",
       "  </thead>\n",
       "  <tbody>\n",
       "    <tr>\n",
       "      <th>count</th>\n",
       "      <td>23238.000000</td>\n",
       "      <td>2.323800e+04</td>\n",
       "      <td>23238.000000</td>\n",
       "      <td>23238.000000</td>\n",
       "      <td>23238.000000</td>\n",
       "      <td>23154.00000</td>\n",
       "      <td>21368.000000</td>\n",
       "      <td>23238.000000</td>\n",
       "      <td>21001.000000</td>\n",
       "      <td>23238.000000</td>\n",
       "      <td>17759.000000</td>\n",
       "      <td>17779.000000</td>\n",
       "      <td>17780.000000</td>\n",
       "      <td>7849.000000</td>\n",
       "      <td>17780.000000</td>\n",
       "      <td>8847.000000</td>\n",
       "      <td>20105.00000</td>\n",
       "      <td>23238.000000</td>\n",
       "      <td>23238.000000</td>\n",
       "      <td>23238.000000</td>\n",
       "      <td>23238.000000</td>\n",
       "      <td>23238.000000</td>\n",
       "      <td>17779.000000</td>\n",
       "    </tr>\n",
       "    <tr>\n",
       "      <th>mean</th>\n",
       "      <td>9.858077</td>\n",
       "      <td>6.108102e+06</td>\n",
       "      <td>59.074842</td>\n",
       "      <td>2.048369</td>\n",
       "      <td>2.711290</td>\n",
       "      <td>10.67673</td>\n",
       "      <td>33.755706</td>\n",
       "      <td>5.888200</td>\n",
       "      <td>10.369042</td>\n",
       "      <td>0.591660</td>\n",
       "      <td>28837.335548</td>\n",
       "      <td>14255.889476</td>\n",
       "      <td>0.604274</td>\n",
       "      <td>490.441203</td>\n",
       "      <td>0.758774</td>\n",
       "      <td>521.744885</td>\n",
       "      <td>171.42855</td>\n",
       "      <td>98173.002968</td>\n",
       "      <td>2.572295</td>\n",
       "      <td>6.399604</td>\n",
       "      <td>2017.386608</td>\n",
       "      <td>1.016008</td>\n",
       "      <td>14.250183</td>\n",
       "    </tr>\n",
       "    <tr>\n",
       "      <th>std</th>\n",
       "      <td>5.674362</td>\n",
       "      <td>5.928683e+06</td>\n",
       "      <td>30.372824</td>\n",
       "      <td>1.020545</td>\n",
       "      <td>0.197001</td>\n",
       "      <td>6.53913</td>\n",
       "      <td>19.147684</td>\n",
       "      <td>4.864067</td>\n",
       "      <td>5.113107</td>\n",
       "      <td>0.958633</td>\n",
       "      <td>12671.917542</td>\n",
       "      <td>8577.369000</td>\n",
       "      <td>0.796092</td>\n",
       "      <td>340.188883</td>\n",
       "      <td>0.929011</td>\n",
       "      <td>277.184448</td>\n",
       "      <td>197.24259</td>\n",
       "      <td>42202.335644</td>\n",
       "      <td>1.789668</td>\n",
       "      <td>3.487239</td>\n",
       "      <td>1.020104</td>\n",
       "      <td>0.512613</td>\n",
       "      <td>8.585534</td>\n",
       "    </tr>\n",
       "    <tr>\n",
       "      <th>min</th>\n",
       "      <td>0.000000</td>\n",
       "      <td>4.300000e+05</td>\n",
       "      <td>12.000000</td>\n",
       "      <td>0.000000</td>\n",
       "      <td>2.500000</td>\n",
       "      <td>1.00000</td>\n",
       "      <td>10.000000</td>\n",
       "      <td>1.000000</td>\n",
       "      <td>2.000000</td>\n",
       "      <td>0.000000</td>\n",
       "      <td>6450.000000</td>\n",
       "      <td>181.000000</td>\n",
       "      <td>0.000000</td>\n",
       "      <td>1.000000</td>\n",
       "      <td>0.000000</td>\n",
       "      <td>13.000000</td>\n",
       "      <td>1.00000</td>\n",
       "      <td>7962.962963</td>\n",
       "      <td>0.000000</td>\n",
       "      <td>1.000000</td>\n",
       "      <td>2014.000000</td>\n",
       "      <td>0.000000</td>\n",
       "      <td>0.000000</td>\n",
       "    </tr>\n",
       "    <tr>\n",
       "      <th>25%</th>\n",
       "      <td>6.000000</td>\n",
       "      <td>3.400000e+06</td>\n",
       "      <td>40.000000</td>\n",
       "      <td>1.000000</td>\n",
       "      <td>2.600000</td>\n",
       "      <td>5.00000</td>\n",
       "      <td>18.600000</td>\n",
       "      <td>2.000000</td>\n",
       "      <td>7.000000</td>\n",
       "      <td>0.000000</td>\n",
       "      <td>18500.000000</td>\n",
       "      <td>9403.000000</td>\n",
       "      <td>0.000000</td>\n",
       "      <td>288.000000</td>\n",
       "      <td>0.000000</td>\n",
       "      <td>299.000000</td>\n",
       "      <td>44.00000</td>\n",
       "      <td>76473.945743</td>\n",
       "      <td>1.000000</td>\n",
       "      <td>3.000000</td>\n",
       "      <td>2017.000000</td>\n",
       "      <td>1.000000</td>\n",
       "      <td>9.000000</td>\n",
       "    </tr>\n",
       "    <tr>\n",
       "      <th>50%</th>\n",
       "      <td>9.000000</td>\n",
       "      <td>4.600000e+06</td>\n",
       "      <td>52.000000</td>\n",
       "      <td>2.000000</td>\n",
       "      <td>2.700000</td>\n",
       "      <td>9.00000</td>\n",
       "      <td>30.000000</td>\n",
       "      <td>4.000000</td>\n",
       "      <td>9.000000</td>\n",
       "      <td>0.000000</td>\n",
       "      <td>26835.000000</td>\n",
       "      <td>13145.000000</td>\n",
       "      <td>0.000000</td>\n",
       "      <td>455.000000</td>\n",
       "      <td>0.000000</td>\n",
       "      <td>506.000000</td>\n",
       "      <td>93.00000</td>\n",
       "      <td>94789.198262</td>\n",
       "      <td>3.000000</td>\n",
       "      <td>6.000000</td>\n",
       "      <td>2017.000000</td>\n",
       "      <td>1.000000</td>\n",
       "      <td>13.000000</td>\n",
       "    </tr>\n",
       "    <tr>\n",
       "      <th>75%</th>\n",
       "      <td>14.000000</td>\n",
       "      <td>6.700000e+06</td>\n",
       "      <td>69.000000</td>\n",
       "      <td>3.000000</td>\n",
       "      <td>2.700000</td>\n",
       "      <td>16.00000</td>\n",
       "      <td>42.000000</td>\n",
       "      <td>8.000000</td>\n",
       "      <td>12.000000</td>\n",
       "      <td>1.000000</td>\n",
       "      <td>37364.000000</td>\n",
       "      <td>16296.000000</td>\n",
       "      <td>1.000000</td>\n",
       "      <td>612.000000</td>\n",
       "      <td>1.000000</td>\n",
       "      <td>733.000000</td>\n",
       "      <td>224.00000</td>\n",
       "      <td>113761.467890</td>\n",
       "      <td>4.000000</td>\n",
       "      <td>10.000000</td>\n",
       "      <td>2018.000000</td>\n",
       "      <td>1.000000</td>\n",
       "      <td>16.000000</td>\n",
       "    </tr>\n",
       "    <tr>\n",
       "      <th>max</th>\n",
       "      <td>50.000000</td>\n",
       "      <td>9.900000e+07</td>\n",
       "      <td>494.100000</td>\n",
       "      <td>7.000000</td>\n",
       "      <td>4.000000</td>\n",
       "      <td>29.00000</td>\n",
       "      <td>200.000000</td>\n",
       "      <td>27.000000</td>\n",
       "      <td>50.000000</td>\n",
       "      <td>5.000000</td>\n",
       "      <td>84853.000000</td>\n",
       "      <td>65952.000000</td>\n",
       "      <td>3.000000</td>\n",
       "      <td>3190.000000</td>\n",
       "      <td>3.000000</td>\n",
       "      <td>1344.000000</td>\n",
       "      <td>1095.00000</td>\n",
       "      <td>848484.848485</td>\n",
       "      <td>6.000000</td>\n",
       "      <td>12.000000</td>\n",
       "      <td>2019.000000</td>\n",
       "      <td>2.000000</td>\n",
       "      <td>66.000000</td>\n",
       "    </tr>\n",
       "  </tbody>\n",
       "</table>\n",
       "</div>"
      ],
      "text/plain": [
       "       total_images    last_price    total_area         rooms  ceiling_height  \\\n",
       "count  23238.000000  2.323800e+04  23238.000000  23238.000000    23238.000000   \n",
       "mean       9.858077  6.108102e+06     59.074842      2.048369        2.711290   \n",
       "std        5.674362  5.928683e+06     30.372824      1.020545        0.197001   \n",
       "min        0.000000  4.300000e+05     12.000000      0.000000        2.500000   \n",
       "25%        6.000000  3.400000e+06     40.000000      1.000000        2.600000   \n",
       "50%        9.000000  4.600000e+06     52.000000      2.000000        2.700000   \n",
       "75%       14.000000  6.700000e+06     69.000000      3.000000        2.700000   \n",
       "max       50.000000  9.900000e+07    494.100000      7.000000        4.000000   \n",
       "\n",
       "       floors_total   living_area         floor  kitchen_area       balcony  \\\n",
       "count   23154.00000  21368.000000  23238.000000  21001.000000  23238.000000   \n",
       "mean       10.67673     33.755706      5.888200     10.369042      0.591660   \n",
       "std         6.53913     19.147684      4.864067      5.113107      0.958633   \n",
       "min         1.00000     10.000000      1.000000      2.000000      0.000000   \n",
       "25%         5.00000     18.600000      2.000000      7.000000      0.000000   \n",
       "50%         9.00000     30.000000      4.000000      9.000000      0.000000   \n",
       "75%        16.00000     42.000000      8.000000     12.000000      1.000000   \n",
       "max        29.00000    200.000000     27.000000     50.000000      5.000000   \n",
       "\n",
       "       airports_nearest  city_centers_nearest  parks_around3000  \\\n",
       "count      17759.000000          17779.000000      17780.000000   \n",
       "mean       28837.335548          14255.889476          0.604274   \n",
       "std        12671.917542           8577.369000          0.796092   \n",
       "min         6450.000000            181.000000          0.000000   \n",
       "25%        18500.000000           9403.000000          0.000000   \n",
       "50%        26835.000000          13145.000000          0.000000   \n",
       "75%        37364.000000          16296.000000          1.000000   \n",
       "max        84853.000000          65952.000000          3.000000   \n",
       "\n",
       "       parks_nearest  ponds_around3000  ponds_nearest  days_exposition  \\\n",
       "count    7849.000000      17780.000000    8847.000000      20105.00000   \n",
       "mean      490.441203          0.758774     521.744885        171.42855   \n",
       "std       340.188883          0.929011     277.184448        197.24259   \n",
       "min         1.000000          0.000000      13.000000          1.00000   \n",
       "25%       288.000000          0.000000     299.000000         44.00000   \n",
       "50%       455.000000          0.000000     506.000000         93.00000   \n",
       "75%       612.000000          1.000000     733.000000        224.00000   \n",
       "max      3190.000000          3.000000    1344.000000       1095.00000   \n",
       "\n",
       "        cost_per_sqm     dayofweek         month          year  \\\n",
       "count   23238.000000  23238.000000  23238.000000  23238.000000   \n",
       "mean    98173.002968      2.572295      6.399604   2017.386608   \n",
       "std     42202.335644      1.789668      3.487239      1.020104   \n",
       "min      7962.962963      0.000000      1.000000   2014.000000   \n",
       "25%     76473.945743      1.000000      3.000000   2017.000000   \n",
       "50%     94789.198262      3.000000      6.000000   2017.000000   \n",
       "75%    113761.467890      4.000000     10.000000   2018.000000   \n",
       "max    848484.848485      6.000000     12.000000   2019.000000   \n",
       "\n",
       "       floor_category_digit  city_centers_nearest_km  \n",
       "count          23238.000000             17779.000000  \n",
       "mean               1.016008                14.250183  \n",
       "std                0.512613                 8.585534  \n",
       "min                0.000000                 0.000000  \n",
       "25%                1.000000                 9.000000  \n",
       "50%                1.000000                13.000000  \n",
       "75%                1.000000                16.000000  \n",
       "max                2.000000                66.000000  "
      ]
     },
     "execution_count": 50,
     "metadata": {},
     "output_type": "execute_result"
    }
   ],
   "source": [
    "data.describe()"
   ]
  },
  {
   "cell_type": "code",
   "execution_count": 51,
   "metadata": {},
   "outputs": [
    {
     "data": {
      "image/png": "[encoded data removed]",
      "text/plain": [
       "<Figure size 432x288 with 1 Axes>"
      ]
     },
     "metadata": {
      "needs_background": "light"
     },
     "output_type": "display_data"
    }
   ],
   "source": [
    "data.hist('total_area', bins=100);"
   ]
  },
  {
   "cell_type": "markdown",
   "metadata": {},
   "source": [
    "Наблюдается незначительное количество квартир с общей площадью более 100 кв.м. Если построить диаграмму размаха, то будет немного значений, которые покажутся выбросами, это элитная недвижимость."
   ]
  },
  {
   "cell_type": "code",
   "execution_count": 52,
   "metadata": {},
   "outputs": [
    {
     "data": {
      "image/png": "[encoded data removed]",
      "text/plain": [
       "<Figure size 432x288 with 1 Axes>"
      ]
     },
     "metadata": {
      "needs_background": "light"
     },
     "output_type": "display_data"
    }
   ],
   "source": [
    "data.hist('living_area', bins=100);"
   ]
  },
  {
   "cell_type": "markdown",
   "metadata": {},
   "source": [
    "Имеются два пика - на 18 кв.м. и на 30 кв.м. Нужно проверить, почему именно два пика и почему есть явный провал около 24 кв.м."
   ]
  },
  {
   "cell_type": "code",
   "execution_count": 53,
   "metadata": {},
   "outputs": [
    {
     "data": {
      "image/png": "[encoded data removed]",
      "text/plain": [
       "<Figure size 432x288 with 1 Axes>"
      ]
     },
     "metadata": {
      "needs_background": "light"
     },
     "output_type": "display_data"
    }
   ],
   "source": [
    "data.hist('kitchen_area', bins=100);"
   ]
  },
  {
   "cell_type": "code",
   "execution_count": 54,
   "metadata": {},
   "outputs": [
    {
     "data": {
      "image/png": "[encoded data removed]",
      "text/plain": [
       "<Figure size 432x288 with 1 Axes>"
      ]
     },
     "metadata": {
      "needs_background": "light"
     },
     "output_type": "display_data"
    }
   ],
   "source": [
    "data['last_price'] = data['last_price'] / 1000000\n",
    "data.hist('last_price', bins=50);"
   ]
  },
  {
   "cell_type": "markdown",
   "metadata": {},
   "source": [
    "Немного \"шумный\" график. Очень длинный \"хвост\" вправо - это элитная недвижимость."
   ]
  },
  {
   "cell_type": "code",
   "execution_count": 55,
   "metadata": {},
   "outputs": [
    {
     "data": {
      "image/png": "[encoded data removed]",
      "text/plain": [
       "<Figure size 432x288 with 1 Axes>"
      ]
     },
     "metadata": {
      "needs_background": "light"
     },
     "output_type": "display_data"
    }
   ],
   "source": [
    "data.hist('rooms', bins=7);"
   ]
  },
  {
   "cell_type": "markdown",
   "metadata": {},
   "source": [
    "Больше всего двух- и трёх-комнатных квартир. Затем идут четырехкомнатные квартиры."
   ]
  },
  {
   "cell_type": "code",
   "execution_count": 56,
   "metadata": {},
   "outputs": [
    {
     "data": {
      "text/plain": [
       "array([[<AxesSubplot:title={'center':'ceiling_height'}>]], dtype=object)"
      ]
     },
     "execution_count": 56,
     "metadata": {},
     "output_type": "execute_result"
    },
    {
     "data": {
      "image/png": "[encoded data removed]",
      "text/plain": [
       "<Figure size 432x288 with 1 Axes>"
      ]
     },
     "metadata": {
      "needs_background": "light"
     },
     "output_type": "display_data"
    }
   ],
   "source": [
    "data.hist('ceiling_height', bins=5)"
   ]
  },
  {
   "cell_type": "markdown",
   "metadata": {},
   "source": [
    "Здесь два пика 2.5м и 3м, это принятые стандарты, которые встречаются в большинстве случаев."
   ]
  },
  {
   "cell_type": "code",
   "execution_count": 57,
   "metadata": {},
   "outputs": [
    {
     "data": {
      "image/png": "[encoded data removed]",
      "text/plain": [
       "<Figure size 432x288 with 1 Axes>"
      ]
     },
     "metadata": {
      "needs_background": "light"
     },
     "output_type": "display_data"
    }
   ],
   "source": [
    "data.hist('floor', bins=30);"
   ]
  },
  {
   "cell_type": "markdown",
   "metadata": {},
   "source": [
    "Больше всего квартир с 1 по 5 этаж. В Санкт-Петербурге и области мало высотных зданий."
   ]
  },
  {
   "cell_type": "code",
   "execution_count": 58,
   "metadata": {},
   "outputs": [
    {
     "data": {
      "image/png": "[encoded data removed]",
      "text/plain": [
       "<Figure size 432x288 with 1 Axes>"
      ]
     },
     "metadata": {
      "needs_background": "light"
     },
     "output_type": "display_data"
    }
   ],
   "source": [
    "data.groupby(by='floor_category')['floor_category'].count().plot(kind='bar', ylabel = 'count');"
   ]
  },
  {
   "cell_type": "markdown",
   "metadata": {},
   "source": [
    "Больше всего квартир на \"другом\" этаже. Это логично. Первых и последних этажей одинакого мало."
   ]
  },
  {
   "cell_type": "code",
   "execution_count": 59,
   "metadata": {},
   "outputs": [
    {
     "data": {
      "image/png": "[encoded data removed]",
      "text/plain": [
       "<Figure size 432x288 with 1 Axes>"
      ]
     },
     "metadata": {
      "needs_background": "light"
     },
     "output_type": "display_data"
    }
   ],
   "source": [
    "data.hist('floors_total', bins=10);"
   ]
  },
  {
   "cell_type": "markdown",
   "metadata": {},
   "source": [
    "Видим пики: 5-этажная застройка, 9-этажная застройка, и наблюдаются пики более высоких новостроек."
   ]
  },
  {
   "cell_type": "code",
   "execution_count": 60,
   "metadata": {},
   "outputs": [
    {
     "data": {
      "image/png": "[encoded data removed]",
      "text/plain": [
       "<Figure size 432x288 with 1 Axes>"
      ]
     },
     "metadata": {
      "needs_background": "light"
     },
     "output_type": "display_data"
    }
   ],
   "source": [
    "data.hist('city_centers_nearest', bins=100);"
   ]
  },
  {
   "cell_type": "markdown",
   "metadata": {},
   "source": [
    "Наблюдаются два ярко выраженных пика: 5 км и от 10 км до 15 км. Так же есть совсем небольшие всплески на 30 км и 50 км."
   ]
  },
  {
   "cell_type": "code",
   "execution_count": 61,
   "metadata": {},
   "outputs": [
    {
     "data": {
      "image/png": "[encoded data removed]",
      "text/plain": [
       "<Figure size 432x288 with 1 Axes>"
      ]
     },
     "metadata": {
      "needs_background": "light"
     },
     "output_type": "display_data"
    }
   ],
   "source": [
    "data.hist('airports_nearest', bins=100);"
   ]
  },
  {
   "cell_type": "markdown",
   "metadata": {},
   "source": [
    "Здесь лицезреем достаточно \"шумный\" график. Это вполне ожидаемо."
   ]
  },
  {
   "cell_type": "code",
   "execution_count": 62,
   "metadata": {},
   "outputs": [
    {
     "data": {
      "image/png": "[encoded data removed]",
      "text/plain": [
       "<Figure size 432x288 with 1 Axes>"
      ]
     },
     "metadata": {
      "needs_background": "light"
     },
     "output_type": "display_data"
    }
   ],
   "source": [
    "data.hist('parks_nearest', bins=100);"
   ]
  },
  {
   "cell_type": "markdown",
   "metadata": {},
   "source": [
    "График показывает больше всего квартир с парками на расстоянии до 750м"
   ]
  },
  {
   "cell_type": "code",
   "execution_count": 63,
   "metadata": {},
   "outputs": [
    {
     "data": {
      "image/png": "[encoded data removed]",
      "text/plain": [
       "<Figure size 432x288 with 1 Axes>"
      ]
     },
     "metadata": {
      "needs_background": "light"
     },
     "output_type": "display_data"
    }
   ],
   "source": [
    "data.hist('dayofweek', bins=7);"
   ]
  },
  {
   "cell_type": "markdown",
   "metadata": {},
   "source": [
    "Имеется спад в публикации объявлений в субботу и воскресенье, это закономерная тенденция."
   ]
  },
  {
   "cell_type": "code",
   "execution_count": 64,
   "metadata": {},
   "outputs": [
    {
     "data": {
      "image/png": "[encoded data removed]",
      "text/plain": [
       "<Figure size 432x288 with 1 Axes>"
      ]
     },
     "metadata": {
      "needs_background": "light"
     },
     "output_type": "display_data"
    }
   ],
   "source": [
    "data.hist('month', bins=12);"
   ]
  },
  {
   "cell_type": "markdown",
   "metadata": {},
   "source": [
    "С февраля по апрель имелась повышенная активность. Так же был плавный рост активности с июня по ноябрь. Провалы в декабре, январе и мае."
   ]
  },
  {
   "cell_type": "code",
   "execution_count": 65,
   "metadata": {},
   "outputs": [
    {
     "name": "stdout",
     "output_type": "stream",
     "text": [
      "Среднее время продажи квартиры в днях: 171\n",
      "Медианное время продажи квартиры в днях: 93\n",
      "\n",
      "[Выбросы] Количество объявлений, которые сняты через:\n",
      "45 дней: 870\n",
      "60 дней: 535\n",
      "90 дней: 202\n"
     ]
    },
    {
     "data": {
      "image/png": "[encoded data removed]",
      "text/plain": [
       "<Figure size 432x288 with 1 Axes>"
      ]
     },
     "metadata": {
      "needs_background": "light"
     },
     "output_type": "display_data"
    },
    {
     "data": {
      "image/png": "[encoded data removed]",
      "text/plain": [
       "<Figure size 432x288 with 1 Axes>"
      ]
     },
     "metadata": {
      "needs_background": "light"
     },
     "output_type": "display_data"
    }
   ],
   "source": [
    "data.hist('days_exposition', bins=100);\n",
    "data.hist('days_exposition', bins=100, range = (0,100));\n",
    "print(f'Среднее время продажи квартиры в днях:',int(data['days_exposition'].mean()))\n",
    "print('Медианное время продажи квартиры в днях:',int(data['days_exposition'].median()))\n",
    "\n",
    "print('\\n[Выбросы] Количество объявлений, которые сняты через:')\n",
    "print('45 дней:',data[data['days_exposition']==45]['days_exposition'].count())\n",
    "print('60 дней:',data[data['days_exposition']==60]['days_exposition'].count())\n",
    "print('90 дней:',data[data['days_exposition']==90]['days_exposition'].count())"
   ]
  },
  {
   "cell_type": "markdown",
   "metadata": {},
   "source": [
    "Среднее время продажи квартиры равняется 180 дням. Если обратиться к медиане, 95 дней, в два раза меньше, т.к. имеется \"длинный хвост\" квартир, которые продавались очень долго - годами.\n",
    "Исходя из этого, можно утверждать, что быстрыми продажи являются сделки до 95 дней, а долгими - свыше 180 дней."
   ]
  },
  {
   "cell_type": "code",
   "execution_count": 66,
   "metadata": {},
   "outputs": [
    {
     "name": "stdout",
     "output_type": "stream",
     "text": [
      "Корреляция между last_price и total_area составляет: 75.51%\n",
      "Корреляция между last_price и living_area составляет: 66.55%\n",
      "Корреляция между last_price и kitchen_area составляет: 56.00%\n",
      "Корреляция между last_price и rooms составляет: 45.80%\n",
      "Корреляция между last_price и floor_category_digit составляет: 5.71%\n"
     ]
    }
   ],
   "source": [
    "list_for_graph = ['total_area',\n",
    "                  'living_area',\n",
    "                  'kitchen_area',\n",
    "                  'rooms',\n",
    "                  'floor_category_digit']\n",
    "\n",
    "for entry in list_for_graph:\n",
    "    correlation = data['last_price'].corr(data[entry])\n",
    "    print(f'Корреляция между last_price и {entry} составляет: {correlation:0.2%}')"
   ]
  },
  {
   "cell_type": "code",
   "execution_count": 67,
   "metadata": {},
   "outputs": [
    {
     "data": {
      "image/png": "[encoded data removed]",
      "text/plain": [
       "<Figure size 432x288 with 1 Axes>"
      ]
     },
     "metadata": {
      "needs_background": "light"
     },
     "output_type": "display_data"
    },
    {
     "data": {
      "image/png": "[encoded data removed]",
      "text/plain": [
       "<Figure size 432x288 with 1 Axes>"
      ]
     },
     "metadata": {
      "needs_background": "light"
     },
     "output_type": "display_data"
    },
    {
     "data": {
      "image/png": "[encoded data removed]",
      "text/plain": [
       "<Figure size 432x288 with 1 Axes>"
      ]
     },
     "metadata": {
      "needs_background": "light"
     },
     "output_type": "display_data"
    }
   ],
   "source": [
    "data.plot(x='last_price', y='total_area', kind='scatter', alpha=0.2)\n",
    "data.plot(x='last_price', y='living_area', kind='scatter', alpha=0.2)\n",
    "data.plot(x='last_price', y='kitchen_area', kind='scatter', alpha=0.2);"
   ]
  },
  {
   "cell_type": "code",
   "execution_count": 68,
   "metadata": {},
   "outputs": [
    {
     "data": {
      "image/png": "[encoded data removed]",
      "text/plain": [
       "<Figure size 432x288 with 1 Axes>"
      ]
     },
     "metadata": {
      "needs_background": "light"
     },
     "output_type": "display_data"
    }
   ],
   "source": [
    "data.pivot_table(index='rooms',values='last_price').plot(y='last_price', kind='bar');"
   ]
  },
  {
   "cell_type": "code",
   "execution_count": 69,
   "metadata": {},
   "outputs": [
    {
     "data": {
      "image/png": "[encoded data removed]",
      "text/plain": [
       "<Figure size 432x288 with 1 Axes>"
      ]
     },
     "metadata": {
      "needs_background": "light"
     },
     "output_type": "display_data"
    },
    {
     "data": {
      "image/png": "[encoded data removed]",
      "text/plain": [
       "<Figure size 432x288 with 1 Axes>"
      ]
     },
     "metadata": {
      "needs_background": "light"
     },
     "output_type": "display_data"
    },
    {
     "data": {
      "image/png": "[encoded data removed]",
      "text/plain": [
       "<Figure size 432x288 with 1 Axes>"
      ]
     },
     "metadata": {
      "needs_background": "light"
     },
     "output_type": "display_data"
    },
    {
     "data": {
      "image/png": "[encoded data removed]",
      "text/plain": [
       "<Figure size 432x288 with 1 Axes>"
      ]
     },
     "metadata": {
      "needs_background": "light"
     },
     "output_type": "display_data"
    },
    {
     "data": {
      "image/png": "[encoded data removed]",
      "text/plain": [
       "<Figure size 432x288 with 1 Axes>"
      ]
     },
     "metadata": {
      "needs_background": "light"
     },
     "output_type": "display_data"
    },
    {
     "data": {
      "image/png": "[encoded data removed]",
      "text/plain": [
       "<Figure size 432x288 with 1 Axes>"
      ]
     },
     "metadata": {
      "needs_background": "light"
     },
     "output_type": "display_data"
    }
   ],
   "source": [
    "data.pivot_table(index='dayofweek',values='last_price',aggfunc='mean').plot(y='last_price', kind='line', title='mean')\n",
    "data.pivot_table(index='dayofweek',values='last_price',aggfunc='median').plot(y='last_price', kind='line', title='median')\n",
    "\n",
    "data.pivot_table(index='month',values='last_price',aggfunc='mean').plot(y='last_price', kind='line', title='mean')\n",
    "data.pivot_table(index='month',values='last_price',aggfunc='median').plot(y='last_price', kind='line', title='median')\n",
    "\n",
    "data.pivot_table(index='year',values='last_price',aggfunc='mean').plot(y='last_price', kind='line', title='mean')\n",
    "data.pivot_table(index='year',values='last_price',aggfunc='median').plot(y='last_price', kind='line', title='median');"
   ]
  },
  {
   "cell_type": "markdown",
   "metadata": {},
   "source": [
    "Цена зависит от: общей площади, жилой площади, площади кухни, количества комнат.\n",
    "Цена практически на зависит от: этажа, даты размещения."
   ]
  },
  {
   "cell_type": "code",
   "execution_count": 70,
   "metadata": {},
   "outputs": [
    {
     "data": {
      "image/png": "[encoded data removed]",
      "text/plain": [
       "<Figure size 432x288 with 1 Axes>"
      ]
     },
     "metadata": {
      "needs_background": "light"
     },
     "output_type": "display_data"
    },
    {
     "data": {
      "image/png": "[encoded data removed]",
      "text/plain": [
       "<Figure size 432x288 with 1 Axes>"
      ]
     },
     "metadata": {
      "needs_background": "light"
     },
     "output_type": "display_data"
    }
   ],
   "source": [
    "data.pivot_table(index='floor_category',values='last_price').plot(y='last_price', kind='barh')\n",
    "data.plot(x='last_price', y='floor_category', kind='scatter', alpha=0.2);"
   ]
  },
  {
   "cell_type": "code",
   "execution_count": 71,
   "metadata": {},
   "outputs": [
    {
     "data": {
      "text/plain": [
       "<AxesSubplot:ylabel='locality_name'>"
      ]
     },
     "execution_count": 71,
     "metadata": {},
     "output_type": "execute_result"
    },
    {
     "data": {
      "image/png": "[encoded data removed]",
      "text/plain": [
       "<Figure size 432x288 with 1 Axes>"
      ]
     },
     "metadata": {
      "needs_background": "light"
     },
     "output_type": "display_data"
    }
   ],
   "source": [
    "top_10 = data.pivot_table(index='locality_name', values=['last_price','total_area'] ,aggfunc=['sum','count'])\n",
    "top_10.columns=['last_price_sum','total_area_sum','last_price_count','total_area_count']\n",
    "top_10.pop('total_area_count')\n",
    "top_10.sort_values(by=['last_price_count'],ascending=False, inplace=True)\n",
    "top_10 = top_10.iloc[:10]\n",
    "top_10['price_per_sq_m'] = top_10['last_price_sum']/top_10['total_area_sum']\n",
    "top_10.sort_values(by=['price_per_sq_m'],ascending=True, inplace=True)\n",
    "top_10['price_per_sq_m'].plot(kind='barh')"
   ]
  },
  {
   "cell_type": "code",
   "execution_count": 72,
   "metadata": {},
   "outputs": [
    {
     "data": {
      "text/html": [
       "<div>\n",
       "<style scoped>\n",
       "    .dataframe tbody tr th:only-of-type {\n",
       "        vertical-align: middle;\n",
       "    }\n",
       "\n",
       "    .dataframe tbody tr th {\n",
       "        vertical-align: top;\n",
       "    }\n",
       "\n",
       "    .dataframe thead th {\n",
       "        text-align: right;\n",
       "    }\n",
       "</style>\n",
       "<table border=\"1\" class=\"dataframe\">\n",
       "  <thead>\n",
       "    <tr style=\"text-align: right;\">\n",
       "      <th></th>\n",
       "      <th>total_images</th>\n",
       "      <th>last_price</th>\n",
       "      <th>total_area</th>\n",
       "      <th>first_day_exposition</th>\n",
       "      <th>rooms</th>\n",
       "      <th>ceiling_height</th>\n",
       "      <th>floors_total</th>\n",
       "      <th>living_area</th>\n",
       "      <th>floor</th>\n",
       "      <th>is_apartment</th>\n",
       "      <th>studio</th>\n",
       "      <th>open_plan</th>\n",
       "      <th>kitchen_area</th>\n",
       "      <th>balcony</th>\n",
       "      <th>locality_name</th>\n",
       "      <th>airports_nearest</th>\n",
       "      <th>city_centers_nearest</th>\n",
       "      <th>parks_around3000</th>\n",
       "      <th>parks_nearest</th>\n",
       "      <th>ponds_around3000</th>\n",
       "      <th>ponds_nearest</th>\n",
       "      <th>days_exposition</th>\n",
       "      <th>cost_per_sqm</th>\n",
       "      <th>dayofweek</th>\n",
       "      <th>month</th>\n",
       "      <th>year</th>\n",
       "      <th>floor_category</th>\n",
       "      <th>floor_category_digit</th>\n",
       "      <th>city_centers_nearest_km</th>\n",
       "    </tr>\n",
       "  </thead>\n",
       "  <tbody>\n",
       "    <tr>\n",
       "      <th>0</th>\n",
       "      <td>20</td>\n",
       "      <td>13.000</td>\n",
       "      <td>108.0</td>\n",
       "      <td>2019-03-07</td>\n",
       "      <td>3</td>\n",
       "      <td>2.70</td>\n",
       "      <td>16</td>\n",
       "      <td>51.0</td>\n",
       "      <td>8</td>\n",
       "      <td>False</td>\n",
       "      <td>False</td>\n",
       "      <td>False</td>\n",
       "      <td>25.0</td>\n",
       "      <td>0</td>\n",
       "      <td>санкт-петербург</td>\n",
       "      <td>18863.0</td>\n",
       "      <td>16028.0</td>\n",
       "      <td>1.0</td>\n",
       "      <td>482.0</td>\n",
       "      <td>2.0</td>\n",
       "      <td>755.0</td>\n",
       "      <td>&lt;NA&gt;</td>\n",
       "      <td>120370.370370</td>\n",
       "      <td>3</td>\n",
       "      <td>3</td>\n",
       "      <td>2019</td>\n",
       "      <td>другой</td>\n",
       "      <td>1</td>\n",
       "      <td>16</td>\n",
       "    </tr>\n",
       "    <tr>\n",
       "      <th>1</th>\n",
       "      <td>7</td>\n",
       "      <td>3.350</td>\n",
       "      <td>40.4</td>\n",
       "      <td>2018-12-04</td>\n",
       "      <td>1</td>\n",
       "      <td>2.70</td>\n",
       "      <td>11</td>\n",
       "      <td>18.6</td>\n",
       "      <td>1</td>\n",
       "      <td>False</td>\n",
       "      <td>False</td>\n",
       "      <td>False</td>\n",
       "      <td>11.0</td>\n",
       "      <td>2</td>\n",
       "      <td>поселок шушары</td>\n",
       "      <td>12817.0</td>\n",
       "      <td>18603.0</td>\n",
       "      <td>0.0</td>\n",
       "      <td>NaN</td>\n",
       "      <td>0.0</td>\n",
       "      <td>NaN</td>\n",
       "      <td>81</td>\n",
       "      <td>82920.792079</td>\n",
       "      <td>1</td>\n",
       "      <td>12</td>\n",
       "      <td>2018</td>\n",
       "      <td>первый</td>\n",
       "      <td>0</td>\n",
       "      <td>19</td>\n",
       "    </tr>\n",
       "    <tr>\n",
       "      <th>2</th>\n",
       "      <td>10</td>\n",
       "      <td>5.196</td>\n",
       "      <td>56.0</td>\n",
       "      <td>2015-08-20</td>\n",
       "      <td>2</td>\n",
       "      <td>2.70</td>\n",
       "      <td>5</td>\n",
       "      <td>34.3</td>\n",
       "      <td>4</td>\n",
       "      <td>False</td>\n",
       "      <td>False</td>\n",
       "      <td>False</td>\n",
       "      <td>8.3</td>\n",
       "      <td>0</td>\n",
       "      <td>санкт-петербург</td>\n",
       "      <td>21741.0</td>\n",
       "      <td>13933.0</td>\n",
       "      <td>1.0</td>\n",
       "      <td>90.0</td>\n",
       "      <td>2.0</td>\n",
       "      <td>574.0</td>\n",
       "      <td>558</td>\n",
       "      <td>92785.714286</td>\n",
       "      <td>3</td>\n",
       "      <td>8</td>\n",
       "      <td>2015</td>\n",
       "      <td>другой</td>\n",
       "      <td>1</td>\n",
       "      <td>14</td>\n",
       "    </tr>\n",
       "    <tr>\n",
       "      <th>3</th>\n",
       "      <td>0</td>\n",
       "      <td>64.900</td>\n",
       "      <td>159.0</td>\n",
       "      <td>2015-07-24</td>\n",
       "      <td>3</td>\n",
       "      <td>2.70</td>\n",
       "      <td>14</td>\n",
       "      <td>NaN</td>\n",
       "      <td>9</td>\n",
       "      <td>False</td>\n",
       "      <td>False</td>\n",
       "      <td>False</td>\n",
       "      <td>NaN</td>\n",
       "      <td>0</td>\n",
       "      <td>санкт-петербург</td>\n",
       "      <td>28098.0</td>\n",
       "      <td>6800.0</td>\n",
       "      <td>2.0</td>\n",
       "      <td>84.0</td>\n",
       "      <td>3.0</td>\n",
       "      <td>234.0</td>\n",
       "      <td>424</td>\n",
       "      <td>408176.100629</td>\n",
       "      <td>4</td>\n",
       "      <td>7</td>\n",
       "      <td>2015</td>\n",
       "      <td>другой</td>\n",
       "      <td>1</td>\n",
       "      <td>7</td>\n",
       "    </tr>\n",
       "    <tr>\n",
       "      <th>4</th>\n",
       "      <td>2</td>\n",
       "      <td>10.000</td>\n",
       "      <td>100.0</td>\n",
       "      <td>2018-06-19</td>\n",
       "      <td>2</td>\n",
       "      <td>3.03</td>\n",
       "      <td>14</td>\n",
       "      <td>32.0</td>\n",
       "      <td>13</td>\n",
       "      <td>False</td>\n",
       "      <td>False</td>\n",
       "      <td>False</td>\n",
       "      <td>41.0</td>\n",
       "      <td>0</td>\n",
       "      <td>санкт-петербург</td>\n",
       "      <td>31856.0</td>\n",
       "      <td>8098.0</td>\n",
       "      <td>2.0</td>\n",
       "      <td>112.0</td>\n",
       "      <td>1.0</td>\n",
       "      <td>48.0</td>\n",
       "      <td>121</td>\n",
       "      <td>100000.000000</td>\n",
       "      <td>1</td>\n",
       "      <td>6</td>\n",
       "      <td>2018</td>\n",
       "      <td>другой</td>\n",
       "      <td>1</td>\n",
       "      <td>8</td>\n",
       "    </tr>\n",
       "  </tbody>\n",
       "</table>\n",
       "</div>"
      ],
      "text/plain": [
       "   total_images  last_price  total_area first_day_exposition  rooms  \\\n",
       "0            20      13.000       108.0           2019-03-07      3   \n",
       "1             7       3.350        40.4           2018-12-04      1   \n",
       "2            10       5.196        56.0           2015-08-20      2   \n",
       "3             0      64.900       159.0           2015-07-24      3   \n",
       "4             2      10.000       100.0           2018-06-19      2   \n",
       "\n",
       "   ceiling_height  floors_total  living_area  floor is_apartment  studio  \\\n",
       "0            2.70            16         51.0      8        False   False   \n",
       "1            2.70            11         18.6      1        False   False   \n",
       "2            2.70             5         34.3      4        False   False   \n",
       "3            2.70            14          NaN      9        False   False   \n",
       "4            3.03            14         32.0     13        False   False   \n",
       "\n",
       "   open_plan  kitchen_area  balcony    locality_name  airports_nearest  \\\n",
       "0      False          25.0        0  санкт-петербург           18863.0   \n",
       "1      False          11.0        2   поселок шушары           12817.0   \n",
       "2      False           8.3        0  санкт-петербург           21741.0   \n",
       "3      False           NaN        0  санкт-петербург           28098.0   \n",
       "4      False          41.0        0  санкт-петербург           31856.0   \n",
       "\n",
       "   city_centers_nearest  parks_around3000  parks_nearest  ponds_around3000  \\\n",
       "0               16028.0               1.0          482.0               2.0   \n",
       "1               18603.0               0.0            NaN               0.0   \n",
       "2               13933.0               1.0           90.0               2.0   \n",
       "3                6800.0               2.0           84.0               3.0   \n",
       "4                8098.0               2.0          112.0               1.0   \n",
       "\n",
       "   ponds_nearest  days_exposition   cost_per_sqm  dayofweek  month  year  \\\n",
       "0          755.0             <NA>  120370.370370          3      3  2019   \n",
       "1            NaN               81   82920.792079          1     12  2018   \n",
       "2          574.0              558   92785.714286          3      8  2015   \n",
       "3          234.0              424  408176.100629          4      7  2015   \n",
       "4           48.0              121  100000.000000          1      6  2018   \n",
       "\n",
       "  floor_category  floor_category_digit  city_centers_nearest_km  \n",
       "0         другой                     1                       16  \n",
       "1         первый                     0                       19  \n",
       "2         другой                     1                       14  \n",
       "3         другой                     1                        7  \n",
       "4         другой                     1                        8  "
      ]
     },
     "execution_count": 72,
     "metadata": {},
     "output_type": "execute_result"
    }
   ],
   "source": [
    "data.head()"
   ]
  },
  {
   "cell_type": "code",
   "execution_count": 73,
   "metadata": {},
   "outputs": [
    {
     "data": {
      "text/plain": [
       "1    7957\n",
       "2    7814\n",
       "3    5702\n",
       "4    1138\n",
       "5     297\n",
       "0     192\n",
       "6      94\n",
       "7      44\n",
       "Name: rooms, dtype: int64"
      ]
     },
     "execution_count": 73,
     "metadata": {},
     "output_type": "execute_result"
    }
   ],
   "source": [
    "data['rooms'].value_counts()"
   ]
  },
  {
   "cell_type": "code",
   "execution_count": 74,
   "metadata": {},
   "outputs": [
    {
     "data": {
      "text/plain": [
       "rooms\n",
       "1    7957\n",
       "2    7814\n",
       "3    5702\n",
       "4    1138\n",
       "5     297\n",
       "0     192\n",
       "6      94\n",
       "7      44\n",
       "Name: rooms, dtype: int64"
      ]
     },
     "execution_count": 74,
     "metadata": {},
     "output_type": "execute_result"
    }
   ],
   "source": [
    "data.groupby(by='rooms')['rooms'].count().sort_values(ascending=False)"
   ]
  },
  {
   "cell_type": "markdown",
   "metadata": {},
   "source": [
    "    Самые дорогие квартиры в Санкт-Петербурге. И в ближайших к нему населенных пунктах."
   ]
  },
  {
   "cell_type": "code",
   "execution_count": 75,
   "metadata": {},
   "outputs": [
    {
     "data": {
      "text/plain": [
       "<AxesSubplot:xlabel='city_centers_nearest_km'>"
      ]
     },
     "execution_count": 75,
     "metadata": {},
     "output_type": "execute_result"
    },
    {
     "data": {
      "image/png": "[encoded data removed]",
      "text/plain": [
       "<Figure size 432x288 with 1 Axes>"
      ]
     },
     "metadata": {
      "needs_background": "light"
     },
     "output_type": "display_data"
    }
   ],
   "source": [
    "(\n",
    "    data[data['locality_name']=='санкт-петербург']\n",
    "    .pivot_table(\n",
    "        index='city_centers_nearest_km',\n",
    "        values='last_price',\n",
    "        aggfunc='mean')\n",
    "    .plot(kind='bar')\n",
    ")"
   ]
  },
  {
   "cell_type": "markdown",
   "metadata": {},
   "source": [
    "Самая дорогая недвижимость до 1км.\n",
    "Более низкие цены на недвижимость на расстоянии от 1 км. до 7 км. включительно.\n",
    "Далее цена спадает на расстоянии от 8 км. до 27 км.\n",
    "Затем имеется пик на 27км, вероятно, это недвижимость в премиальном районе."
   ]
  },
  {
   "cell_type": "markdown",
   "metadata": {},
   "source": [
    "### Общий вывод"
   ]
  },
  {
   "cell_type": "markdown",
   "metadata": {},
   "source": [
    "Было проведено исследование, чтобы найти интересные особенности и зависимости, которые существуют на рынке недвижимости.\n",
    "Входные данные - данные сервиса Яндекс Недвижимость — архив объявлений за несколько лет о продаже квартир в Санкт-Петербурге и соседних населённых пунктах.\n",
    "Результаты исследования могут быть использованы риелторами, статистами или при прогнозировании продаж.\n",
    "\n",
    "Перед проведением исследования были поставлены несколько гипотез:\n",
    "    Гипотеза 1: влияет на общую стоимость объекта общая площадь;\n",
    "    Гипотеза 2: влияет на общую стоимость объекта жилая площадь;\n",
    "    Гипотеза 3: влияет на общую стоимость объекта площадь кухни;\n",
    "    Гипотеза 4: влияет на общую стоимость объекта количество комнат;\n",
    "    Гипотеза 5: влияет на общую стоимость объекта этаж, на котором расположена квартира;\n",
    "    Гипотеза 6: стоимость объекта зависит от расстояния до центра города.\n",
    "        \n",
    "В результате удалось выявить зависимости.\n",
    "\n",
    "Гипотеза 1 подтверждена: общая площадь объекта влияет на стоимость объекта - 76%.\n",
    "Гипотеза 2 подтверждена: жилая площадь объекта влияет на стоимость объекта на - 67%.\n",
    "Гипотеза 3 подтверждена: площадь кухни объекта влияет на стоимость объекта на - 56%.\n",
    "Гипотеза 4 подтверждена частично: корреляция между количеством комнат и стоимостью объектов - 46%.\n",
    "Гипотеза 5 не подтверждена: этаж объекта не влияет на итоговую стоимость - 6%.\n",
    "Гипотеза 6 подтверждена: самые догогие объекты в радиусе 1 км от центра города.\n",
    "    \n",
    "Общие вывод:\n",
    "1. Итоговая цена продаваемого объекта в большей мере зависит от его общей площади.\n",
    "2. На конечную стоимость оказывают такие параметры как жилая площадь, площадь кухни и в некоторых случаях количество комнат.\n",
    "3. Влияние на итоговую цену оказывает расположение объекта, чем ближе к центру, тем дороже.\n",
    "4. Этаж, на котором расположен продаваемый объект, не оказывает влияния."
   ]
  },
  {
   "cell_type": "code",
   "execution_count": null,
   "metadata": {},
   "outputs": [],
   "source": []
  }
 ],
 "metadata": {
  "ExecuteTimeLog": [
   {
    "duration": 707,
    "start_time": "2023-01-07T02:29:39.867Z"
   },
   {
    "duration": 80,
    "start_time": "2023-01-07T02:29:47.153Z"
   },
   {
    "duration": 82,
    "start_time": "2023-01-07T02:32:17.307Z"
   },
   {
    "duration": 79,
    "start_time": "2023-01-07T02:38:35.258Z"
   },
   {
    "duration": 80,
    "start_time": "2023-01-07T02:39:09.477Z"
   },
   {
    "duration": 77,
    "start_time": "2023-01-07T02:39:28.835Z"
   },
   {
    "duration": 79,
    "start_time": "2023-01-07T02:39:31.320Z"
   },
   {
    "duration": 55,
    "start_time": "2023-01-07T02:39:32.187Z"
   },
   {
    "duration": 78,
    "start_time": "2023-01-07T02:39:34.792Z"
   },
   {
    "duration": 133,
    "start_time": "2023-01-07T02:41:54.932Z"
   },
   {
    "duration": 87,
    "start_time": "2023-01-07T02:42:12.340Z"
   },
   {
    "duration": 403,
    "start_time": "2023-01-07T02:42:51.848Z"
   },
   {
    "duration": 95,
    "start_time": "2023-01-07T02:45:29.822Z"
   },
   {
    "duration": 87,
    "start_time": "2023-01-07T02:46:19.161Z"
   },
   {
    "duration": 48,
    "start_time": "2023-01-07T02:46:44.753Z"
   },
   {
    "duration": 86,
    "start_time": "2023-01-07T02:48:15.016Z"
   },
   {
    "duration": 180,
    "start_time": "2023-01-07T02:51:29.055Z"
   },
   {
    "duration": 87,
    "start_time": "2023-01-07T02:53:23.083Z"
   },
   {
    "duration": 203,
    "start_time": "2023-01-07T02:56:45.189Z"
   },
   {
    "duration": 202,
    "start_time": "2023-01-07T02:56:53.876Z"
   },
   {
    "duration": 212,
    "start_time": "2023-01-07T02:57:09.497Z"
   },
   {
    "duration": 38,
    "start_time": "2023-01-07T02:57:33.539Z"
   },
   {
    "duration": 209,
    "start_time": "2023-01-07T02:58:16.962Z"
   },
   {
    "duration": 201,
    "start_time": "2023-01-07T02:59:35.839Z"
   },
   {
    "duration": 178,
    "start_time": "2023-01-07T03:01:10.659Z"
   },
   {
    "duration": 87,
    "start_time": "2023-01-07T03:01:38.161Z"
   },
   {
    "duration": 145,
    "start_time": "2023-01-07T03:03:27.358Z"
   },
   {
    "duration": 145,
    "start_time": "2023-01-07T03:04:31.823Z"
   },
   {
    "duration": 82,
    "start_time": "2023-01-07T03:06:32.815Z"
   },
   {
    "duration": 88,
    "start_time": "2023-01-07T03:07:11.603Z"
   },
   {
    "duration": 110,
    "start_time": "2023-01-07T03:07:26.106Z"
   },
   {
    "duration": 89,
    "start_time": "2023-01-07T03:07:48.951Z"
   },
   {
    "duration": 87,
    "start_time": "2023-01-07T03:08:13.705Z"
   },
   {
    "duration": 160,
    "start_time": "2023-01-07T03:08:34.141Z"
   },
   {
    "duration": 142,
    "start_time": "2023-01-07T03:09:17.303Z"
   },
   {
    "duration": 83,
    "start_time": "2023-01-07T03:09:38.970Z"
   },
   {
    "duration": 84,
    "start_time": "2023-01-07T03:59:59.980Z"
   },
   {
    "duration": 83,
    "start_time": "2023-01-07T04:01:49.704Z"
   },
   {
    "duration": 85,
    "start_time": "2023-01-07T04:02:20.581Z"
   },
   {
    "duration": 89,
    "start_time": "2023-01-07T04:02:53.827Z"
   },
   {
    "duration": 459,
    "start_time": "2023-01-08T07:03:57.687Z"
   },
   {
    "duration": 290,
    "start_time": "2023-01-08T07:04:16.833Z"
   },
   {
    "duration": 148,
    "start_time": "2023-01-08T07:06:49.941Z"
   },
   {
    "duration": 111,
    "start_time": "2023-01-08T07:12:51.157Z"
   },
   {
    "duration": 137,
    "start_time": "2023-01-08T07:13:24.102Z"
   },
   {
    "duration": 100,
    "start_time": "2023-01-08T07:15:26.943Z"
   },
   {
    "duration": 2305,
    "start_time": "2023-01-08T07:16:34.060Z"
   },
   {
    "duration": 1980,
    "start_time": "2023-01-08T07:17:43.385Z"
   },
   {
    "duration": 1968,
    "start_time": "2023-01-08T07:18:05.479Z"
   },
   {
    "duration": 695,
    "start_time": "2023-01-08T07:32:26.298Z"
   },
   {
    "duration": 5,
    "start_time": "2023-01-08T07:32:47.457Z"
   },
   {
    "duration": 43,
    "start_time": "2023-01-08T07:33:36.604Z"
   },
   {
    "duration": 6,
    "start_time": "2023-01-08T07:40:43.260Z"
   },
   {
    "duration": 5,
    "start_time": "2023-01-08T07:41:01.969Z"
   },
   {
    "duration": 7,
    "start_time": "2023-01-08T07:41:17.809Z"
   },
   {
    "duration": 8,
    "start_time": "2023-01-08T07:41:37.579Z"
   },
   {
    "duration": 1720,
    "start_time": "2023-01-08T07:46:25.710Z"
   },
   {
    "duration": 1991,
    "start_time": "2023-01-08T07:47:07.538Z"
   },
   {
    "duration": 1988,
    "start_time": "2023-01-08T07:52:18.465Z"
   },
   {
    "duration": 2044,
    "start_time": "2023-01-08T07:53:25.216Z"
   },
   {
    "duration": 1995,
    "start_time": "2023-01-08T07:54:16.405Z"
   },
   {
    "duration": 9,
    "start_time": "2023-01-08T07:59:14.200Z"
   },
   {
    "duration": 222,
    "start_time": "2023-01-08T09:50:36.974Z"
   },
   {
    "duration": 232,
    "start_time": "2023-01-08T09:52:01.003Z"
   },
   {
    "duration": 262,
    "start_time": "2023-01-08T09:56:13.085Z"
   },
   {
    "duration": 278,
    "start_time": "2023-01-08T09:57:01.422Z"
   },
   {
    "duration": 248,
    "start_time": "2023-01-08T10:03:11.035Z"
   },
   {
    "duration": 300,
    "start_time": "2023-01-08T10:04:12.698Z"
   },
   {
    "duration": 48,
    "start_time": "2023-01-09T06:23:55.324Z"
   },
   {
    "duration": 14,
    "start_time": "2023-01-09T07:01:13.377Z"
   },
   {
    "duration": 11,
    "start_time": "2023-01-09T07:01:23.246Z"
   },
   {
    "duration": 11,
    "start_time": "2023-01-09T07:01:28.713Z"
   },
   {
    "duration": 2902,
    "start_time": "2023-01-09T07:02:43.336Z"
   },
   {
    "duration": 117,
    "start_time": "2023-01-09T07:03:17.437Z"
   },
   {
    "duration": 106,
    "start_time": "2023-01-09T07:04:01.563Z"
   },
   {
    "duration": 1899,
    "start_time": "2023-01-09T07:04:15.083Z"
   },
   {
    "duration": 1940,
    "start_time": "2023-01-09T07:09:03.010Z"
   },
   {
    "duration": 1820,
    "start_time": "2023-01-09T07:09:45.053Z"
   },
   {
    "duration": 3,
    "start_time": "2023-01-09T07:13:18.121Z"
   },
   {
    "duration": 4,
    "start_time": "2023-01-09T07:13:23.163Z"
   },
   {
    "duration": 45,
    "start_time": "2023-01-09T07:13:29.876Z"
   },
   {
    "duration": 161,
    "start_time": "2023-01-09T07:23:44.275Z"
   },
   {
    "duration": 11,
    "start_time": "2023-01-09T07:25:44.382Z"
   },
   {
    "duration": 56,
    "start_time": "2023-01-09T17:25:44.157Z"
   },
   {
    "duration": 8,
    "start_time": "2023-01-09T17:25:50.690Z"
   },
   {
    "duration": 9,
    "start_time": "2023-01-09T17:26:18.872Z"
   },
   {
    "duration": 8,
    "start_time": "2023-01-09T17:26:21.852Z"
   },
   {
    "duration": 8,
    "start_time": "2023-01-09T17:26:37.748Z"
   },
   {
    "duration": 8,
    "start_time": "2023-01-09T17:26:39.102Z"
   },
   {
    "duration": 9,
    "start_time": "2023-01-09T17:27:01.778Z"
   },
   {
    "duration": 11,
    "start_time": "2023-01-09T17:27:48.178Z"
   },
   {
    "duration": 9,
    "start_time": "2023-01-09T17:27:51.454Z"
   },
   {
    "duration": 3591,
    "start_time": "2023-01-09T17:28:01.171Z"
   },
   {
    "duration": 256,
    "start_time": "2023-01-09T17:28:04.764Z"
   },
   {
    "duration": 242,
    "start_time": "2023-01-09T17:28:35.817Z"
   },
   {
    "duration": 13,
    "start_time": "2023-01-09T17:28:45.761Z"
   },
   {
    "duration": 243,
    "start_time": "2023-01-09T17:28:57.768Z"
   },
   {
    "duration": 1064,
    "start_time": "2023-01-09T17:40:38.699Z"
   },
   {
    "duration": 19,
    "start_time": "2023-01-09T17:41:08.007Z"
   },
   {
    "duration": 2380,
    "start_time": "2023-01-09T17:41:14.253Z"
   },
   {
    "duration": 3,
    "start_time": "2023-01-09T17:41:59.074Z"
   },
   {
    "duration": 13,
    "start_time": "2023-01-09T17:43:19.429Z"
   },
   {
    "duration": 55,
    "start_time": "2023-01-09T18:03:20.446Z"
   },
   {
    "duration": 607,
    "start_time": "2023-01-09T18:03:31.699Z"
   },
   {
    "duration": 15,
    "start_time": "2023-01-09T18:03:32.308Z"
   },
   {
    "duration": 2531,
    "start_time": "2023-01-09T18:03:32.325Z"
   },
   {
    "duration": 4,
    "start_time": "2023-01-09T18:03:34.859Z"
   },
   {
    "duration": 14,
    "start_time": "2023-01-09T18:03:34.865Z"
   },
   {
    "duration": 263,
    "start_time": "2023-01-09T18:03:34.881Z"
   },
   {
    "duration": 59,
    "start_time": "2023-01-09T18:16:57.812Z"
   },
   {
    "duration": 914,
    "start_time": "2023-01-09T18:17:05.364Z"
   },
   {
    "duration": 17,
    "start_time": "2023-01-09T18:17:06.280Z"
   },
   {
    "duration": 2757,
    "start_time": "2023-01-09T18:17:06.299Z"
   },
   {
    "duration": 4,
    "start_time": "2023-01-09T18:17:09.059Z"
   },
   {
    "duration": 23,
    "start_time": "2023-01-09T18:17:09.065Z"
   },
   {
    "duration": 283,
    "start_time": "2023-01-09T18:17:09.089Z"
   },
   {
    "duration": 5,
    "start_time": "2023-01-09T18:17:09.373Z"
   },
   {
    "duration": 9,
    "start_time": "2023-01-09T18:17:09.380Z"
   },
   {
    "duration": 15,
    "start_time": "2023-01-09T18:17:09.390Z"
   },
   {
    "duration": 13,
    "start_time": "2023-01-09T18:17:09.408Z"
   },
   {
    "duration": 52,
    "start_time": "2023-01-09T18:17:09.423Z"
   },
   {
    "duration": 23,
    "start_time": "2023-01-09T18:43:45.623Z"
   },
   {
    "duration": 29,
    "start_time": "2023-01-09T18:44:56.277Z"
   },
   {
    "duration": 26,
    "start_time": "2023-01-09T18:46:07.188Z"
   },
   {
    "duration": 28,
    "start_time": "2023-01-09T18:46:08.594Z"
   },
   {
    "duration": 88,
    "start_time": "2023-01-09T18:46:24.619Z"
   },
   {
    "duration": 24,
    "start_time": "2023-01-09T18:47:00.939Z"
   },
   {
    "duration": 566,
    "start_time": "2023-01-09T18:47:09.699Z"
   },
   {
    "duration": 15,
    "start_time": "2023-01-09T18:47:10.267Z"
   },
   {
    "duration": 2425,
    "start_time": "2023-01-09T18:47:10.284Z"
   },
   {
    "duration": 5,
    "start_time": "2023-01-09T18:47:12.712Z"
   },
   {
    "duration": 46,
    "start_time": "2023-01-09T18:47:12.718Z"
   },
   {
    "duration": 265,
    "start_time": "2023-01-09T18:47:12.765Z"
   },
   {
    "duration": 5,
    "start_time": "2023-01-09T18:47:13.034Z"
   },
   {
    "duration": 36,
    "start_time": "2023-01-09T18:47:13.040Z"
   },
   {
    "duration": 14,
    "start_time": "2023-01-09T18:47:13.078Z"
   },
   {
    "duration": 13,
    "start_time": "2023-01-09T18:47:13.094Z"
   },
   {
    "duration": 26,
    "start_time": "2023-01-09T18:47:13.109Z"
   },
   {
    "duration": 24,
    "start_time": "2023-01-09T18:47:13.137Z"
   },
   {
    "duration": 34,
    "start_time": "2023-01-09T18:47:17.618Z"
   },
   {
    "duration": 23,
    "start_time": "2023-01-09T18:48:22.400Z"
   },
   {
    "duration": 5,
    "start_time": "2023-01-09T18:49:26.893Z"
   },
   {
    "duration": 22,
    "start_time": "2023-01-09T18:55:06.237Z"
   },
   {
    "duration": 51,
    "start_time": "2023-01-10T05:48:52.833Z"
   },
   {
    "duration": 640,
    "start_time": "2023-01-10T05:49:03.149Z"
   },
   {
    "duration": 15,
    "start_time": "2023-01-10T05:49:03.792Z"
   },
   {
    "duration": 2563,
    "start_time": "2023-01-10T05:49:03.809Z"
   },
   {
    "duration": 4,
    "start_time": "2023-01-10T05:49:06.374Z"
   },
   {
    "duration": 27,
    "start_time": "2023-01-10T05:49:06.379Z"
   },
   {
    "duration": 216,
    "start_time": "2023-01-10T05:49:06.408Z"
   },
   {
    "duration": 4,
    "start_time": "2023-01-10T05:49:06.627Z"
   },
   {
    "duration": 7,
    "start_time": "2023-01-10T05:49:06.633Z"
   },
   {
    "duration": 12,
    "start_time": "2023-01-10T05:49:06.642Z"
   },
   {
    "duration": 21,
    "start_time": "2023-01-10T05:49:06.657Z"
   },
   {
    "duration": 15,
    "start_time": "2023-01-10T05:49:06.680Z"
   },
   {
    "duration": 21,
    "start_time": "2023-01-10T05:49:06.697Z"
   },
   {
    "duration": 14,
    "start_time": "2023-01-10T05:49:06.719Z"
   },
   {
    "duration": 4,
    "start_time": "2023-01-10T05:49:06.735Z"
   },
   {
    "duration": 43,
    "start_time": "2023-01-10T05:49:06.740Z"
   },
   {
    "duration": 12,
    "start_time": "2023-01-10T05:49:06.785Z"
   },
   {
    "duration": 18,
    "start_time": "2023-01-10T05:49:06.798Z"
   },
   {
    "duration": 42,
    "start_time": "2023-01-10T05:49:06.818Z"
   },
   {
    "duration": 7,
    "start_time": "2023-01-10T05:49:06.861Z"
   },
   {
    "duration": 84,
    "start_time": "2023-01-10T05:58:32.178Z"
   },
   {
    "duration": 33,
    "start_time": "2023-01-10T05:59:22.070Z"
   },
   {
    "duration": 6,
    "start_time": "2023-01-10T05:59:54.601Z"
   },
   {
    "duration": 6,
    "start_time": "2023-01-10T06:05:01.243Z"
   },
   {
    "duration": 75,
    "start_time": "2023-01-10T06:05:38.309Z"
   },
   {
    "duration": 4,
    "start_time": "2023-01-10T06:05:58.842Z"
   },
   {
    "duration": 67,
    "start_time": "2023-01-10T06:06:18.843Z"
   },
   {
    "duration": 96,
    "start_time": "2023-01-10T06:07:01.057Z"
   },
   {
    "duration": 9,
    "start_time": "2023-01-10T06:07:12.376Z"
   },
   {
    "duration": 92,
    "start_time": "2023-01-10T06:07:51.513Z"
   },
   {
    "duration": 95,
    "start_time": "2023-01-10T06:07:55.865Z"
   },
   {
    "duration": 5,
    "start_time": "2023-01-10T06:08:02.256Z"
   },
   {
    "duration": 84,
    "start_time": "2023-01-10T06:08:17.843Z"
   },
   {
    "duration": 5,
    "start_time": "2023-01-10T06:08:40.501Z"
   },
   {
    "duration": 5,
    "start_time": "2023-01-10T06:09:40.868Z"
   },
   {
    "duration": 8,
    "start_time": "2023-01-10T06:09:46.309Z"
   },
   {
    "duration": 10,
    "start_time": "2023-01-10T06:10:03.840Z"
   },
   {
    "duration": 6,
    "start_time": "2023-01-10T06:11:57.363Z"
   },
   {
    "duration": 11,
    "start_time": "2023-01-10T06:12:12.147Z"
   },
   {
    "duration": 85,
    "start_time": "2023-01-10T06:13:17.020Z"
   },
   {
    "duration": 151,
    "start_time": "2023-01-10T06:13:28.948Z"
   },
   {
    "duration": 7,
    "start_time": "2023-01-10T06:14:42.291Z"
   },
   {
    "duration": 11,
    "start_time": "2023-01-10T06:14:47.088Z"
   },
   {
    "duration": 9,
    "start_time": "2023-01-10T06:14:57.880Z"
   },
   {
    "duration": 81,
    "start_time": "2023-01-10T06:15:07.116Z"
   },
   {
    "duration": 113,
    "start_time": "2023-01-10T06:15:27.620Z"
   },
   {
    "duration": 13,
    "start_time": "2023-01-10T06:50:58.497Z"
   },
   {
    "duration": 7,
    "start_time": "2023-01-10T06:51:14.641Z"
   },
   {
    "duration": 72,
    "start_time": "2023-01-10T06:56:28.343Z"
   },
   {
    "duration": 5,
    "start_time": "2023-01-10T06:56:44.163Z"
   },
   {
    "duration": 4,
    "start_time": "2023-01-10T06:56:53.343Z"
   },
   {
    "duration": 6,
    "start_time": "2023-01-10T06:56:59.777Z"
   },
   {
    "duration": 7,
    "start_time": "2023-01-10T06:57:07.031Z"
   },
   {
    "duration": 9,
    "start_time": "2023-01-10T06:57:18.846Z"
   },
   {
    "duration": 80,
    "start_time": "2023-01-10T06:57:30.526Z"
   },
   {
    "duration": 74,
    "start_time": "2023-01-10T06:57:38.599Z"
   },
   {
    "duration": 107,
    "start_time": "2023-01-10T06:58:42.923Z"
   },
   {
    "duration": 9,
    "start_time": "2023-01-10T06:59:59.107Z"
   },
   {
    "duration": 6,
    "start_time": "2023-01-10T07:00:16.990Z"
   },
   {
    "duration": 72,
    "start_time": "2023-01-10T07:00:38.782Z"
   },
   {
    "duration": 89,
    "start_time": "2023-01-10T07:01:48.359Z"
   },
   {
    "duration": 87,
    "start_time": "2023-01-10T07:12:52.067Z"
   },
   {
    "duration": 26,
    "start_time": "2023-01-10T07:27:07.640Z"
   },
   {
    "duration": 28,
    "start_time": "2023-01-10T07:28:18.285Z"
   },
   {
    "duration": 34,
    "start_time": "2023-01-10T07:28:54.172Z"
   },
   {
    "duration": 34,
    "start_time": "2023-01-10T07:29:03.939Z"
   },
   {
    "duration": 618,
    "start_time": "2023-01-10T07:29:16.827Z"
   },
   {
    "duration": 32,
    "start_time": "2023-01-10T07:29:17.447Z"
   },
   {
    "duration": 3031,
    "start_time": "2023-01-10T07:29:17.481Z"
   },
   {
    "duration": 5,
    "start_time": "2023-01-10T07:29:20.516Z"
   },
   {
    "duration": 23,
    "start_time": "2023-01-10T07:29:20.523Z"
   },
   {
    "duration": 315,
    "start_time": "2023-01-10T07:29:20.548Z"
   },
   {
    "duration": 16,
    "start_time": "2023-01-10T07:29:20.865Z"
   },
   {
    "duration": 11,
    "start_time": "2023-01-10T07:29:20.883Z"
   },
   {
    "duration": 15,
    "start_time": "2023-01-10T07:29:20.897Z"
   },
   {
    "duration": 7,
    "start_time": "2023-01-10T07:29:20.916Z"
   },
   {
    "duration": 38,
    "start_time": "2023-01-10T07:29:20.925Z"
   },
   {
    "duration": 44,
    "start_time": "2023-01-10T07:29:20.967Z"
   },
   {
    "duration": 25,
    "start_time": "2023-01-10T07:29:21.014Z"
   },
   {
    "duration": 9,
    "start_time": "2023-01-10T07:29:21.041Z"
   },
   {
    "duration": 47,
    "start_time": "2023-01-10T07:29:21.052Z"
   },
   {
    "duration": 29,
    "start_time": "2023-01-10T07:29:21.101Z"
   },
   {
    "duration": 77,
    "start_time": "2023-01-10T07:29:21.132Z"
   },
   {
    "duration": 48,
    "start_time": "2023-01-10T07:29:21.211Z"
   },
   {
    "duration": 7,
    "start_time": "2023-01-10T07:29:21.261Z"
   },
   {
    "duration": 24,
    "start_time": "2023-01-10T07:29:21.270Z"
   },
   {
    "duration": 22,
    "start_time": "2023-01-10T07:29:21.296Z"
   },
   {
    "duration": 143,
    "start_time": "2023-01-10T07:29:21.320Z"
   },
   {
    "duration": 139,
    "start_time": "2023-01-10T07:29:21.466Z"
   },
   {
    "duration": 38,
    "start_time": "2023-01-10T07:29:21.607Z"
   },
   {
    "duration": 35,
    "start_time": "2023-01-10T07:29:42.984Z"
   },
   {
    "duration": 30,
    "start_time": "2023-01-10T07:29:57.414Z"
   },
   {
    "duration": 22,
    "start_time": "2023-01-10T07:41:11.370Z"
   },
   {
    "duration": 571,
    "start_time": "2023-01-10T07:41:20.504Z"
   },
   {
    "duration": 18,
    "start_time": "2023-01-10T07:41:21.078Z"
   },
   {
    "duration": 2542,
    "start_time": "2023-01-10T07:41:21.098Z"
   },
   {
    "duration": 3,
    "start_time": "2023-01-10T07:41:23.643Z"
   },
   {
    "duration": 14,
    "start_time": "2023-01-10T07:41:23.648Z"
   },
   {
    "duration": 260,
    "start_time": "2023-01-10T07:41:23.664Z"
   },
   {
    "duration": 6,
    "start_time": "2023-01-10T07:41:23.926Z"
   },
   {
    "duration": 20,
    "start_time": "2023-01-10T07:41:23.934Z"
   },
   {
    "duration": 18,
    "start_time": "2023-01-10T07:41:23.957Z"
   },
   {
    "duration": 18,
    "start_time": "2023-01-10T07:41:23.979Z"
   },
   {
    "duration": 42,
    "start_time": "2023-01-10T07:41:23.999Z"
   },
   {
    "duration": 29,
    "start_time": "2023-01-10T07:41:24.043Z"
   },
   {
    "duration": 25,
    "start_time": "2023-01-10T07:41:24.074Z"
   },
   {
    "duration": 6,
    "start_time": "2023-01-10T07:41:24.101Z"
   },
   {
    "duration": 33,
    "start_time": "2023-01-10T07:41:24.109Z"
   },
   {
    "duration": 23,
    "start_time": "2023-01-10T07:41:24.144Z"
   },
   {
    "duration": 23,
    "start_time": "2023-01-10T07:41:24.168Z"
   },
   {
    "duration": 26,
    "start_time": "2023-01-10T07:41:24.193Z"
   },
   {
    "duration": 7,
    "start_time": "2023-01-10T07:41:24.220Z"
   },
   {
    "duration": 15,
    "start_time": "2023-01-10T07:41:24.228Z"
   },
   {
    "duration": 37,
    "start_time": "2023-01-10T07:41:24.245Z"
   },
   {
    "duration": 104,
    "start_time": "2023-01-10T07:41:24.283Z"
   },
   {
    "duration": 103,
    "start_time": "2023-01-10T07:41:24.388Z"
   },
   {
    "duration": 26,
    "start_time": "2023-01-10T07:41:24.493Z"
   },
   {
    "duration": 26,
    "start_time": "2023-01-10T07:41:28.644Z"
   },
   {
    "duration": 120,
    "start_time": "2023-01-10T07:43:34.548Z"
   },
   {
    "duration": 21,
    "start_time": "2023-01-10T07:43:54.535Z"
   },
   {
    "duration": 173,
    "start_time": "2023-01-10T07:49:12.675Z"
   },
   {
    "duration": 207,
    "start_time": "2023-01-10T07:49:42.047Z"
   },
   {
    "duration": 552,
    "start_time": "2023-01-10T08:02:14.663Z"
   },
   {
    "duration": 29,
    "start_time": "2023-01-10T08:04:36.814Z"
   },
   {
    "duration": 24,
    "start_time": "2023-01-10T08:05:04.415Z"
   },
   {
    "duration": 28,
    "start_time": "2023-01-10T08:05:10.552Z"
   },
   {
    "duration": 99,
    "start_time": "2023-01-10T08:05:55.070Z"
   },
   {
    "duration": 24,
    "start_time": "2023-01-10T08:06:01.850Z"
   },
   {
    "duration": 547,
    "start_time": "2023-01-10T08:06:11.315Z"
   },
   {
    "duration": 24,
    "start_time": "2023-01-10T08:06:11.865Z"
   },
   {
    "duration": 2709,
    "start_time": "2023-01-10T08:06:11.892Z"
   },
   {
    "duration": 9,
    "start_time": "2023-01-10T08:06:14.606Z"
   },
   {
    "duration": 13,
    "start_time": "2023-01-10T08:06:14.618Z"
   },
   {
    "duration": 334,
    "start_time": "2023-01-10T08:06:14.633Z"
   },
   {
    "duration": 5,
    "start_time": "2023-01-10T08:06:14.970Z"
   },
   {
    "duration": 55,
    "start_time": "2023-01-10T08:06:14.977Z"
   },
   {
    "duration": 13,
    "start_time": "2023-01-10T08:06:15.034Z"
   },
   {
    "duration": 7,
    "start_time": "2023-01-10T08:06:15.049Z"
   },
   {
    "duration": 28,
    "start_time": "2023-01-10T08:06:15.057Z"
   },
   {
    "duration": 51,
    "start_time": "2023-01-10T08:06:15.086Z"
   },
   {
    "duration": 14,
    "start_time": "2023-01-10T08:06:15.138Z"
   },
   {
    "duration": 10,
    "start_time": "2023-01-10T08:06:15.155Z"
   },
   {
    "duration": 40,
    "start_time": "2023-01-10T08:06:15.166Z"
   },
   {
    "duration": 30,
    "start_time": "2023-01-10T08:06:15.208Z"
   },
   {
    "duration": 43,
    "start_time": "2023-01-10T08:06:15.239Z"
   },
   {
    "duration": 75,
    "start_time": "2023-01-10T08:06:15.284Z"
   },
   {
    "duration": 6,
    "start_time": "2023-01-10T08:06:15.360Z"
   },
   {
    "duration": 53,
    "start_time": "2023-01-10T08:06:15.368Z"
   },
   {
    "duration": 25,
    "start_time": "2023-01-10T08:06:15.422Z"
   },
   {
    "duration": 179,
    "start_time": "2023-01-10T08:06:15.449Z"
   },
   {
    "duration": 143,
    "start_time": "2023-01-10T08:06:15.630Z"
   },
   {
    "duration": 32,
    "start_time": "2023-01-10T08:06:15.777Z"
   },
   {
    "duration": 511,
    "start_time": "2023-01-10T08:06:15.811Z"
   },
   {
    "duration": 20,
    "start_time": "2023-01-10T08:06:54.612Z"
   },
   {
    "duration": 597,
    "start_time": "2023-01-10T08:07:03.464Z"
   },
   {
    "duration": 22,
    "start_time": "2023-01-10T08:07:04.064Z"
   },
   {
    "duration": 2572,
    "start_time": "2023-01-10T08:07:04.092Z"
   },
   {
    "duration": 4,
    "start_time": "2023-01-10T08:07:06.667Z"
   },
   {
    "duration": 43,
    "start_time": "2023-01-10T08:07:06.673Z"
   },
   {
    "duration": 263,
    "start_time": "2023-01-10T08:07:06.718Z"
   },
   {
    "duration": 5,
    "start_time": "2023-01-10T08:07:06.982Z"
   },
   {
    "duration": 34,
    "start_time": "2023-01-10T08:07:06.988Z"
   },
   {
    "duration": 20,
    "start_time": "2023-01-10T08:07:07.023Z"
   },
   {
    "duration": 9,
    "start_time": "2023-01-10T08:07:07.046Z"
   },
   {
    "duration": 21,
    "start_time": "2023-01-10T08:07:07.056Z"
   },
   {
    "duration": 30,
    "start_time": "2023-01-10T08:07:07.091Z"
   },
   {
    "duration": 12,
    "start_time": "2023-01-10T08:07:07.123Z"
   },
   {
    "duration": 5,
    "start_time": "2023-01-10T08:07:07.137Z"
   },
   {
    "duration": 22,
    "start_time": "2023-01-10T08:07:07.144Z"
   },
   {
    "duration": 43,
    "start_time": "2023-01-10T08:07:07.168Z"
   },
   {
    "duration": 20,
    "start_time": "2023-01-10T08:07:07.213Z"
   },
   {
    "duration": 25,
    "start_time": "2023-01-10T08:07:07.236Z"
   },
   {
    "duration": 6,
    "start_time": "2023-01-10T08:07:07.263Z"
   },
   {
    "duration": 51,
    "start_time": "2023-01-10T08:07:07.270Z"
   },
   {
    "duration": 17,
    "start_time": "2023-01-10T08:07:07.322Z"
   },
   {
    "duration": 118,
    "start_time": "2023-01-10T08:07:07.341Z"
   },
   {
    "duration": 96,
    "start_time": "2023-01-10T08:07:07.461Z"
   },
   {
    "duration": 35,
    "start_time": "2023-01-10T08:07:07.559Z"
   },
   {
    "duration": 460,
    "start_time": "2023-01-10T08:07:07.597Z"
   },
   {
    "duration": 28,
    "start_time": "2023-01-10T08:57:50.567Z"
   },
   {
    "duration": 516,
    "start_time": "2023-01-10T08:58:08.592Z"
   },
   {
    "duration": 16,
    "start_time": "2023-01-10T08:58:09.109Z"
   },
   {
    "duration": 2218,
    "start_time": "2023-01-10T08:58:09.126Z"
   },
   {
    "duration": 4,
    "start_time": "2023-01-10T08:58:11.345Z"
   },
   {
    "duration": 15,
    "start_time": "2023-01-10T08:58:11.351Z"
   },
   {
    "duration": 236,
    "start_time": "2023-01-10T08:58:11.367Z"
   },
   {
    "duration": 4,
    "start_time": "2023-01-10T08:58:11.605Z"
   },
   {
    "duration": 19,
    "start_time": "2023-01-10T08:58:11.611Z"
   },
   {
    "duration": 8,
    "start_time": "2023-01-10T08:58:11.632Z"
   },
   {
    "duration": 14,
    "start_time": "2023-01-10T08:58:11.642Z"
   },
   {
    "duration": 20,
    "start_time": "2023-01-10T08:58:11.657Z"
   },
   {
    "duration": 22,
    "start_time": "2023-01-10T08:58:11.678Z"
   },
   {
    "duration": 14,
    "start_time": "2023-01-10T08:58:11.702Z"
   },
   {
    "duration": 5,
    "start_time": "2023-01-10T08:58:11.718Z"
   },
   {
    "duration": 21,
    "start_time": "2023-01-10T08:58:11.725Z"
   },
   {
    "duration": 31,
    "start_time": "2023-01-10T08:58:11.748Z"
   },
   {
    "duration": 14,
    "start_time": "2023-01-10T08:58:11.781Z"
   },
   {
    "duration": 30,
    "start_time": "2023-01-10T08:58:11.797Z"
   },
   {
    "duration": 5,
    "start_time": "2023-01-10T08:58:11.828Z"
   },
   {
    "duration": 27,
    "start_time": "2023-01-10T08:58:11.835Z"
   },
   {
    "duration": 18,
    "start_time": "2023-01-10T08:58:11.863Z"
   },
   {
    "duration": 98,
    "start_time": "2023-01-10T08:58:11.883Z"
   },
   {
    "duration": 96,
    "start_time": "2023-01-10T08:58:11.983Z"
   },
   {
    "duration": 24,
    "start_time": "2023-01-10T08:58:12.081Z"
   },
   {
    "duration": 402,
    "start_time": "2023-01-10T08:58:12.106Z"
   },
   {
    "duration": 366,
    "start_time": "2023-01-10T09:00:50.523Z"
   },
   {
    "duration": 11,
    "start_time": "2023-01-10T09:02:51.184Z"
   },
   {
    "duration": 435,
    "start_time": "2023-01-10T09:04:09.293Z"
   },
   {
    "duration": 29,
    "start_time": "2023-01-10T09:06:14.727Z"
   },
   {
    "duration": 26,
    "start_time": "2023-01-10T09:07:46.017Z"
   },
   {
    "duration": 21,
    "start_time": "2023-01-10T09:13:38.213Z"
   },
   {
    "duration": 24,
    "start_time": "2023-01-10T09:14:22.814Z"
   },
   {
    "duration": 21,
    "start_time": "2023-01-10T09:14:43.111Z"
   },
   {
    "duration": 40,
    "start_time": "2023-01-10T09:17:39.449Z"
   },
   {
    "duration": 176,
    "start_time": "2023-01-10T09:18:17.987Z"
   },
   {
    "duration": 16,
    "start_time": "2023-01-10T09:21:34.651Z"
   },
   {
    "duration": 21,
    "start_time": "2023-01-10T09:23:08.446Z"
   },
   {
    "duration": 207,
    "start_time": "2023-01-10T09:23:19.353Z"
   },
   {
    "duration": 166,
    "start_time": "2023-01-10T09:24:50.363Z"
   },
   {
    "duration": 537,
    "start_time": "2023-01-10T09:25:21.632Z"
   },
   {
    "duration": 22,
    "start_time": "2023-01-10T09:25:22.171Z"
   },
   {
    "duration": 2377,
    "start_time": "2023-01-10T09:25:22.195Z"
   },
   {
    "duration": 5,
    "start_time": "2023-01-10T09:25:24.574Z"
   },
   {
    "duration": 13,
    "start_time": "2023-01-10T09:25:24.580Z"
   },
   {
    "duration": 227,
    "start_time": "2023-01-10T09:25:24.595Z"
   },
   {
    "duration": 4,
    "start_time": "2023-01-10T09:25:24.823Z"
   },
   {
    "duration": 8,
    "start_time": "2023-01-10T09:25:24.829Z"
   },
   {
    "duration": 6,
    "start_time": "2023-01-10T09:25:24.839Z"
   },
   {
    "duration": 8,
    "start_time": "2023-01-10T09:25:24.848Z"
   },
   {
    "duration": 24,
    "start_time": "2023-01-10T09:25:24.857Z"
   },
   {
    "duration": 22,
    "start_time": "2023-01-10T09:25:24.882Z"
   },
   {
    "duration": 13,
    "start_time": "2023-01-10T09:25:24.905Z"
   },
   {
    "duration": 6,
    "start_time": "2023-01-10T09:25:24.919Z"
   },
   {
    "duration": 20,
    "start_time": "2023-01-10T09:25:24.927Z"
   },
   {
    "duration": 33,
    "start_time": "2023-01-10T09:25:24.948Z"
   },
   {
    "duration": 15,
    "start_time": "2023-01-10T09:25:24.983Z"
   },
   {
    "duration": 31,
    "start_time": "2023-01-10T09:25:24.999Z"
   },
   {
    "duration": 5,
    "start_time": "2023-01-10T09:25:25.032Z"
   },
   {
    "duration": 14,
    "start_time": "2023-01-10T09:25:25.039Z"
   },
   {
    "duration": 29,
    "start_time": "2023-01-10T09:25:25.054Z"
   },
   {
    "duration": 106,
    "start_time": "2023-01-10T09:25:25.084Z"
   },
   {
    "duration": 97,
    "start_time": "2023-01-10T09:25:25.192Z"
   },
   {
    "duration": 26,
    "start_time": "2023-01-10T09:25:25.291Z"
   },
   {
    "duration": 406,
    "start_time": "2023-01-10T09:25:25.319Z"
   },
   {
    "duration": 13,
    "start_time": "2023-01-10T09:25:25.727Z"
   },
   {
    "duration": 352,
    "start_time": "2023-01-10T09:25:25.742Z"
   },
   {
    "duration": 119,
    "start_time": "2023-01-10T09:25:26.097Z"
   },
   {
    "duration": 42,
    "start_time": "2023-01-10T09:25:26.217Z"
   },
   {
    "duration": 208,
    "start_time": "2023-01-10T09:25:26.260Z"
   },
   {
    "duration": 19,
    "start_time": "2023-01-10T09:25:26.470Z"
   },
   {
    "duration": 182,
    "start_time": "2023-01-10T09:25:26.490Z"
   },
   {
    "duration": 174,
    "start_time": "2023-01-10T09:25:33.403Z"
   },
   {
    "duration": 188,
    "start_time": "2023-01-10T09:25:53.499Z"
   },
   {
    "duration": 175,
    "start_time": "2023-01-10T09:26:33.627Z"
   },
   {
    "duration": 75,
    "start_time": "2023-01-10T09:27:29.048Z"
   },
   {
    "duration": 183,
    "start_time": "2023-01-10T09:27:56.473Z"
   },
   {
    "duration": 504,
    "start_time": "2023-01-10T09:28:17.385Z"
   },
   {
    "duration": 15,
    "start_time": "2023-01-10T09:28:17.891Z"
   },
   {
    "duration": 2392,
    "start_time": "2023-01-10T09:28:17.908Z"
   },
   {
    "duration": 4,
    "start_time": "2023-01-10T09:28:20.303Z"
   },
   {
    "duration": 37,
    "start_time": "2023-01-10T09:28:20.309Z"
   },
   {
    "duration": 276,
    "start_time": "2023-01-10T09:28:20.348Z"
   },
   {
    "duration": 5,
    "start_time": "2023-01-10T09:28:20.626Z"
   },
   {
    "duration": 21,
    "start_time": "2023-01-10T09:28:20.633Z"
   },
   {
    "duration": 46,
    "start_time": "2023-01-10T09:28:20.657Z"
   },
   {
    "duration": 21,
    "start_time": "2023-01-10T09:28:20.707Z"
   },
   {
    "duration": 28,
    "start_time": "2023-01-10T09:28:20.731Z"
   },
   {
    "duration": 34,
    "start_time": "2023-01-10T09:28:20.762Z"
   },
   {
    "duration": 24,
    "start_time": "2023-01-10T09:28:20.798Z"
   },
   {
    "duration": 12,
    "start_time": "2023-01-10T09:28:20.824Z"
   },
   {
    "duration": 47,
    "start_time": "2023-01-10T09:28:20.838Z"
   },
   {
    "duration": 30,
    "start_time": "2023-01-10T09:28:20.887Z"
   },
   {
    "duration": 42,
    "start_time": "2023-01-10T09:28:20.919Z"
   },
   {
    "duration": 61,
    "start_time": "2023-01-10T09:28:20.964Z"
   },
   {
    "duration": 20,
    "start_time": "2023-01-10T09:28:21.028Z"
   },
   {
    "duration": 39,
    "start_time": "2023-01-10T09:28:21.050Z"
   },
   {
    "duration": 21,
    "start_time": "2023-01-10T09:28:21.091Z"
   },
   {
    "duration": 133,
    "start_time": "2023-01-10T09:28:21.114Z"
   },
   {
    "duration": 126,
    "start_time": "2023-01-10T09:28:21.249Z"
   },
   {
    "duration": 28,
    "start_time": "2023-01-10T09:28:21.378Z"
   },
   {
    "duration": 473,
    "start_time": "2023-01-10T09:28:21.408Z"
   },
   {
    "duration": 12,
    "start_time": "2023-01-10T09:28:21.882Z"
   },
   {
    "duration": 408,
    "start_time": "2023-01-10T09:28:21.896Z"
   },
   {
    "duration": 130,
    "start_time": "2023-01-10T09:28:22.307Z"
   },
   {
    "duration": 66,
    "start_time": "2023-01-10T09:28:22.439Z"
   },
   {
    "duration": 226,
    "start_time": "2023-01-10T09:28:22.507Z"
   },
   {
    "duration": 22,
    "start_time": "2023-01-10T09:28:22.736Z"
   },
   {
    "duration": 229,
    "start_time": "2023-01-10T09:28:22.761Z"
   },
   {
    "duration": 380,
    "start_time": "2023-01-10T09:30:44.964Z"
   },
   {
    "duration": 184,
    "start_time": "2023-01-10T09:33:19.267Z"
   },
   {
    "duration": 414,
    "start_time": "2023-01-10T09:33:57.904Z"
   },
   {
    "duration": 348,
    "start_time": "2023-01-10T09:34:31.959Z"
   },
   {
    "duration": 533,
    "start_time": "2023-01-10T09:34:48.992Z"
   },
   {
    "duration": 16,
    "start_time": "2023-01-10T09:34:49.527Z"
   },
   {
    "duration": 2233,
    "start_time": "2023-01-10T09:34:49.547Z"
   },
   {
    "duration": 4,
    "start_time": "2023-01-10T09:34:51.783Z"
   },
   {
    "duration": 20,
    "start_time": "2023-01-10T09:34:51.790Z"
   },
   {
    "duration": 245,
    "start_time": "2023-01-10T09:34:51.813Z"
   },
   {
    "duration": 5,
    "start_time": "2023-01-10T09:34:52.060Z"
   },
   {
    "duration": 14,
    "start_time": "2023-01-10T09:34:52.067Z"
   },
   {
    "duration": 7,
    "start_time": "2023-01-10T09:34:52.083Z"
   },
   {
    "duration": 17,
    "start_time": "2023-01-10T09:34:52.092Z"
   },
   {
    "duration": 17,
    "start_time": "2023-01-10T09:34:52.110Z"
   },
   {
    "duration": 24,
    "start_time": "2023-01-10T09:34:52.129Z"
   },
   {
    "duration": 29,
    "start_time": "2023-01-10T09:34:52.155Z"
   },
   {
    "duration": 4,
    "start_time": "2023-01-10T09:34:52.188Z"
   },
   {
    "duration": 16,
    "start_time": "2023-01-10T09:34:52.194Z"
   },
   {
    "duration": 25,
    "start_time": "2023-01-10T09:34:52.211Z"
   },
   {
    "duration": 25,
    "start_time": "2023-01-10T09:34:52.238Z"
   },
   {
    "duration": 32,
    "start_time": "2023-01-10T09:34:52.264Z"
   },
   {
    "duration": 6,
    "start_time": "2023-01-10T09:34:52.297Z"
   },
   {
    "duration": 25,
    "start_time": "2023-01-10T09:34:52.305Z"
   },
   {
    "duration": 18,
    "start_time": "2023-01-10T09:34:52.332Z"
   },
   {
    "duration": 97,
    "start_time": "2023-01-10T09:34:52.352Z"
   },
   {
    "duration": 92,
    "start_time": "2023-01-10T09:34:52.451Z"
   },
   {
    "duration": 33,
    "start_time": "2023-01-10T09:34:52.545Z"
   },
   {
    "duration": 454,
    "start_time": "2023-01-10T09:34:52.580Z"
   },
   {
    "duration": 11,
    "start_time": "2023-01-10T09:34:53.037Z"
   },
   {
    "duration": 383,
    "start_time": "2023-01-10T09:34:53.050Z"
   },
   {
    "duration": 121,
    "start_time": "2023-01-10T09:34:53.435Z"
   },
   {
    "duration": 53,
    "start_time": "2023-01-10T09:34:53.558Z"
   },
   {
    "duration": 194,
    "start_time": "2023-01-10T09:34:53.612Z"
   },
   {
    "duration": 14,
    "start_time": "2023-01-10T09:34:53.808Z"
   },
   {
    "duration": 231,
    "start_time": "2023-01-10T09:34:53.824Z"
   },
   {
    "duration": 390,
    "start_time": "2023-01-10T09:34:54.057Z"
   },
   {
    "duration": 70,
    "start_time": "2023-01-10T09:34:54.449Z"
   },
   {
    "duration": 0,
    "start_time": "2023-01-10T09:34:54.521Z"
   },
   {
    "duration": 0,
    "start_time": "2023-01-10T09:34:54.522Z"
   },
   {
    "duration": 361,
    "start_time": "2023-01-10T09:35:00.597Z"
   },
   {
    "duration": 127,
    "start_time": "2023-01-10T09:36:33.238Z"
   },
   {
    "duration": 286,
    "start_time": "2023-01-10T09:37:10.992Z"
   },
   {
    "duration": 368,
    "start_time": "2023-01-10T09:39:40.419Z"
   },
   {
    "duration": 247,
    "start_time": "2023-01-10T09:40:14.119Z"
   },
   {
    "duration": 2,
    "start_time": "2023-01-10T09:40:42.320Z"
   },
   {
    "duration": 69,
    "start_time": "2023-01-10T09:42:21.639Z"
   },
   {
    "duration": 8,
    "start_time": "2023-01-10T09:42:53.863Z"
   },
   {
    "duration": 17,
    "start_time": "2023-01-10T09:43:08.950Z"
   },
   {
    "duration": 1051,
    "start_time": "2023-01-10T09:54:50.621Z"
   },
   {
    "duration": 7,
    "start_time": "2023-01-10T09:55:34.209Z"
   },
   {
    "duration": 95,
    "start_time": "2023-01-10T09:56:29.585Z"
   },
   {
    "duration": 249,
    "start_time": "2023-01-10T09:56:48.534Z"
   },
   {
    "duration": 3387,
    "start_time": "2023-01-10T10:00:21.653Z"
   },
   {
    "duration": 3340,
    "start_time": "2023-01-10T10:01:11.980Z"
   },
   {
    "duration": 241,
    "start_time": "2023-01-10T10:01:55.440Z"
   },
   {
    "duration": 230,
    "start_time": "2023-01-10T10:02:16.898Z"
   },
   {
    "duration": 3370,
    "start_time": "2023-01-10T10:03:00.422Z"
   },
   {
    "duration": 269,
    "start_time": "2023-01-10T10:12:42.843Z"
   },
   {
    "duration": 243,
    "start_time": "2023-01-10T10:13:24.683Z"
   },
   {
    "duration": 245,
    "start_time": "2023-01-10T10:14:18.264Z"
   },
   {
    "duration": 174,
    "start_time": "2023-01-10T10:14:30.118Z"
   },
   {
    "duration": 254,
    "start_time": "2023-01-10T10:15:02.217Z"
   },
   {
    "duration": 260,
    "start_time": "2023-01-10T10:15:53.607Z"
   },
   {
    "duration": 143,
    "start_time": "2023-01-10T10:16:06.202Z"
   },
   {
    "duration": 455,
    "start_time": "2023-01-10T10:16:42.858Z"
   },
   {
    "duration": 193,
    "start_time": "2023-01-10T10:16:52.000Z"
   },
   {
    "duration": 247,
    "start_time": "2023-01-10T10:18:40.617Z"
   },
   {
    "duration": 150,
    "start_time": "2023-01-10T10:18:52.093Z"
   },
   {
    "duration": 171,
    "start_time": "2023-01-10T10:19:48.115Z"
   },
   {
    "duration": 19,
    "start_time": "2023-01-10T10:22:05.608Z"
   },
   {
    "duration": 17,
    "start_time": "2023-01-10T10:22:26.026Z"
   },
   {
    "duration": 12,
    "start_time": "2023-01-10T10:22:34.429Z"
   },
   {
    "duration": 181,
    "start_time": "2023-01-10T10:25:12.380Z"
   },
   {
    "duration": 147,
    "start_time": "2023-01-10T10:25:24.613Z"
   },
   {
    "duration": 163,
    "start_time": "2023-01-10T10:27:15.181Z"
   },
   {
    "duration": 240,
    "start_time": "2023-01-10T10:27:24.688Z"
   },
   {
    "duration": 230,
    "start_time": "2023-01-10T10:28:36.416Z"
   },
   {
    "duration": 387,
    "start_time": "2023-01-10T10:29:18.625Z"
   },
   {
    "duration": 715,
    "start_time": "2023-01-10T10:29:36.260Z"
   },
   {
    "duration": 241,
    "start_time": "2023-01-10T10:29:44.210Z"
   },
   {
    "duration": 14,
    "start_time": "2023-01-10T10:30:46.752Z"
   },
   {
    "duration": 313,
    "start_time": "2023-01-10T10:31:53.918Z"
   },
   {
    "duration": 190,
    "start_time": "2023-01-10T10:32:17.119Z"
   },
   {
    "duration": 15,
    "start_time": "2023-01-10T10:33:54.827Z"
   },
   {
    "duration": 148,
    "start_time": "2023-01-10T10:34:40.519Z"
   },
   {
    "duration": 14,
    "start_time": "2023-01-10T10:35:20.507Z"
   },
   {
    "duration": 106,
    "start_time": "2023-01-10T10:40:01.275Z"
   },
   {
    "duration": 89,
    "start_time": "2023-01-10T10:40:18.391Z"
   },
   {
    "duration": 71,
    "start_time": "2023-01-10T10:40:53.535Z"
   },
   {
    "duration": 77,
    "start_time": "2023-01-10T10:41:08.623Z"
   },
   {
    "duration": 90,
    "start_time": "2023-01-10T10:41:48.703Z"
   },
   {
    "duration": 93,
    "start_time": "2023-01-10T10:42:08.643Z"
   },
   {
    "duration": 9,
    "start_time": "2023-01-10T10:44:19.738Z"
   },
   {
    "duration": 99,
    "start_time": "2023-01-10T10:45:27.590Z"
   },
   {
    "duration": 8,
    "start_time": "2023-01-10T10:45:39.254Z"
   },
   {
    "duration": 1187,
    "start_time": "2023-01-10T10:47:59.402Z"
   },
   {
    "duration": 512,
    "start_time": "2023-01-10T10:49:38.197Z"
   },
   {
    "duration": 15,
    "start_time": "2023-01-10T10:49:38.711Z"
   },
   {
    "duration": 2185,
    "start_time": "2023-01-10T10:49:38.727Z"
   },
   {
    "duration": 4,
    "start_time": "2023-01-10T10:49:40.914Z"
   },
   {
    "duration": 14,
    "start_time": "2023-01-10T10:49:40.919Z"
   },
   {
    "duration": 225,
    "start_time": "2023-01-10T10:49:40.935Z"
   },
   {
    "duration": 3,
    "start_time": "2023-01-10T10:49:41.162Z"
   },
   {
    "duration": 23,
    "start_time": "2023-01-10T10:49:41.167Z"
   },
   {
    "duration": 9,
    "start_time": "2023-01-10T10:49:41.192Z"
   },
   {
    "duration": 10,
    "start_time": "2023-01-10T10:49:41.204Z"
   },
   {
    "duration": 29,
    "start_time": "2023-01-10T10:49:41.215Z"
   },
   {
    "duration": 23,
    "start_time": "2023-01-10T10:49:41.245Z"
   },
   {
    "duration": 18,
    "start_time": "2023-01-10T10:49:41.270Z"
   },
   {
    "duration": 7,
    "start_time": "2023-01-10T10:49:41.289Z"
   },
   {
    "duration": 20,
    "start_time": "2023-01-10T10:49:41.298Z"
   },
   {
    "duration": 17,
    "start_time": "2023-01-10T10:49:41.320Z"
   },
   {
    "duration": 24,
    "start_time": "2023-01-10T10:49:41.339Z"
   },
   {
    "duration": 37,
    "start_time": "2023-01-10T10:49:41.365Z"
   },
   {
    "duration": 6,
    "start_time": "2023-01-10T10:49:41.404Z"
   },
   {
    "duration": 15,
    "start_time": "2023-01-10T10:49:41.412Z"
   },
   {
    "duration": 14,
    "start_time": "2023-01-10T10:49:41.430Z"
   },
   {
    "duration": 123,
    "start_time": "2023-01-10T10:49:41.446Z"
   },
   {
    "duration": 110,
    "start_time": "2023-01-10T10:49:41.571Z"
   },
   {
    "duration": 26,
    "start_time": "2023-01-10T10:49:41.682Z"
   },
   {
    "duration": 436,
    "start_time": "2023-01-10T10:49:41.709Z"
   },
   {
    "duration": 11,
    "start_time": "2023-01-10T10:49:42.147Z"
   },
   {
    "duration": 351,
    "start_time": "2023-01-10T10:49:42.160Z"
   },
   {
    "duration": 118,
    "start_time": "2023-01-10T10:49:42.514Z"
   },
   {
    "duration": 56,
    "start_time": "2023-01-10T10:49:42.634Z"
   },
   {
    "duration": 195,
    "start_time": "2023-01-10T10:49:42.692Z"
   },
   {
    "duration": 14,
    "start_time": "2023-01-10T10:49:42.888Z"
   },
   {
    "duration": 196,
    "start_time": "2023-01-10T10:49:42.904Z"
   },
   {
    "duration": 401,
    "start_time": "2023-01-10T10:49:43.103Z"
   },
   {
    "duration": 67,
    "start_time": "2023-01-10T10:49:43.506Z"
   },
   {
    "duration": 0,
    "start_time": "2023-01-10T10:49:43.575Z"
   },
   {
    "duration": 0,
    "start_time": "2023-01-10T10:49:43.576Z"
   },
   {
    "duration": 0,
    "start_time": "2023-01-10T10:49:43.577Z"
   },
   {
    "duration": 0,
    "start_time": "2023-01-10T10:49:43.578Z"
   },
   {
    "duration": 0,
    "start_time": "2023-01-10T10:49:43.579Z"
   },
   {
    "duration": 0,
    "start_time": "2023-01-10T10:49:43.580Z"
   },
   {
    "duration": 0,
    "start_time": "2023-01-10T10:49:43.581Z"
   },
   {
    "duration": 0,
    "start_time": "2023-01-10T10:49:43.582Z"
   },
   {
    "duration": 0,
    "start_time": "2023-01-10T10:49:43.584Z"
   },
   {
    "duration": 0,
    "start_time": "2023-01-10T10:49:43.585Z"
   },
   {
    "duration": 0,
    "start_time": "2023-01-10T10:49:43.586Z"
   },
   {
    "duration": 0,
    "start_time": "2023-01-10T10:49:43.587Z"
   },
   {
    "duration": 0,
    "start_time": "2023-01-10T10:49:43.588Z"
   },
   {
    "duration": 0,
    "start_time": "2023-01-10T10:49:43.590Z"
   },
   {
    "duration": 0,
    "start_time": "2023-01-10T10:49:43.591Z"
   },
   {
    "duration": 0,
    "start_time": "2023-01-10T10:49:43.592Z"
   },
   {
    "duration": 0,
    "start_time": "2023-01-10T10:49:43.594Z"
   },
   {
    "duration": 0,
    "start_time": "2023-01-10T10:49:43.596Z"
   },
   {
    "duration": 0,
    "start_time": "2023-01-10T10:49:43.597Z"
   },
   {
    "duration": 0,
    "start_time": "2023-01-10T10:49:43.599Z"
   },
   {
    "duration": 0,
    "start_time": "2023-01-10T10:49:43.600Z"
   },
   {
    "duration": 0,
    "start_time": "2023-01-10T10:49:43.602Z"
   },
   {
    "duration": 0,
    "start_time": "2023-01-10T10:49:43.603Z"
   },
   {
    "duration": 0,
    "start_time": "2023-01-10T10:49:43.605Z"
   },
   {
    "duration": 0,
    "start_time": "2023-01-10T10:49:43.606Z"
   },
   {
    "duration": 0,
    "start_time": "2023-01-10T10:49:43.608Z"
   },
   {
    "duration": 0,
    "start_time": "2023-01-10T10:49:43.609Z"
   },
   {
    "duration": 0,
    "start_time": "2023-01-10T10:49:43.611Z"
   },
   {
    "duration": 0,
    "start_time": "2023-01-10T10:49:43.612Z"
   },
   {
    "duration": 0,
    "start_time": "2023-01-10T10:49:43.613Z"
   },
   {
    "duration": 1213,
    "start_time": "2023-01-10T10:49:50.785Z"
   },
   {
    "duration": 1128,
    "start_time": "2023-01-10T10:51:37.505Z"
   },
   {
    "duration": 343,
    "start_time": "2023-01-10T10:51:56.669Z"
   },
   {
    "duration": 444,
    "start_time": "2023-01-10T10:52:34.657Z"
   },
   {
    "duration": 310,
    "start_time": "2023-01-10T10:52:42.985Z"
   },
   {
    "duration": 4,
    "start_time": "2023-01-10T10:52:50.705Z"
   },
   {
    "duration": 17,
    "start_time": "2023-01-10T10:53:14.575Z"
   },
   {
    "duration": 18,
    "start_time": "2023-01-10T10:53:46.337Z"
   },
   {
    "duration": 16,
    "start_time": "2023-01-10T10:54:02.393Z"
   },
   {
    "duration": 18,
    "start_time": "2023-01-10T10:54:21.417Z"
   },
   {
    "duration": 1149,
    "start_time": "2023-01-10T10:54:30.989Z"
   },
   {
    "duration": 1046,
    "start_time": "2023-01-10T10:55:04.233Z"
   },
   {
    "duration": 19,
    "start_time": "2023-01-10T10:55:31.321Z"
   },
   {
    "duration": 114,
    "start_time": "2023-01-10T10:55:39.352Z"
   },
   {
    "duration": 255,
    "start_time": "2023-01-10T10:55:44.040Z"
   },
   {
    "duration": 426,
    "start_time": "2023-01-10T10:55:47.772Z"
   },
   {
    "duration": 250,
    "start_time": "2023-01-10T10:55:53.677Z"
   },
   {
    "duration": 177,
    "start_time": "2023-01-10T10:55:57.008Z"
   },
   {
    "duration": 151,
    "start_time": "2023-01-10T10:56:00.780Z"
   },
   {
    "duration": 126,
    "start_time": "2023-01-10T10:56:04.440Z"
   },
   {
    "duration": 155,
    "start_time": "2023-01-10T10:56:08.456Z"
   },
   {
    "duration": 15,
    "start_time": "2023-01-10T10:56:27.108Z"
   },
   {
    "duration": 136,
    "start_time": "2023-01-10T10:56:38.445Z"
   },
   {
    "duration": 112,
    "start_time": "2023-01-10T10:57:04.684Z"
   },
   {
    "duration": 185,
    "start_time": "2023-01-10T10:57:12.596Z"
   },
   {
    "duration": 220,
    "start_time": "2023-01-10T10:57:17.992Z"
   },
   {
    "duration": 405,
    "start_time": "2023-01-10T10:57:24.532Z"
   },
   {
    "duration": 223,
    "start_time": "2023-01-10T10:57:28.193Z"
   },
   {
    "duration": 132,
    "start_time": "2023-01-10T10:58:31.432Z"
   },
   {
    "duration": 150,
    "start_time": "2023-01-10T10:58:47.349Z"
   },
   {
    "duration": 446,
    "start_time": "2023-01-10T11:31:29.545Z"
   },
   {
    "duration": 14,
    "start_time": "2023-01-10T11:40:47.727Z"
   },
   {
    "duration": 677,
    "start_time": "2023-01-10T11:42:10.002Z"
   },
   {
    "duration": 174,
    "start_time": "2023-01-10T11:42:36.955Z"
   },
   {
    "duration": 1174,
    "start_time": "2023-01-10T11:44:05.143Z"
   },
   {
    "duration": 323,
    "start_time": "2023-01-10T11:46:29.055Z"
   },
   {
    "duration": 167,
    "start_time": "2023-01-10T11:47:17.890Z"
   },
   {
    "duration": 25,
    "start_time": "2023-01-10T11:47:37.114Z"
   },
   {
    "duration": 6,
    "start_time": "2023-01-10T11:47:53.838Z"
   },
   {
    "duration": 6,
    "start_time": "2023-01-10T11:48:13.874Z"
   },
   {
    "duration": 262,
    "start_time": "2023-01-10T11:50:04.734Z"
   },
   {
    "duration": 800,
    "start_time": "2023-01-10T18:06:11.297Z"
   },
   {
    "duration": 17,
    "start_time": "2023-01-10T18:06:12.099Z"
   },
   {
    "duration": 2563,
    "start_time": "2023-01-10T18:06:12.118Z"
   },
   {
    "duration": 4,
    "start_time": "2023-01-10T18:06:14.684Z"
   },
   {
    "duration": 34,
    "start_time": "2023-01-10T18:06:14.689Z"
   },
   {
    "duration": 268,
    "start_time": "2023-01-10T18:06:14.726Z"
   },
   {
    "duration": 5,
    "start_time": "2023-01-10T18:06:14.996Z"
   },
   {
    "duration": 31,
    "start_time": "2023-01-10T18:06:15.003Z"
   },
   {
    "duration": 19,
    "start_time": "2023-01-10T18:06:15.036Z"
   },
   {
    "duration": 27,
    "start_time": "2023-01-10T18:06:15.058Z"
   },
   {
    "duration": 30,
    "start_time": "2023-01-10T18:06:15.087Z"
   },
   {
    "duration": 22,
    "start_time": "2023-01-10T18:06:15.119Z"
   },
   {
    "duration": 35,
    "start_time": "2023-01-10T18:06:15.143Z"
   },
   {
    "duration": 18,
    "start_time": "2023-01-10T18:06:15.180Z"
   },
   {
    "duration": 21,
    "start_time": "2023-01-10T18:06:15.200Z"
   },
   {
    "duration": 21,
    "start_time": "2023-01-10T18:06:15.223Z"
   },
   {
    "duration": 50,
    "start_time": "2023-01-10T18:06:15.246Z"
   },
   {
    "duration": 42,
    "start_time": "2023-01-10T18:06:15.298Z"
   },
   {
    "duration": 5,
    "start_time": "2023-01-10T18:06:15.343Z"
   },
   {
    "duration": 21,
    "start_time": "2023-01-10T18:06:15.350Z"
   },
   {
    "duration": 35,
    "start_time": "2023-01-10T18:06:15.373Z"
   },
   {
    "duration": 108,
    "start_time": "2023-01-10T18:06:15.410Z"
   },
   {
    "duration": 97,
    "start_time": "2023-01-10T18:06:15.520Z"
   },
   {
    "duration": 31,
    "start_time": "2023-01-10T18:06:15.618Z"
   },
   {
    "duration": 423,
    "start_time": "2023-01-10T18:06:15.652Z"
   },
   {
    "duration": 11,
    "start_time": "2023-01-10T18:06:16.077Z"
   },
   {
    "duration": 434,
    "start_time": "2023-01-10T18:06:16.090Z"
   },
   {
    "duration": 29,
    "start_time": "2023-01-10T18:06:16.535Z"
   },
   {
    "duration": 45,
    "start_time": "2023-01-10T18:06:16.565Z"
   },
   {
    "duration": 245,
    "start_time": "2023-01-10T18:06:16.612Z"
   },
   {
    "duration": 13,
    "start_time": "2023-01-10T18:06:16.858Z"
   },
   {
    "duration": 198,
    "start_time": "2023-01-10T18:06:16.872Z"
   },
   {
    "duration": 404,
    "start_time": "2023-01-10T18:06:17.072Z"
   },
   {
    "duration": 62,
    "start_time": "2023-01-10T18:06:17.478Z"
   },
   {
    "duration": 0,
    "start_time": "2023-01-10T18:06:17.542Z"
   },
   {
    "duration": 0,
    "start_time": "2023-01-10T18:06:17.544Z"
   },
   {
    "duration": 0,
    "start_time": "2023-01-10T18:06:17.545Z"
   },
   {
    "duration": 0,
    "start_time": "2023-01-10T18:06:17.546Z"
   },
   {
    "duration": 0,
    "start_time": "2023-01-10T18:06:17.547Z"
   },
   {
    "duration": 0,
    "start_time": "2023-01-10T18:06:17.549Z"
   },
   {
    "duration": 0,
    "start_time": "2023-01-10T18:06:17.550Z"
   },
   {
    "duration": 0,
    "start_time": "2023-01-10T18:06:17.551Z"
   },
   {
    "duration": 0,
    "start_time": "2023-01-10T18:06:17.552Z"
   },
   {
    "duration": 0,
    "start_time": "2023-01-10T18:06:17.553Z"
   },
   {
    "duration": 0,
    "start_time": "2023-01-10T18:06:17.555Z"
   },
   {
    "duration": 0,
    "start_time": "2023-01-10T18:06:17.556Z"
   },
   {
    "duration": 0,
    "start_time": "2023-01-10T18:06:17.557Z"
   },
   {
    "duration": 0,
    "start_time": "2023-01-10T18:06:17.558Z"
   },
   {
    "duration": 1,
    "start_time": "2023-01-10T18:06:17.559Z"
   },
   {
    "duration": 0,
    "start_time": "2023-01-10T18:06:17.561Z"
   },
   {
    "duration": 0,
    "start_time": "2023-01-10T18:06:17.562Z"
   },
   {
    "duration": 0,
    "start_time": "2023-01-10T18:06:17.563Z"
   },
   {
    "duration": 0,
    "start_time": "2023-01-10T18:06:17.565Z"
   },
   {
    "duration": 0,
    "start_time": "2023-01-10T18:06:17.566Z"
   },
   {
    "duration": 0,
    "start_time": "2023-01-10T18:06:17.567Z"
   },
   {
    "duration": 0,
    "start_time": "2023-01-10T18:06:17.569Z"
   },
   {
    "duration": 0,
    "start_time": "2023-01-10T18:06:17.570Z"
   },
   {
    "duration": 0,
    "start_time": "2023-01-10T18:06:17.571Z"
   },
   {
    "duration": 0,
    "start_time": "2023-01-10T18:06:17.573Z"
   },
   {
    "duration": 0,
    "start_time": "2023-01-10T18:06:17.574Z"
   },
   {
    "duration": 0,
    "start_time": "2023-01-10T18:06:17.575Z"
   },
   {
    "duration": 0,
    "start_time": "2023-01-10T18:06:17.576Z"
   },
   {
    "duration": 0,
    "start_time": "2023-01-10T18:06:17.578Z"
   },
   {
    "duration": 0,
    "start_time": "2023-01-10T18:06:17.579Z"
   },
   {
    "duration": 0,
    "start_time": "2023-01-10T18:06:17.636Z"
   },
   {
    "duration": 0,
    "start_time": "2023-01-10T18:06:17.638Z"
   },
   {
    "duration": 0,
    "start_time": "2023-01-10T18:06:17.639Z"
   },
   {
    "duration": 0,
    "start_time": "2023-01-10T18:06:17.640Z"
   },
   {
    "duration": 0,
    "start_time": "2023-01-10T18:06:17.641Z"
   },
   {
    "duration": 0,
    "start_time": "2023-01-10T18:06:17.643Z"
   },
   {
    "duration": 0,
    "start_time": "2023-01-10T18:06:17.644Z"
   },
   {
    "duration": 0,
    "start_time": "2023-01-10T18:06:17.645Z"
   },
   {
    "duration": 0,
    "start_time": "2023-01-10T18:06:17.646Z"
   },
   {
    "duration": 0,
    "start_time": "2023-01-10T18:06:17.647Z"
   },
   {
    "duration": 0,
    "start_time": "2023-01-10T18:06:17.648Z"
   },
   {
    "duration": 0,
    "start_time": "2023-01-10T18:06:17.649Z"
   },
   {
    "duration": 0,
    "start_time": "2023-01-10T18:06:17.650Z"
   },
   {
    "duration": 598,
    "start_time": "2023-01-11T06:12:10.541Z"
   },
   {
    "duration": 17,
    "start_time": "2023-01-11T06:12:11.141Z"
   },
   {
    "duration": 2510,
    "start_time": "2023-01-11T06:12:11.160Z"
   },
   {
    "duration": 4,
    "start_time": "2023-01-11T06:12:13.673Z"
   },
   {
    "duration": 15,
    "start_time": "2023-01-11T06:12:13.679Z"
   },
   {
    "duration": 257,
    "start_time": "2023-01-11T06:12:13.696Z"
   },
   {
    "duration": 4,
    "start_time": "2023-01-11T06:12:13.955Z"
   },
   {
    "duration": 9,
    "start_time": "2023-01-11T06:12:13.960Z"
   },
   {
    "duration": 8,
    "start_time": "2023-01-11T06:12:13.971Z"
   },
   {
    "duration": 5,
    "start_time": "2023-01-11T06:12:13.982Z"
   },
   {
    "duration": 30,
    "start_time": "2023-01-11T06:12:13.989Z"
   },
   {
    "duration": 24,
    "start_time": "2023-01-11T06:12:14.021Z"
   },
   {
    "duration": 15,
    "start_time": "2023-01-11T06:12:14.046Z"
   },
   {
    "duration": 5,
    "start_time": "2023-01-11T06:12:14.063Z"
   },
   {
    "duration": 47,
    "start_time": "2023-01-11T06:12:14.070Z"
   },
   {
    "duration": 14,
    "start_time": "2023-01-11T06:12:14.119Z"
   },
   {
    "duration": 23,
    "start_time": "2023-01-11T06:12:14.135Z"
   },
   {
    "duration": 47,
    "start_time": "2023-01-11T06:12:14.160Z"
   },
   {
    "duration": 8,
    "start_time": "2023-01-11T06:12:14.209Z"
   },
   {
    "duration": 18,
    "start_time": "2023-01-11T06:12:14.218Z"
   },
   {
    "duration": 19,
    "start_time": "2023-01-11T06:12:14.237Z"
   },
   {
    "duration": 124,
    "start_time": "2023-01-11T06:12:14.258Z"
   },
   {
    "duration": 119,
    "start_time": "2023-01-11T06:12:14.383Z"
   },
   {
    "duration": 30,
    "start_time": "2023-01-11T06:12:14.503Z"
   },
   {
    "duration": 450,
    "start_time": "2023-01-11T06:12:14.535Z"
   },
   {
    "duration": 20,
    "start_time": "2023-01-11T06:12:14.986Z"
   },
   {
    "duration": 469,
    "start_time": "2023-01-11T06:12:15.008Z"
   },
   {
    "duration": 42,
    "start_time": "2023-01-11T06:12:15.482Z"
   },
   {
    "duration": 46,
    "start_time": "2023-01-11T06:12:15.526Z"
   },
   {
    "duration": 244,
    "start_time": "2023-01-11T06:12:15.574Z"
   },
   {
    "duration": 14,
    "start_time": "2023-01-11T06:12:15.820Z"
   },
   {
    "duration": 226,
    "start_time": "2023-01-11T06:12:15.835Z"
   },
   {
    "duration": 479,
    "start_time": "2023-01-11T06:12:16.063Z"
   },
   {
    "duration": 200,
    "start_time": "2023-01-11T06:12:16.544Z"
   },
   {
    "duration": 410,
    "start_time": "2023-01-11T06:12:16.746Z"
   },
   {
    "duration": 177,
    "start_time": "2023-01-11T06:12:17.159Z"
   },
   {
    "duration": 494,
    "start_time": "2023-01-11T06:12:17.338Z"
   },
   {
    "duration": 91,
    "start_time": "2023-01-11T06:12:17.834Z"
   },
   {
    "duration": 0,
    "start_time": "2023-01-11T06:12:17.926Z"
   },
   {
    "duration": 0,
    "start_time": "2023-01-11T06:12:17.927Z"
   },
   {
    "duration": 0,
    "start_time": "2023-01-11T06:12:17.929Z"
   },
   {
    "duration": 0,
    "start_time": "2023-01-11T06:12:17.930Z"
   },
   {
    "duration": 0,
    "start_time": "2023-01-11T06:12:17.932Z"
   },
   {
    "duration": 0,
    "start_time": "2023-01-11T06:12:17.933Z"
   },
   {
    "duration": 0,
    "start_time": "2023-01-11T06:12:17.934Z"
   },
   {
    "duration": 0,
    "start_time": "2023-01-11T06:12:17.936Z"
   },
   {
    "duration": 0,
    "start_time": "2023-01-11T06:12:17.937Z"
   },
   {
    "duration": 0,
    "start_time": "2023-01-11T06:12:17.938Z"
   },
   {
    "duration": 0,
    "start_time": "2023-01-11T06:12:17.939Z"
   },
   {
    "duration": 0,
    "start_time": "2023-01-11T06:12:17.940Z"
   },
   {
    "duration": 0,
    "start_time": "2023-01-11T06:12:17.942Z"
   },
   {
    "duration": 0,
    "start_time": "2023-01-11T06:12:17.943Z"
   },
   {
    "duration": 0,
    "start_time": "2023-01-11T06:12:17.944Z"
   },
   {
    "duration": 0,
    "start_time": "2023-01-11T06:12:17.945Z"
   },
   {
    "duration": 0,
    "start_time": "2023-01-11T06:12:17.946Z"
   },
   {
    "duration": 0,
    "start_time": "2023-01-11T06:12:17.947Z"
   },
   {
    "duration": 0,
    "start_time": "2023-01-11T06:12:17.947Z"
   },
   {
    "duration": 0,
    "start_time": "2023-01-11T06:12:17.949Z"
   },
   {
    "duration": 0,
    "start_time": "2023-01-11T06:12:17.950Z"
   },
   {
    "duration": 0,
    "start_time": "2023-01-11T06:12:17.952Z"
   },
   {
    "duration": 0,
    "start_time": "2023-01-11T06:12:17.954Z"
   },
   {
    "duration": 0,
    "start_time": "2023-01-11T06:12:17.955Z"
   },
   {
    "duration": 0,
    "start_time": "2023-01-11T06:12:17.957Z"
   },
   {
    "duration": 0,
    "start_time": "2023-01-11T06:12:17.959Z"
   },
   {
    "duration": 0,
    "start_time": "2023-01-11T06:12:17.960Z"
   },
   {
    "duration": 0,
    "start_time": "2023-01-11T06:12:18.005Z"
   },
   {
    "duration": 0,
    "start_time": "2023-01-11T06:12:18.008Z"
   },
   {
    "duration": 0,
    "start_time": "2023-01-11T06:12:18.009Z"
   },
   {
    "duration": 0,
    "start_time": "2023-01-11T06:12:18.011Z"
   },
   {
    "duration": 0,
    "start_time": "2023-01-11T06:12:18.012Z"
   },
   {
    "duration": 0,
    "start_time": "2023-01-11T06:12:18.013Z"
   },
   {
    "duration": 0,
    "start_time": "2023-01-11T06:12:18.014Z"
   },
   {
    "duration": 0,
    "start_time": "2023-01-11T06:12:18.015Z"
   },
   {
    "duration": 0,
    "start_time": "2023-01-11T06:12:18.017Z"
   },
   {
    "duration": 0,
    "start_time": "2023-01-11T06:12:18.018Z"
   },
   {
    "duration": 0,
    "start_time": "2023-01-11T06:12:18.019Z"
   },
   {
    "duration": 648,
    "start_time": "2023-01-11T07:00:03.072Z"
   },
   {
    "duration": 16,
    "start_time": "2023-01-11T07:00:03.722Z"
   },
   {
    "duration": 2662,
    "start_time": "2023-01-11T07:00:03.739Z"
   },
   {
    "duration": 5,
    "start_time": "2023-01-11T07:00:06.403Z"
   },
   {
    "duration": 52,
    "start_time": "2023-01-11T07:00:06.410Z"
   },
   {
    "duration": 257,
    "start_time": "2023-01-11T07:00:06.464Z"
   },
   {
    "duration": 3,
    "start_time": "2023-01-11T07:00:06.723Z"
   },
   {
    "duration": 19,
    "start_time": "2023-01-11T07:00:06.729Z"
   },
   {
    "duration": 9,
    "start_time": "2023-01-11T07:00:06.750Z"
   },
   {
    "duration": 10,
    "start_time": "2023-01-11T07:00:06.760Z"
   },
   {
    "duration": 21,
    "start_time": "2023-01-11T07:00:06.772Z"
   },
   {
    "duration": 27,
    "start_time": "2023-01-11T07:00:06.804Z"
   },
   {
    "duration": 21,
    "start_time": "2023-01-11T07:00:06.834Z"
   },
   {
    "duration": 6,
    "start_time": "2023-01-11T07:00:06.858Z"
   },
   {
    "duration": 45,
    "start_time": "2023-01-11T07:00:06.865Z"
   },
   {
    "duration": 15,
    "start_time": "2023-01-11T07:00:06.912Z"
   },
   {
    "duration": 33,
    "start_time": "2023-01-11T07:00:06.929Z"
   },
   {
    "duration": 32,
    "start_time": "2023-01-11T07:00:06.964Z"
   },
   {
    "duration": 6,
    "start_time": "2023-01-11T07:00:07.004Z"
   },
   {
    "duration": 14,
    "start_time": "2023-01-11T07:00:07.012Z"
   },
   {
    "duration": 20,
    "start_time": "2023-01-11T07:00:07.028Z"
   },
   {
    "duration": 180,
    "start_time": "2023-01-11T07:00:07.051Z"
   },
   {
    "duration": 127,
    "start_time": "2023-01-11T07:00:07.233Z"
   },
   {
    "duration": 50,
    "start_time": "2023-01-11T07:00:07.362Z"
   },
   {
    "duration": 516,
    "start_time": "2023-01-11T07:00:07.414Z"
   },
   {
    "duration": 13,
    "start_time": "2023-01-11T07:00:07.933Z"
   },
   {
    "duration": 439,
    "start_time": "2023-01-11T07:00:07.948Z"
   },
   {
    "duration": 140,
    "start_time": "2023-01-11T07:00:08.390Z"
   },
   {
    "duration": 48,
    "start_time": "2023-01-11T07:00:08.532Z"
   },
   {
    "duration": 244,
    "start_time": "2023-01-11T07:00:08.582Z"
   },
   {
    "duration": 15,
    "start_time": "2023-01-11T07:00:08.828Z"
   },
   {
    "duration": 239,
    "start_time": "2023-01-11T07:00:08.845Z"
   },
   {
    "duration": 448,
    "start_time": "2023-01-11T07:00:09.086Z"
   },
   {
    "duration": 185,
    "start_time": "2023-01-11T07:00:09.536Z"
   },
   {
    "duration": 464,
    "start_time": "2023-01-11T07:00:09.723Z"
   },
   {
    "duration": 183,
    "start_time": "2023-01-11T07:00:10.189Z"
   },
   {
    "duration": 324,
    "start_time": "2023-01-11T07:00:10.374Z"
   },
   {
    "duration": 76,
    "start_time": "2023-01-11T07:00:10.700Z"
   },
   {
    "duration": 0,
    "start_time": "2023-01-11T07:00:10.779Z"
   },
   {
    "duration": 0,
    "start_time": "2023-01-11T07:00:10.780Z"
   },
   {
    "duration": 0,
    "start_time": "2023-01-11T07:00:10.782Z"
   },
   {
    "duration": 0,
    "start_time": "2023-01-11T07:00:10.783Z"
   },
   {
    "duration": 0,
    "start_time": "2023-01-11T07:00:10.784Z"
   },
   {
    "duration": 0,
    "start_time": "2023-01-11T07:00:10.786Z"
   },
   {
    "duration": 0,
    "start_time": "2023-01-11T07:00:10.881Z"
   },
   {
    "duration": 0,
    "start_time": "2023-01-11T07:00:10.883Z"
   },
   {
    "duration": 0,
    "start_time": "2023-01-11T07:00:10.884Z"
   },
   {
    "duration": 0,
    "start_time": "2023-01-11T07:00:10.885Z"
   },
   {
    "duration": 0,
    "start_time": "2023-01-11T07:00:10.887Z"
   },
   {
    "duration": 0,
    "start_time": "2023-01-11T07:00:10.888Z"
   },
   {
    "duration": 0,
    "start_time": "2023-01-11T07:00:10.905Z"
   },
   {
    "duration": 0,
    "start_time": "2023-01-11T07:00:10.906Z"
   },
   {
    "duration": 0,
    "start_time": "2023-01-11T07:00:10.907Z"
   },
   {
    "duration": 1,
    "start_time": "2023-01-11T07:00:10.908Z"
   },
   {
    "duration": 0,
    "start_time": "2023-01-11T07:00:10.910Z"
   },
   {
    "duration": 0,
    "start_time": "2023-01-11T07:00:10.911Z"
   },
   {
    "duration": 0,
    "start_time": "2023-01-11T07:00:10.912Z"
   },
   {
    "duration": 0,
    "start_time": "2023-01-11T07:00:10.913Z"
   },
   {
    "duration": 0,
    "start_time": "2023-01-11T07:00:10.914Z"
   },
   {
    "duration": 0,
    "start_time": "2023-01-11T07:00:10.915Z"
   },
   {
    "duration": 0,
    "start_time": "2023-01-11T07:00:10.916Z"
   },
   {
    "duration": 0,
    "start_time": "2023-01-11T07:00:10.917Z"
   },
   {
    "duration": 0,
    "start_time": "2023-01-11T07:00:10.919Z"
   },
   {
    "duration": 0,
    "start_time": "2023-01-11T07:00:10.920Z"
   },
   {
    "duration": 0,
    "start_time": "2023-01-11T07:00:10.921Z"
   },
   {
    "duration": 0,
    "start_time": "2023-01-11T07:00:10.922Z"
   },
   {
    "duration": 0,
    "start_time": "2023-01-11T07:00:10.923Z"
   },
   {
    "duration": 0,
    "start_time": "2023-01-11T07:00:10.924Z"
   },
   {
    "duration": 0,
    "start_time": "2023-01-11T07:00:10.925Z"
   },
   {
    "duration": 0,
    "start_time": "2023-01-11T07:00:10.927Z"
   },
   {
    "duration": 0,
    "start_time": "2023-01-11T07:00:10.928Z"
   },
   {
    "duration": 0,
    "start_time": "2023-01-11T07:00:10.929Z"
   },
   {
    "duration": 0,
    "start_time": "2023-01-11T07:00:10.930Z"
   },
   {
    "duration": 0,
    "start_time": "2023-01-11T07:00:10.931Z"
   },
   {
    "duration": 0,
    "start_time": "2023-01-11T07:00:10.932Z"
   },
   {
    "duration": 1,
    "start_time": "2023-01-11T07:00:10.933Z"
   },
   {
    "duration": 567,
    "start_time": "2023-01-11T18:17:58.222Z"
   },
   {
    "duration": 15,
    "start_time": "2023-01-11T18:17:58.792Z"
   },
   {
    "duration": 2647,
    "start_time": "2023-01-11T18:17:58.809Z"
   },
   {
    "duration": 4,
    "start_time": "2023-01-11T18:18:01.459Z"
   },
   {
    "duration": 54,
    "start_time": "2023-01-11T18:18:01.466Z"
   },
   {
    "duration": 300,
    "start_time": "2023-01-11T18:18:01.522Z"
   },
   {
    "duration": 5,
    "start_time": "2023-01-11T18:18:01.824Z"
   },
   {
    "duration": 20,
    "start_time": "2023-01-11T18:18:01.832Z"
   },
   {
    "duration": 21,
    "start_time": "2023-01-11T18:18:01.855Z"
   },
   {
    "duration": 45,
    "start_time": "2023-01-11T18:18:01.879Z"
   },
   {
    "duration": 41,
    "start_time": "2023-01-11T18:18:01.927Z"
   },
   {
    "duration": 59,
    "start_time": "2023-01-11T18:18:01.971Z"
   },
   {
    "duration": 47,
    "start_time": "2023-01-11T18:18:02.033Z"
   },
   {
    "duration": 23,
    "start_time": "2023-01-11T18:18:02.082Z"
   },
   {
    "duration": 56,
    "start_time": "2023-01-11T18:18:02.107Z"
   },
   {
    "duration": 24,
    "start_time": "2023-01-11T18:18:02.165Z"
   },
   {
    "duration": 51,
    "start_time": "2023-01-11T18:18:02.191Z"
   },
   {
    "duration": 37,
    "start_time": "2023-01-11T18:18:02.244Z"
   },
   {
    "duration": 10,
    "start_time": "2023-01-11T18:18:02.283Z"
   },
   {
    "duration": 26,
    "start_time": "2023-01-11T18:18:02.295Z"
   },
   {
    "duration": 14,
    "start_time": "2023-01-11T18:18:02.323Z"
   },
   {
    "duration": 114,
    "start_time": "2023-01-11T18:18:02.339Z"
   },
   {
    "duration": 120,
    "start_time": "2023-01-11T18:18:02.454Z"
   },
   {
    "duration": 35,
    "start_time": "2023-01-11T18:18:02.578Z"
   },
   {
    "duration": 497,
    "start_time": "2023-01-11T18:18:02.615Z"
   },
   {
    "duration": 11,
    "start_time": "2023-01-11T18:18:03.113Z"
   },
   {
    "duration": 393,
    "start_time": "2023-01-11T18:18:03.125Z"
   },
   {
    "duration": 133,
    "start_time": "2023-01-11T18:18:03.522Z"
   },
   {
    "duration": 65,
    "start_time": "2023-01-11T18:18:03.656Z"
   },
   {
    "duration": 248,
    "start_time": "2023-01-11T18:18:03.723Z"
   },
   {
    "duration": 18,
    "start_time": "2023-01-11T18:18:03.973Z"
   },
   {
    "duration": 247,
    "start_time": "2023-01-11T18:18:03.993Z"
   },
   {
    "duration": 428,
    "start_time": "2023-01-11T18:18:04.242Z"
   },
   {
    "duration": 187,
    "start_time": "2023-01-11T18:18:04.677Z"
   },
   {
    "duration": 409,
    "start_time": "2023-01-11T18:18:04.866Z"
   },
   {
    "duration": 158,
    "start_time": "2023-01-11T18:18:05.278Z"
   },
   {
    "duration": 313,
    "start_time": "2023-01-11T18:18:05.438Z"
   },
   {
    "duration": 84,
    "start_time": "2023-01-11T18:18:05.753Z"
   },
   {
    "duration": 0,
    "start_time": "2023-01-11T18:18:05.839Z"
   },
   {
    "duration": 0,
    "start_time": "2023-01-11T18:18:05.840Z"
   },
   {
    "duration": 0,
    "start_time": "2023-01-11T18:18:05.841Z"
   },
   {
    "duration": 0,
    "start_time": "2023-01-11T18:18:05.842Z"
   },
   {
    "duration": 0,
    "start_time": "2023-01-11T18:18:05.843Z"
   },
   {
    "duration": 0,
    "start_time": "2023-01-11T18:18:05.843Z"
   },
   {
    "duration": 0,
    "start_time": "2023-01-11T18:18:05.844Z"
   },
   {
    "duration": 0,
    "start_time": "2023-01-11T18:18:05.845Z"
   },
   {
    "duration": 0,
    "start_time": "2023-01-11T18:18:05.846Z"
   },
   {
    "duration": 0,
    "start_time": "2023-01-11T18:18:05.846Z"
   },
   {
    "duration": 0,
    "start_time": "2023-01-11T18:18:05.847Z"
   },
   {
    "duration": 0,
    "start_time": "2023-01-11T18:18:05.848Z"
   },
   {
    "duration": 0,
    "start_time": "2023-01-11T18:18:05.848Z"
   },
   {
    "duration": 0,
    "start_time": "2023-01-11T18:18:05.849Z"
   },
   {
    "duration": 0,
    "start_time": "2023-01-11T18:18:05.849Z"
   },
   {
    "duration": 0,
    "start_time": "2023-01-11T18:18:05.850Z"
   },
   {
    "duration": 0,
    "start_time": "2023-01-11T18:18:05.850Z"
   },
   {
    "duration": 0,
    "start_time": "2023-01-11T18:18:05.853Z"
   },
   {
    "duration": 0,
    "start_time": "2023-01-11T18:18:05.858Z"
   },
   {
    "duration": 0,
    "start_time": "2023-01-11T18:18:05.860Z"
   },
   {
    "duration": 0,
    "start_time": "2023-01-11T18:18:05.862Z"
   },
   {
    "duration": 0,
    "start_time": "2023-01-11T18:18:05.863Z"
   },
   {
    "duration": 0,
    "start_time": "2023-01-11T18:18:05.865Z"
   },
   {
    "duration": 0,
    "start_time": "2023-01-11T18:18:05.866Z"
   },
   {
    "duration": 0,
    "start_time": "2023-01-11T18:18:05.868Z"
   },
   {
    "duration": 0,
    "start_time": "2023-01-11T18:18:05.869Z"
   },
   {
    "duration": 0,
    "start_time": "2023-01-11T18:18:05.871Z"
   },
   {
    "duration": 0,
    "start_time": "2023-01-11T18:18:05.872Z"
   },
   {
    "duration": 0,
    "start_time": "2023-01-11T18:18:05.874Z"
   },
   {
    "duration": 0,
    "start_time": "2023-01-11T18:18:06.043Z"
   },
   {
    "duration": 0,
    "start_time": "2023-01-11T18:18:06.045Z"
   },
   {
    "duration": 0,
    "start_time": "2023-01-11T18:18:06.047Z"
   },
   {
    "duration": 0,
    "start_time": "2023-01-11T18:18:06.048Z"
   },
   {
    "duration": 0,
    "start_time": "2023-01-11T18:18:06.050Z"
   },
   {
    "duration": 0,
    "start_time": "2023-01-11T18:18:06.051Z"
   },
   {
    "duration": 0,
    "start_time": "2023-01-11T18:18:06.078Z"
   },
   {
    "duration": 0,
    "start_time": "2023-01-11T18:18:06.080Z"
   },
   {
    "duration": 0,
    "start_time": "2023-01-11T18:18:06.081Z"
   },
   {
    "duration": 695,
    "start_time": "2023-01-12T05:48:17.632Z"
   },
   {
    "duration": 20,
    "start_time": "2023-01-12T05:48:22.171Z"
   },
   {
    "duration": 22,
    "start_time": "2023-01-12T05:48:35.588Z"
   },
   {
    "duration": 3230,
    "start_time": "2023-01-12T05:48:40.942Z"
   },
   {
    "duration": 296,
    "start_time": "2023-01-12T05:49:22.444Z"
   },
   {
    "duration": 3,
    "start_time": "2023-01-12T05:49:29.548Z"
   },
   {
    "duration": 3,
    "start_time": "2023-01-12T05:49:31.448Z"
   },
   {
    "duration": 62,
    "start_time": "2023-01-12T05:49:35.544Z"
   },
   {
    "duration": 10,
    "start_time": "2023-01-12T05:49:39.964Z"
   },
   {
    "duration": 16,
    "start_time": "2023-01-12T05:49:44.354Z"
   },
   {
    "duration": 1061,
    "start_time": "2023-01-12T05:49:52.561Z"
   },
   {
    "duration": 1194,
    "start_time": "2023-01-12T05:50:04.075Z"
   },
   {
    "duration": 1181,
    "start_time": "2023-01-12T05:56:05.214Z"
   },
   {
    "duration": 5,
    "start_time": "2023-01-12T05:56:14.879Z"
   },
   {
    "duration": 4,
    "start_time": "2023-01-12T05:56:16.253Z"
   },
   {
    "duration": 18,
    "start_time": "2023-01-12T05:56:19.722Z"
   },
   {
    "duration": 587,
    "start_time": "2023-01-12T05:56:34.567Z"
   },
   {
    "duration": 17,
    "start_time": "2023-01-12T05:56:35.156Z"
   },
   {
    "duration": 2571,
    "start_time": "2023-01-12T05:56:35.175Z"
   },
   {
    "duration": 4,
    "start_time": "2023-01-12T05:56:37.749Z"
   },
   {
    "duration": 13,
    "start_time": "2023-01-12T05:56:37.755Z"
   },
   {
    "duration": 375,
    "start_time": "2023-01-12T05:56:37.770Z"
   },
   {
    "duration": 9,
    "start_time": "2023-01-12T05:56:38.147Z"
   },
   {
    "duration": 14,
    "start_time": "2023-01-12T05:56:38.157Z"
   },
   {
    "duration": 12,
    "start_time": "2023-01-12T05:56:38.174Z"
   },
   {
    "duration": 14,
    "start_time": "2023-01-12T05:56:38.189Z"
   },
   {
    "duration": 36,
    "start_time": "2023-01-12T05:56:38.205Z"
   },
   {
    "duration": 30,
    "start_time": "2023-01-12T05:56:38.243Z"
   },
   {
    "duration": 23,
    "start_time": "2023-01-12T05:56:38.275Z"
   },
   {
    "duration": 6,
    "start_time": "2023-01-12T05:56:38.301Z"
   },
   {
    "duration": 42,
    "start_time": "2023-01-12T05:56:38.309Z"
   },
   {
    "duration": 14,
    "start_time": "2023-01-12T05:56:38.352Z"
   },
   {
    "duration": 23,
    "start_time": "2023-01-12T05:56:38.368Z"
   },
   {
    "duration": 37,
    "start_time": "2023-01-12T05:56:38.393Z"
   },
   {
    "duration": 20,
    "start_time": "2023-01-12T05:56:38.433Z"
   },
   {
    "duration": 13,
    "start_time": "2023-01-12T05:56:38.456Z"
   },
   {
    "duration": 26,
    "start_time": "2023-01-12T05:56:38.471Z"
   },
   {
    "duration": 166,
    "start_time": "2023-01-12T05:56:38.499Z"
   },
   {
    "duration": 105,
    "start_time": "2023-01-12T05:56:38.666Z"
   },
   {
    "duration": 39,
    "start_time": "2023-01-12T05:56:38.773Z"
   },
   {
    "duration": 481,
    "start_time": "2023-01-12T05:56:38.815Z"
   },
   {
    "duration": 14,
    "start_time": "2023-01-12T05:56:39.299Z"
   },
   {
    "duration": 483,
    "start_time": "2023-01-12T05:56:39.315Z"
   },
   {
    "duration": 165,
    "start_time": "2023-01-12T05:56:39.806Z"
   },
   {
    "duration": 50,
    "start_time": "2023-01-12T05:56:39.973Z"
   },
   {
    "duration": 276,
    "start_time": "2023-01-12T05:56:40.025Z"
   },
   {
    "duration": 19,
    "start_time": "2023-01-12T05:56:40.303Z"
   },
   {
    "duration": 217,
    "start_time": "2023-01-12T05:56:40.324Z"
   },
   {
    "duration": 514,
    "start_time": "2023-01-12T05:56:40.550Z"
   },
   {
    "duration": 265,
    "start_time": "2023-01-12T05:56:41.066Z"
   },
   {
    "duration": 454,
    "start_time": "2023-01-12T05:56:41.333Z"
   },
   {
    "duration": 161,
    "start_time": "2023-01-12T05:56:41.789Z"
   },
   {
    "duration": 312,
    "start_time": "2023-01-12T05:56:41.953Z"
   },
   {
    "duration": 502,
    "start_time": "2023-01-12T05:56:42.267Z"
   },
   {
    "duration": 3,
    "start_time": "2023-01-12T05:56:42.772Z"
   },
   {
    "duration": 63,
    "start_time": "2023-01-12T05:56:42.776Z"
   },
   {
    "duration": 9,
    "start_time": "2023-01-12T05:56:42.850Z"
   },
   {
    "duration": 28,
    "start_time": "2023-01-12T05:56:42.862Z"
   },
   {
    "duration": 5,
    "start_time": "2023-01-12T05:56:42.892Z"
   },
   {
    "duration": 14,
    "start_time": "2023-01-12T05:56:42.898Z"
   },
   {
    "duration": 7,
    "start_time": "2023-01-12T05:56:42.914Z"
   },
   {
    "duration": 33,
    "start_time": "2023-01-12T05:56:42.923Z"
   },
   {
    "duration": 1240,
    "start_time": "2023-01-12T05:56:42.958Z"
   },
   {
    "duration": 7,
    "start_time": "2023-01-12T05:56:44.199Z"
   },
   {
    "duration": 129,
    "start_time": "2023-01-12T05:56:44.212Z"
   },
   {
    "duration": 308,
    "start_time": "2023-01-12T05:56:44.343Z"
   },
   {
    "duration": 402,
    "start_time": "2023-01-12T05:56:44.653Z"
   },
   {
    "duration": 367,
    "start_time": "2023-01-12T05:56:45.058Z"
   },
   {
    "duration": 282,
    "start_time": "2023-01-12T05:56:45.427Z"
   },
   {
    "duration": 262,
    "start_time": "2023-01-12T05:56:45.711Z"
   },
   {
    "duration": 212,
    "start_time": "2023-01-12T05:56:45.976Z"
   },
   {
    "duration": 220,
    "start_time": "2023-01-12T05:56:46.190Z"
   },
   {
    "duration": 184,
    "start_time": "2023-01-12T05:56:46.414Z"
   },
   {
    "duration": 240,
    "start_time": "2023-01-12T05:56:46.600Z"
   },
   {
    "duration": 355,
    "start_time": "2023-01-12T05:56:46.842Z"
   },
   {
    "duration": 454,
    "start_time": "2023-01-12T05:56:47.198Z"
   },
   {
    "duration": 290,
    "start_time": "2023-01-12T05:56:47.654Z"
   },
   {
    "duration": 235,
    "start_time": "2023-01-12T05:56:47.946Z"
   },
   {
    "duration": 162,
    "start_time": "2023-01-12T05:56:48.183Z"
   },
   {
    "duration": 532,
    "start_time": "2023-01-12T05:56:48.350Z"
   },
   {
    "duration": 12,
    "start_time": "2023-01-12T05:56:48.884Z"
   },
   {
    "duration": 653,
    "start_time": "2023-01-12T05:56:48.897Z"
   },
   {
    "duration": 216,
    "start_time": "2023-01-12T05:56:49.552Z"
   },
   {
    "duration": 1216,
    "start_time": "2023-01-12T05:56:49.770Z"
   },
   {
    "duration": 342,
    "start_time": "2023-01-12T05:56:50.987Z"
   },
   {
    "duration": 226,
    "start_time": "2023-01-12T05:56:51.331Z"
   },
   {
    "duration": 27,
    "start_time": "2023-01-12T05:56:51.559Z"
   },
   {
    "duration": 16,
    "start_time": "2023-01-12T05:56:51.588Z"
   },
   {
    "duration": 19,
    "start_time": "2023-01-12T05:56:51.606Z"
   },
   {
    "duration": 303,
    "start_time": "2023-01-12T05:56:51.627Z"
   },
   {
    "duration": 79,
    "start_time": "2023-01-12T05:56:51.932Z"
   },
   {
    "duration": 115,
    "start_time": "2023-01-12T05:57:21.164Z"
   },
   {
    "duration": 16,
    "start_time": "2023-01-12T05:57:24.810Z"
   },
   {
    "duration": 4,
    "start_time": "2023-01-12T05:57:30.469Z"
   },
   {
    "duration": 10,
    "start_time": "2023-01-12T05:57:33.855Z"
   },
   {
    "duration": 240,
    "start_time": "2023-01-12T05:57:41.574Z"
   },
   {
    "duration": 5,
    "start_time": "2023-01-12T05:57:45.422Z"
   },
   {
    "duration": 5,
    "start_time": "2023-01-12T05:57:48.412Z"
   },
   {
    "duration": 5,
    "start_time": "2023-01-12T05:57:50.718Z"
   },
   {
    "duration": 4,
    "start_time": "2023-01-12T05:57:52.818Z"
   },
   {
    "duration": 16,
    "start_time": "2023-01-12T05:57:55.310Z"
   },
   {
    "duration": 23,
    "start_time": "2023-01-12T05:57:58.922Z"
   },
   {
    "duration": 18,
    "start_time": "2023-01-12T05:58:02.110Z"
   },
   {
    "duration": 6,
    "start_time": "2023-01-12T05:58:05.499Z"
   },
   {
    "duration": 21,
    "start_time": "2023-01-12T05:58:08.357Z"
   },
   {
    "duration": 24,
    "start_time": "2023-01-12T05:58:10.513Z"
   },
   {
    "duration": 33,
    "start_time": "2023-01-12T05:58:12.963Z"
   },
   {
    "duration": 26,
    "start_time": "2023-01-12T05:58:15.051Z"
   },
   {
    "duration": 8,
    "start_time": "2023-01-12T05:58:18.461Z"
   },
   {
    "duration": 12,
    "start_time": "2023-01-12T05:58:24.364Z"
   },
   {
    "duration": 132,
    "start_time": "2023-01-12T05:58:30.110Z"
   },
   {
    "duration": 133,
    "start_time": "2023-01-12T05:58:33.383Z"
   },
   {
    "duration": 39,
    "start_time": "2023-01-12T05:58:37.484Z"
   },
   {
    "duration": 543,
    "start_time": "2023-01-12T05:58:45.620Z"
   },
   {
    "duration": 18,
    "start_time": "2023-01-12T05:58:49.417Z"
   },
   {
    "duration": 526,
    "start_time": "2023-01-12T05:58:54.902Z"
   },
   {
    "duration": 51,
    "start_time": "2023-01-12T05:58:58.365Z"
   },
   {
    "duration": 43,
    "start_time": "2023-01-12T05:59:48.413Z"
   },
   {
    "duration": 47,
    "start_time": "2023-01-12T05:59:57.290Z"
   },
   {
    "duration": 220,
    "start_time": "2023-01-12T06:00:12.387Z"
   },
   {
    "duration": 52,
    "start_time": "2023-01-12T06:00:39.178Z"
   },
   {
    "duration": 207,
    "start_time": "2023-01-12T06:00:44.815Z"
   },
   {
    "duration": 22,
    "start_time": "2023-01-12T06:00:50.975Z"
   },
   {
    "duration": 235,
    "start_time": "2023-01-12T06:00:57.425Z"
   },
   {
    "duration": 185,
    "start_time": "2023-01-12T06:01:06.431Z"
   },
   {
    "duration": 237,
    "start_time": "2023-01-12T06:05:53.872Z"
   },
   {
    "duration": 741,
    "start_time": "2023-01-12T06:05:57.767Z"
   },
   {
    "duration": 205,
    "start_time": "2023-01-12T06:06:04.575Z"
   },
   {
    "duration": 383,
    "start_time": "2023-01-12T06:06:10.079Z"
   },
   {
    "duration": 382,
    "start_time": "2023-01-12T06:06:19.316Z"
   },
   {
    "duration": 4,
    "start_time": "2023-01-12T06:06:23.190Z"
   },
   {
    "duration": 27,
    "start_time": "2023-01-12T06:06:27.221Z"
   },
   {
    "duration": 9,
    "start_time": "2023-01-12T06:06:29.994Z"
   },
   {
    "duration": 27,
    "start_time": "2023-01-12T06:06:33.000Z"
   },
   {
    "duration": 6,
    "start_time": "2023-01-12T06:06:43.089Z"
   },
   {
    "duration": 8,
    "start_time": "2023-01-12T06:06:45.137Z"
   },
   {
    "duration": 8,
    "start_time": "2023-01-12T06:06:47.260Z"
   },
   {
    "duration": 8,
    "start_time": "2023-01-12T06:06:49.029Z"
   },
   {
    "duration": 1667,
    "start_time": "2023-01-12T06:06:51.399Z"
   },
   {
    "duration": 9,
    "start_time": "2023-01-12T06:06:59.291Z"
   },
   {
    "duration": 184,
    "start_time": "2023-01-12T06:07:05.259Z"
   },
   {
    "duration": 367,
    "start_time": "2023-01-12T06:07:08.161Z"
   },
   {
    "duration": 334,
    "start_time": "2023-01-12T06:07:12.529Z"
   },
   {
    "duration": 476,
    "start_time": "2023-01-12T06:07:21.169Z"
   },
   {
    "duration": 222,
    "start_time": "2023-01-12T06:07:24.202Z"
   },
   {
    "duration": 169,
    "start_time": "2023-01-12T06:07:32.804Z"
   },
   {
    "duration": 156,
    "start_time": "2023-01-12T06:07:40.467Z"
   },
   {
    "duration": 227,
    "start_time": "2023-01-12T06:07:47.806Z"
   },
   {
    "duration": 142,
    "start_time": "2023-01-12T06:07:53.016Z"
   },
   {
    "duration": 186,
    "start_time": "2023-01-12T06:07:58.236Z"
   },
   {
    "duration": 283,
    "start_time": "2023-01-12T06:08:03.343Z"
   },
   {
    "duration": 384,
    "start_time": "2023-01-12T06:08:07.999Z"
   },
   {
    "duration": 275,
    "start_time": "2023-01-12T06:08:14.835Z"
   },
   {
    "duration": 166,
    "start_time": "2023-01-12T06:08:20.812Z"
   },
   {
    "duration": 150,
    "start_time": "2023-01-12T06:08:28.855Z"
   },
   {
    "duration": 761,
    "start_time": "2023-01-12T06:08:33.480Z"
   },
   {
    "duration": 15,
    "start_time": "2023-01-12T06:08:50.270Z"
   },
   {
    "duration": 226,
    "start_time": "2023-01-12T06:08:55.928Z"
   },
   {
    "duration": 1057,
    "start_time": "2023-01-12T06:09:00.042Z"
   },
   {
    "duration": 473,
    "start_time": "2023-01-12T06:09:07.443Z"
   },
   {
    "duration": 270,
    "start_time": "2023-01-12T06:09:11.316Z"
   },
   {
    "duration": 34,
    "start_time": "2023-01-12T06:09:14.274Z"
   },
   {
    "duration": 7,
    "start_time": "2023-01-12T06:09:16.583Z"
   },
   {
    "duration": 9,
    "start_time": "2023-01-12T06:09:19.049Z"
   },
   {
    "duration": 292,
    "start_time": "2023-01-12T06:09:24.681Z"
   },
   {
    "duration": 612,
    "start_time": "2023-01-12T06:10:02.320Z"
   },
   {
    "duration": 30,
    "start_time": "2023-01-12T06:10:02.935Z"
   },
   {
    "duration": 2445,
    "start_time": "2023-01-12T06:10:02.968Z"
   },
   {
    "duration": 4,
    "start_time": "2023-01-12T06:10:05.416Z"
   },
   {
    "duration": 16,
    "start_time": "2023-01-12T06:10:05.422Z"
   },
   {
    "duration": 253,
    "start_time": "2023-01-12T06:10:05.439Z"
   },
   {
    "duration": 5,
    "start_time": "2023-01-12T06:10:05.694Z"
   },
   {
    "duration": 12,
    "start_time": "2023-01-12T06:10:05.701Z"
   },
   {
    "duration": 16,
    "start_time": "2023-01-12T06:10:05.715Z"
   },
   {
    "duration": 9,
    "start_time": "2023-01-12T06:10:05.735Z"
   },
   {
    "duration": 26,
    "start_time": "2023-01-12T06:10:05.746Z"
   },
   {
    "duration": 23,
    "start_time": "2023-01-12T06:10:05.774Z"
   },
   {
    "duration": 15,
    "start_time": "2023-01-12T06:10:05.799Z"
   },
   {
    "duration": 5,
    "start_time": "2023-01-12T06:10:05.816Z"
   },
   {
    "duration": 42,
    "start_time": "2023-01-12T06:10:05.822Z"
   },
   {
    "duration": 18,
    "start_time": "2023-01-12T06:10:05.866Z"
   },
   {
    "duration": 23,
    "start_time": "2023-01-12T06:10:05.886Z"
   },
   {
    "duration": 43,
    "start_time": "2023-01-12T06:10:05.911Z"
   },
   {
    "duration": 7,
    "start_time": "2023-01-12T06:10:05.956Z"
   },
   {
    "duration": 20,
    "start_time": "2023-01-12T06:10:05.966Z"
   },
   {
    "duration": 24,
    "start_time": "2023-01-12T06:10:05.988Z"
   },
   {
    "duration": 127,
    "start_time": "2023-01-12T06:10:06.014Z"
   },
   {
    "duration": 137,
    "start_time": "2023-01-12T06:10:06.143Z"
   },
   {
    "duration": 27,
    "start_time": "2023-01-12T06:10:06.283Z"
   },
   {
    "duration": 453,
    "start_time": "2023-01-12T06:10:06.312Z"
   },
   {
    "duration": 13,
    "start_time": "2023-01-12T06:10:06.767Z"
   },
   {
    "duration": 403,
    "start_time": "2023-01-12T06:10:06.782Z"
   },
   {
    "duration": 137,
    "start_time": "2023-01-12T06:10:07.189Z"
   },
   {
    "duration": 54,
    "start_time": "2023-01-12T06:10:07.327Z"
   },
   {
    "duration": 224,
    "start_time": "2023-01-12T06:10:07.383Z"
   },
   {
    "duration": 17,
    "start_time": "2023-01-12T06:10:07.610Z"
   },
   {
    "duration": 227,
    "start_time": "2023-01-12T06:10:07.629Z"
   },
   {
    "duration": 464,
    "start_time": "2023-01-12T06:10:07.858Z"
   },
   {
    "duration": 183,
    "start_time": "2023-01-12T06:10:08.324Z"
   },
   {
    "duration": 419,
    "start_time": "2023-01-12T06:10:08.508Z"
   },
   {
    "duration": 168,
    "start_time": "2023-01-12T06:10:08.929Z"
   },
   {
    "duration": 355,
    "start_time": "2023-01-12T06:10:09.099Z"
   },
   {
    "duration": 502,
    "start_time": "2023-01-12T06:10:09.455Z"
   },
   {
    "duration": 3,
    "start_time": "2023-01-12T06:10:09.959Z"
   },
   {
    "duration": 118,
    "start_time": "2023-01-12T06:10:09.964Z"
   },
   {
    "duration": 12,
    "start_time": "2023-01-12T06:10:10.084Z"
   },
   {
    "duration": 59,
    "start_time": "2023-01-12T06:10:10.098Z"
   },
   {
    "duration": 7,
    "start_time": "2023-01-12T06:10:10.159Z"
   },
   {
    "duration": 28,
    "start_time": "2023-01-12T06:10:10.169Z"
   },
   {
    "duration": 20,
    "start_time": "2023-01-12T06:10:10.199Z"
   },
   {
    "duration": 10,
    "start_time": "2023-01-12T06:10:10.221Z"
   },
   {
    "duration": 1300,
    "start_time": "2023-01-12T06:10:10.233Z"
   },
   {
    "duration": 17,
    "start_time": "2023-01-12T06:10:11.536Z"
   },
   {
    "duration": 133,
    "start_time": "2023-01-12T06:10:11.555Z"
   },
   {
    "duration": 268,
    "start_time": "2023-01-12T06:10:11.690Z"
   },
   {
    "duration": 391,
    "start_time": "2023-01-12T06:10:11.960Z"
   },
   {
    "duration": 292,
    "start_time": "2023-01-12T06:10:12.353Z"
   },
   {
    "duration": 227,
    "start_time": "2023-01-12T06:10:12.647Z"
   },
   {
    "duration": 170,
    "start_time": "2023-01-12T06:10:12.875Z"
   },
   {
    "duration": 172,
    "start_time": "2023-01-12T06:10:13.047Z"
   },
   {
    "duration": 196,
    "start_time": "2023-01-12T06:10:13.221Z"
   },
   {
    "duration": 147,
    "start_time": "2023-01-12T06:10:13.418Z"
   },
   {
    "duration": 176,
    "start_time": "2023-01-12T06:10:13.567Z"
   },
   {
    "duration": 271,
    "start_time": "2023-01-12T06:10:13.745Z"
   },
   {
    "duration": 406,
    "start_time": "2023-01-12T06:10:14.018Z"
   },
   {
    "duration": 264,
    "start_time": "2023-01-12T06:10:14.426Z"
   },
   {
    "duration": 168,
    "start_time": "2023-01-12T06:10:14.692Z"
   },
   {
    "duration": 156,
    "start_time": "2023-01-12T06:10:14.862Z"
   },
   {
    "duration": 575,
    "start_time": "2023-01-12T06:10:15.019Z"
   },
   {
    "duration": 12,
    "start_time": "2023-01-12T06:10:15.597Z"
   },
   {
    "duration": 613,
    "start_time": "2023-01-12T06:10:15.611Z"
   },
   {
    "duration": 190,
    "start_time": "2023-01-12T06:10:16.226Z"
   },
   {
    "duration": 1137,
    "start_time": "2023-01-12T06:10:16.418Z"
   },
   {
    "duration": 324,
    "start_time": "2023-01-12T06:10:17.557Z"
   },
   {
    "duration": 202,
    "start_time": "2023-01-12T06:10:17.883Z"
   },
   {
    "duration": 28,
    "start_time": "2023-01-12T06:10:18.087Z"
   },
   {
    "duration": 17,
    "start_time": "2023-01-12T06:10:18.117Z"
   },
   {
    "duration": 18,
    "start_time": "2023-01-12T06:10:18.135Z"
   },
   {
    "duration": 317,
    "start_time": "2023-01-12T06:10:18.155Z"
   },
   {
    "duration": 131,
    "start_time": "2023-01-12T06:10:18.590Z"
   },
   {
    "duration": 20,
    "start_time": "2023-01-12T06:10:21.738Z"
   },
   {
    "duration": 1983,
    "start_time": "2023-01-12T06:10:25.857Z"
   },
   {
    "duration": 4,
    "start_time": "2023-01-12T06:10:33.044Z"
   },
   {
    "duration": 10,
    "start_time": "2023-01-12T06:10:36.970Z"
   },
   {
    "duration": 415,
    "start_time": "2023-01-12T06:10:42.760Z"
   },
   {
    "duration": 4,
    "start_time": "2023-01-12T06:10:46.674Z"
   },
   {
    "duration": 7,
    "start_time": "2023-01-12T06:10:49.039Z"
   },
   {
    "duration": 5,
    "start_time": "2023-01-12T06:10:51.276Z"
   },
   {
    "duration": 5,
    "start_time": "2023-01-12T06:10:53.446Z"
   },
   {
    "duration": 17,
    "start_time": "2023-01-12T06:10:55.779Z"
   },
   {
    "duration": 25,
    "start_time": "2023-01-12T06:11:00.763Z"
   },
   {
    "duration": 16,
    "start_time": "2023-01-12T06:11:07.347Z"
   },
   {
    "duration": 7,
    "start_time": "2023-01-12T06:11:10.172Z"
   },
   {
    "duration": 18,
    "start_time": "2023-01-12T06:11:12.328Z"
   },
   {
    "duration": 15,
    "start_time": "2023-01-12T06:11:14.283Z"
   },
   {
    "duration": 19,
    "start_time": "2023-01-12T06:11:16.541Z"
   },
   {
    "duration": 25,
    "start_time": "2023-01-12T06:11:18.707Z"
   },
   {
    "duration": 7,
    "start_time": "2023-01-12T06:11:22.103Z"
   },
   {
    "duration": 11,
    "start_time": "2023-01-12T06:11:24.567Z"
   },
   {
    "duration": 11,
    "start_time": "2023-01-12T06:11:30.906Z"
   },
   {
    "duration": 141,
    "start_time": "2023-01-12T06:11:34.194Z"
   },
   {
    "duration": 101,
    "start_time": "2023-01-12T06:11:36.736Z"
   },
   {
    "duration": 32,
    "start_time": "2023-01-12T06:11:39.150Z"
   },
   {
    "duration": 450,
    "start_time": "2023-01-12T06:11:47.173Z"
   },
   {
    "duration": 12,
    "start_time": "2023-01-12T06:11:50.396Z"
   },
   {
    "duration": 440,
    "start_time": "2023-01-12T06:11:55.870Z"
   },
   {
    "duration": 40,
    "start_time": "2023-01-12T06:11:59.474Z"
   },
   {
    "duration": 47,
    "start_time": "2023-01-12T06:12:04.582Z"
   },
   {
    "duration": 261,
    "start_time": "2023-01-12T06:12:14.097Z"
   },
   {
    "duration": 15,
    "start_time": "2023-01-12T06:12:19.468Z"
   },
   {
    "duration": 228,
    "start_time": "2023-01-12T06:12:22.719Z"
   },
   {
    "duration": 436,
    "start_time": "2023-01-12T06:12:25.758Z"
   },
   {
    "duration": 185,
    "start_time": "2023-01-12T06:12:31.452Z"
   },
   {
    "duration": 431,
    "start_time": "2023-01-12T06:12:34.217Z"
   },
   {
    "duration": 155,
    "start_time": "2023-01-12T06:12:39.244Z"
   },
   {
    "duration": 294,
    "start_time": "2023-01-12T06:12:41.611Z"
   },
   {
    "duration": 535,
    "start_time": "2023-01-12T06:12:46.530Z"
   },
   {
    "duration": 5,
    "start_time": "2023-01-12T06:12:49.780Z"
   },
   {
    "duration": 24,
    "start_time": "2023-01-12T06:12:52.247Z"
   },
   {
    "duration": 9,
    "start_time": "2023-01-12T06:12:54.636Z"
   },
   {
    "duration": 17,
    "start_time": "2023-01-12T06:12:59.831Z"
   },
   {
    "duration": 5,
    "start_time": "2023-01-12T06:13:06.352Z"
   },
   {
    "duration": 12,
    "start_time": "2023-01-12T06:13:08.159Z"
   },
   {
    "duration": 7,
    "start_time": "2023-01-12T06:13:10.131Z"
   },
   {
    "duration": 7,
    "start_time": "2023-01-12T06:13:12.258Z"
   },
   {
    "duration": 1264,
    "start_time": "2023-01-12T06:13:14.988Z"
   },
   {
    "duration": 7,
    "start_time": "2023-01-12T06:13:18.868Z"
   },
   {
    "duration": 136,
    "start_time": "2023-01-12T06:13:25.747Z"
   },
   {
    "duration": 353,
    "start_time": "2023-01-12T06:13:28.993Z"
   },
   {
    "duration": 269,
    "start_time": "2023-01-12T06:13:33.754Z"
   },
   {
    "duration": 299,
    "start_time": "2023-01-12T06:14:33.467Z"
   },
   {
    "duration": 233,
    "start_time": "2023-01-12T06:14:37.257Z"
   },
   {
    "duration": 198,
    "start_time": "2023-01-12T06:14:42.147Z"
   },
   {
    "duration": 153,
    "start_time": "2023-01-12T06:14:46.893Z"
   },
   {
    "duration": 180,
    "start_time": "2023-01-12T06:14:52.821Z"
   },
   {
    "duration": 203,
    "start_time": "2023-01-12T06:14:58.540Z"
   },
   {
    "duration": 423,
    "start_time": "2023-01-12T06:15:08.435Z"
   },
   {
    "duration": 272,
    "start_time": "2023-01-12T06:15:16.098Z"
   },
   {
    "duration": 335,
    "start_time": "2023-01-12T06:15:23.643Z"
   },
   {
    "duration": 324,
    "start_time": "2023-01-12T06:15:30.929Z"
   },
   {
    "duration": 332,
    "start_time": "2023-01-12T06:15:49.519Z"
   },
   {
    "duration": 209,
    "start_time": "2023-01-12T06:16:02.260Z"
   },
   {
    "duration": 195,
    "start_time": "2023-01-12T06:16:09.947Z"
   },
   {
    "duration": 628,
    "start_time": "2023-01-12T06:16:14.483Z"
   },
   {
    "duration": 19,
    "start_time": "2023-01-12T06:16:19.865Z"
   },
   {
    "duration": 632,
    "start_time": "2023-01-12T06:16:23.248Z"
   },
   {
    "duration": 174,
    "start_time": "2023-01-12T06:16:26.289Z"
   },
   {
    "duration": 1141,
    "start_time": "2023-01-12T06:16:29.925Z"
   },
   {
    "duration": 361,
    "start_time": "2023-01-12T06:16:35.780Z"
   },
   {
    "duration": 227,
    "start_time": "2023-01-12T06:16:40.994Z"
   },
   {
    "duration": 32,
    "start_time": "2023-01-12T06:16:43.810Z"
   },
   {
    "duration": 34,
    "start_time": "2023-01-12T06:16:55.064Z"
   },
   {
    "duration": 7,
    "start_time": "2023-01-12T06:17:03.480Z"
   },
   {
    "duration": 7,
    "start_time": "2023-01-12T06:17:07.567Z"
   },
   {
    "duration": 8,
    "start_time": "2023-01-12T06:17:14.311Z"
   },
   {
    "duration": 682,
    "start_time": "2023-01-12T06:17:29.532Z"
   },
   {
    "duration": 539,
    "start_time": "2023-01-12T18:50:30.277Z"
   },
   {
    "duration": 15,
    "start_time": "2023-01-12T18:50:30.818Z"
   },
   {
    "duration": 2136,
    "start_time": "2023-01-12T18:50:30.835Z"
   },
   {
    "duration": 3,
    "start_time": "2023-01-12T18:50:32.973Z"
   },
   {
    "duration": 28,
    "start_time": "2023-01-12T18:50:32.977Z"
   },
   {
    "duration": 214,
    "start_time": "2023-01-12T18:50:33.007Z"
   },
   {
    "duration": 3,
    "start_time": "2023-01-12T18:50:33.223Z"
   },
   {
    "duration": 11,
    "start_time": "2023-01-12T18:50:33.228Z"
   },
   {
    "duration": 8,
    "start_time": "2023-01-12T18:50:33.240Z"
   },
   {
    "duration": 5,
    "start_time": "2023-01-12T18:50:33.251Z"
   },
   {
    "duration": 18,
    "start_time": "2023-01-12T18:50:33.258Z"
   },
   {
    "duration": 41,
    "start_time": "2023-01-12T18:50:33.277Z"
   },
   {
    "duration": 18,
    "start_time": "2023-01-12T18:50:33.320Z"
   },
   {
    "duration": 6,
    "start_time": "2023-01-12T18:50:33.339Z"
   },
   {
    "duration": 20,
    "start_time": "2023-01-12T18:50:33.347Z"
   },
   {
    "duration": 15,
    "start_time": "2023-01-12T18:50:33.370Z"
   },
   {
    "duration": 38,
    "start_time": "2023-01-12T18:50:33.387Z"
   },
   {
    "duration": 24,
    "start_time": "2023-01-12T18:50:33.427Z"
   },
   {
    "duration": 6,
    "start_time": "2023-01-12T18:50:33.453Z"
   },
   {
    "duration": 12,
    "start_time": "2023-01-12T18:50:33.460Z"
   },
   {
    "duration": 11,
    "start_time": "2023-01-12T18:50:33.473Z"
   },
   {
    "duration": 139,
    "start_time": "2023-01-12T18:50:33.485Z"
   },
   {
    "duration": 92,
    "start_time": "2023-01-12T18:50:33.625Z"
   },
   {
    "duration": 22,
    "start_time": "2023-01-12T18:50:33.719Z"
   },
   {
    "duration": 473,
    "start_time": "2023-01-12T18:50:33.743Z"
   },
   {
    "duration": 12,
    "start_time": "2023-01-12T18:50:34.218Z"
   },
   {
    "duration": 336,
    "start_time": "2023-01-12T18:50:34.233Z"
   },
   {
    "duration": 110,
    "start_time": "2023-01-12T18:50:34.573Z"
   },
   {
    "duration": 58,
    "start_time": "2023-01-12T18:50:34.685Z"
   },
   {
    "duration": 190,
    "start_time": "2023-01-12T18:50:34.745Z"
   },
   {
    "duration": 14,
    "start_time": "2023-01-12T18:50:34.937Z"
   },
   {
    "duration": 178,
    "start_time": "2023-01-12T18:50:34.953Z"
   },
   {
    "duration": 387,
    "start_time": "2023-01-12T18:50:35.133Z"
   },
   {
    "duration": 166,
    "start_time": "2023-01-12T18:50:35.522Z"
   },
   {
    "duration": 412,
    "start_time": "2023-01-12T18:50:35.690Z"
   },
   {
    "duration": 139,
    "start_time": "2023-01-12T18:50:36.103Z"
   },
   {
    "duration": 331,
    "start_time": "2023-01-12T18:50:36.244Z"
   },
   {
    "duration": 355,
    "start_time": "2023-01-12T18:50:36.577Z"
   },
   {
    "duration": 3,
    "start_time": "2023-01-12T18:50:36.934Z"
   },
   {
    "duration": 53,
    "start_time": "2023-01-12T18:50:36.939Z"
   },
   {
    "duration": 26,
    "start_time": "2023-01-12T18:50:36.994Z"
   },
   {
    "duration": 20,
    "start_time": "2023-01-12T18:50:37.022Z"
   },
   {
    "duration": 6,
    "start_time": "2023-01-12T18:50:37.043Z"
   },
   {
    "duration": 12,
    "start_time": "2023-01-12T18:50:37.050Z"
   },
   {
    "duration": 19,
    "start_time": "2023-01-12T18:50:37.064Z"
   },
   {
    "duration": 9,
    "start_time": "2023-01-12T18:50:37.085Z"
   },
   {
    "duration": 1102,
    "start_time": "2023-01-12T18:50:37.095Z"
   },
   {
    "duration": 8,
    "start_time": "2023-01-12T18:50:38.199Z"
   },
   {
    "duration": 143,
    "start_time": "2023-01-12T18:50:38.216Z"
   },
   {
    "duration": 224,
    "start_time": "2023-01-12T18:50:38.361Z"
   },
   {
    "duration": 325,
    "start_time": "2023-01-12T18:50:38.587Z"
   },
   {
    "duration": 245,
    "start_time": "2023-01-12T18:50:38.913Z"
   },
   {
    "duration": 196,
    "start_time": "2023-01-12T18:50:39.159Z"
   },
   {
    "duration": 163,
    "start_time": "2023-01-12T18:50:39.357Z"
   },
   {
    "duration": 148,
    "start_time": "2023-01-12T18:50:39.522Z"
   },
   {
    "duration": 183,
    "start_time": "2023-01-12T18:50:39.672Z"
   },
   {
    "duration": 132,
    "start_time": "2023-01-12T18:50:39.857Z"
   },
   {
    "duration": 168,
    "start_time": "2023-01-12T18:50:39.991Z"
   },
   {
    "duration": 265,
    "start_time": "2023-01-12T18:50:40.160Z"
   },
   {
    "duration": 409,
    "start_time": "2023-01-12T18:50:40.427Z"
   },
   {
    "duration": 259,
    "start_time": "2023-01-12T18:50:40.838Z"
   },
   {
    "duration": 142,
    "start_time": "2023-01-12T18:50:41.099Z"
   },
   {
    "duration": 137,
    "start_time": "2023-01-12T18:50:41.243Z"
   },
   {
    "duration": 538,
    "start_time": "2023-01-12T18:50:41.382Z"
   },
   {
    "duration": 12,
    "start_time": "2023-01-12T18:50:41.923Z"
   },
   {
    "duration": 560,
    "start_time": "2023-01-12T18:50:41.937Z"
   },
   {
    "duration": 174,
    "start_time": "2023-01-12T18:50:42.499Z"
   },
   {
    "duration": 1040,
    "start_time": "2023-01-12T18:50:42.675Z"
   },
   {
    "duration": 298,
    "start_time": "2023-01-12T18:50:43.718Z"
   },
   {
    "duration": 189,
    "start_time": "2023-01-12T18:50:44.018Z"
   },
   {
    "duration": 27,
    "start_time": "2023-01-12T18:50:44.208Z"
   },
   {
    "duration": 5,
    "start_time": "2023-01-12T18:50:44.237Z"
   },
   {
    "duration": 8,
    "start_time": "2023-01-12T18:50:44.243Z"
   },
   {
    "duration": 299,
    "start_time": "2023-01-12T18:50:44.253Z"
   },
   {
    "duration": 19,
    "start_time": "2023-01-12T18:51:54.241Z"
   },
   {
    "duration": 7,
    "start_time": "2023-01-12T18:52:36.074Z"
   },
   {
    "duration": 19,
    "start_time": "2023-01-12T18:53:26.298Z"
   },
   {
    "duration": 110,
    "start_time": "2023-01-12T18:53:30.255Z"
   },
   {
    "duration": 14,
    "start_time": "2023-01-12T18:53:49.383Z"
   },
   {
    "duration": 123,
    "start_time": "2023-01-12T18:53:53.726Z"
   },
   {
    "duration": 6,
    "start_time": "2023-01-12T18:54:12.760Z"
   },
   {
    "duration": 686,
    "start_time": "2023-01-13T06:15:32.877Z"
   },
   {
    "duration": 2118,
    "start_time": "2023-01-13T06:16:15.369Z"
   },
   {
    "duration": 45,
    "start_time": "2023-01-13T06:18:25.233Z"
   },
   {
    "duration": 1978,
    "start_time": "2023-01-13T06:19:21.169Z"
   },
   {
    "duration": 1960,
    "start_time": "2023-01-13T06:27:54.023Z"
   },
   {
    "duration": 1292,
    "start_time": "2023-01-13T06:28:11.477Z"
   },
   {
    "duration": 1374,
    "start_time": "2023-01-13T06:28:41.933Z"
   },
   {
    "duration": 1842,
    "start_time": "2023-01-13T06:29:27.276Z"
   },
   {
    "duration": 1813,
    "start_time": "2023-01-13T06:44:43.286Z"
   },
   {
    "duration": 637,
    "start_time": "2023-01-14T05:56:36.351Z"
   },
   {
    "duration": 4,
    "start_time": "2023-01-14T06:12:05.112Z"
   },
   {
    "duration": 4,
    "start_time": "2023-01-14T06:16:57.879Z"
   },
   {
    "duration": 6,
    "start_time": "2023-01-14T06:17:02.850Z"
   },
   {
    "duration": 4,
    "start_time": "2023-01-14T06:17:05.783Z"
   },
   {
    "duration": 66,
    "start_time": "2023-01-14T06:18:31.947Z"
   },
   {
    "duration": 692,
    "start_time": "2023-01-14T06:18:40.099Z"
   },
   {
    "duration": 226,
    "start_time": "2023-01-14T06:19:01.263Z"
   },
   {
    "duration": 369,
    "start_time": "2023-01-14T06:19:13.003Z"
   },
   {
    "duration": 286,
    "start_time": "2023-01-14T06:19:28.659Z"
   },
   {
    "duration": 347,
    "start_time": "2023-01-14T06:19:34.918Z"
   },
   {
    "duration": 584,
    "start_time": "2023-01-14T06:20:32.689Z"
   },
   {
    "duration": 16,
    "start_time": "2023-01-14T06:20:33.276Z"
   },
   {
    "duration": 2822,
    "start_time": "2023-01-14T06:20:33.294Z"
   },
   {
    "duration": 9,
    "start_time": "2023-01-14T06:20:36.118Z"
   },
   {
    "duration": 63,
    "start_time": "2023-01-14T06:20:36.129Z"
   },
   {
    "duration": 289,
    "start_time": "2023-01-14T06:20:36.195Z"
   },
   {
    "duration": 4,
    "start_time": "2023-01-14T06:20:36.486Z"
   },
   {
    "duration": 8,
    "start_time": "2023-01-14T06:20:36.492Z"
   },
   {
    "duration": 42,
    "start_time": "2023-01-14T06:20:36.502Z"
   },
   {
    "duration": 25,
    "start_time": "2023-01-14T06:20:36.547Z"
   },
   {
    "duration": 15,
    "start_time": "2023-01-14T06:20:36.574Z"
   },
   {
    "duration": 20,
    "start_time": "2023-01-14T06:20:36.591Z"
   },
   {
    "duration": 39,
    "start_time": "2023-01-14T06:20:36.613Z"
   },
   {
    "duration": 29,
    "start_time": "2023-01-14T06:20:36.656Z"
   },
   {
    "duration": 4,
    "start_time": "2023-01-14T06:20:36.687Z"
   },
   {
    "duration": 17,
    "start_time": "2023-01-14T06:20:36.693Z"
   },
   {
    "duration": 23,
    "start_time": "2023-01-14T06:20:36.712Z"
   },
   {
    "duration": 47,
    "start_time": "2023-01-14T06:20:36.744Z"
   },
   {
    "duration": 292,
    "start_time": "2023-01-14T06:20:36.792Z"
   },
   {
    "duration": 6,
    "start_time": "2023-01-14T06:20:37.086Z"
   },
   {
    "duration": 28,
    "start_time": "2023-01-14T06:20:37.093Z"
   },
   {
    "duration": 42,
    "start_time": "2023-01-14T06:20:37.141Z"
   },
   {
    "duration": 177,
    "start_time": "2023-01-14T06:20:37.185Z"
   },
   {
    "duration": 123,
    "start_time": "2023-01-14T06:20:37.364Z"
   },
   {
    "duration": 61,
    "start_time": "2023-01-14T06:20:37.489Z"
   },
   {
    "duration": 534,
    "start_time": "2023-01-14T06:20:37.569Z"
   },
   {
    "duration": 19,
    "start_time": "2023-01-14T06:20:38.105Z"
   },
   {
    "duration": 460,
    "start_time": "2023-01-14T06:20:38.131Z"
   },
   {
    "duration": 202,
    "start_time": "2023-01-14T06:20:38.593Z"
   },
   {
    "duration": 74,
    "start_time": "2023-01-14T06:20:38.797Z"
   },
   {
    "duration": 241,
    "start_time": "2023-01-14T06:20:38.872Z"
   },
   {
    "duration": 45,
    "start_time": "2023-01-14T06:20:39.114Z"
   },
   {
    "duration": 291,
    "start_time": "2023-01-14T06:20:39.161Z"
   },
   {
    "duration": 515,
    "start_time": "2023-01-14T06:20:39.464Z"
   },
   {
    "duration": 196,
    "start_time": "2023-01-14T06:20:39.982Z"
   },
   {
    "duration": 496,
    "start_time": "2023-01-14T06:20:40.183Z"
   },
   {
    "duration": 224,
    "start_time": "2023-01-14T06:20:40.681Z"
   },
   {
    "duration": 354,
    "start_time": "2023-01-14T06:20:40.907Z"
   },
   {
    "duration": 434,
    "start_time": "2023-01-14T06:20:41.264Z"
   },
   {
    "duration": 3,
    "start_time": "2023-01-14T06:20:41.700Z"
   },
   {
    "duration": 84,
    "start_time": "2023-01-14T06:20:41.705Z"
   },
   {
    "duration": 12,
    "start_time": "2023-01-14T06:20:41.791Z"
   },
   {
    "duration": 54,
    "start_time": "2023-01-14T06:20:41.804Z"
   },
   {
    "duration": 19,
    "start_time": "2023-01-14T06:20:41.867Z"
   },
   {
    "duration": 14,
    "start_time": "2023-01-14T06:20:41.887Z"
   },
   {
    "duration": 11,
    "start_time": "2023-01-14T06:20:41.904Z"
   },
   {
    "duration": 55,
    "start_time": "2023-01-14T06:20:41.918Z"
   },
   {
    "duration": 1414,
    "start_time": "2023-01-14T06:20:41.974Z"
   },
   {
    "duration": 7,
    "start_time": "2023-01-14T06:20:43.391Z"
   },
   {
    "duration": 167,
    "start_time": "2023-01-14T06:20:43.399Z"
   },
   {
    "duration": 369,
    "start_time": "2023-01-14T06:20:43.569Z"
   },
   {
    "duration": 449,
    "start_time": "2023-01-14T06:20:43.939Z"
   },
   {
    "duration": 366,
    "start_time": "2023-01-14T06:20:44.390Z"
   },
   {
    "duration": 248,
    "start_time": "2023-01-14T06:20:44.762Z"
   },
   {
    "duration": 184,
    "start_time": "2023-01-14T06:20:45.011Z"
   },
   {
    "duration": 216,
    "start_time": "2023-01-14T06:20:45.197Z"
   },
   {
    "duration": 261,
    "start_time": "2023-01-14T06:20:45.416Z"
   },
   {
    "duration": 205,
    "start_time": "2023-01-14T06:20:45.679Z"
   },
   {
    "duration": 246,
    "start_time": "2023-01-14T06:20:45.886Z"
   },
   {
    "duration": 403,
    "start_time": "2023-01-14T06:20:46.134Z"
   },
   {
    "duration": 461,
    "start_time": "2023-01-14T06:20:46.540Z"
   },
   {
    "duration": 320,
    "start_time": "2023-01-14T06:20:47.003Z"
   },
   {
    "duration": 212,
    "start_time": "2023-01-14T06:20:47.334Z"
   },
   {
    "duration": 191,
    "start_time": "2023-01-14T06:20:47.548Z"
   },
   {
    "duration": 746,
    "start_time": "2023-01-14T06:20:47.744Z"
   },
   {
    "duration": 15,
    "start_time": "2023-01-14T06:20:48.492Z"
   },
   {
    "duration": 692,
    "start_time": "2023-01-14T06:20:48.509Z"
   },
   {
    "duration": 357,
    "start_time": "2023-01-14T06:20:49.203Z"
   },
   {
    "duration": 1180,
    "start_time": "2023-01-14T06:20:49.562Z"
   },
   {
    "duration": 365,
    "start_time": "2023-01-14T06:20:50.744Z"
   },
   {
    "duration": 234,
    "start_time": "2023-01-14T06:20:51.111Z"
   },
   {
    "duration": 45,
    "start_time": "2023-01-14T06:20:51.347Z"
   },
   {
    "duration": 14,
    "start_time": "2023-01-14T06:20:51.394Z"
   },
   {
    "duration": 54,
    "start_time": "2023-01-14T06:20:51.410Z"
   },
   {
    "duration": 399,
    "start_time": "2023-01-14T06:20:51.467Z"
   },
   {
    "duration": 270,
    "start_time": "2023-01-14T06:21:42.192Z"
   },
   {
    "duration": 199,
    "start_time": "2023-01-14T06:23:24.990Z"
   },
   {
    "duration": 242,
    "start_time": "2023-01-14T06:24:21.662Z"
   },
   {
    "duration": 193,
    "start_time": "2023-01-14T06:25:09.066Z"
   },
   {
    "duration": 291,
    "start_time": "2023-01-14T06:25:18.473Z"
   },
   {
    "duration": 187,
    "start_time": "2023-01-14T06:25:24.865Z"
   },
   {
    "duration": 299,
    "start_time": "2023-01-14T06:25:29.868Z"
   },
   {
    "duration": 357,
    "start_time": "2023-01-14T06:25:35.700Z"
   },
   {
    "duration": 296,
    "start_time": "2023-01-14T06:25:40.173Z"
   },
   {
    "duration": 159,
    "start_time": "2023-01-14T06:25:48.661Z"
   },
   {
    "duration": 184,
    "start_time": "2023-01-14T06:25:54.066Z"
   },
   {
    "duration": 10,
    "start_time": "2023-01-14T06:28:12.175Z"
   },
   {
    "duration": 9,
    "start_time": "2023-01-14T06:28:36.464Z"
   },
   {
    "duration": 698,
    "start_time": "2023-01-14T06:29:58.562Z"
   },
   {
    "duration": 148,
    "start_time": "2023-01-14T06:30:08.442Z"
   },
   {
    "duration": 910,
    "start_time": "2023-01-14T06:30:16.302Z"
   },
   {
    "duration": 353,
    "start_time": "2023-01-14T06:30:34.394Z"
   },
   {
    "duration": 575,
    "start_time": "2023-01-14T07:42:50.640Z"
   },
   {
    "duration": 15,
    "start_time": "2023-01-14T07:42:51.217Z"
   },
   {
    "duration": 2181,
    "start_time": "2023-01-14T07:42:51.234Z"
   },
   {
    "duration": 4,
    "start_time": "2023-01-14T07:42:53.417Z"
   },
   {
    "duration": 14,
    "start_time": "2023-01-14T07:42:53.422Z"
   },
   {
    "duration": 249,
    "start_time": "2023-01-14T07:42:53.437Z"
   },
   {
    "duration": 4,
    "start_time": "2023-01-14T07:42:53.688Z"
   },
   {
    "duration": 8,
    "start_time": "2023-01-14T07:42:53.693Z"
   },
   {
    "duration": 7,
    "start_time": "2023-01-14T07:42:53.703Z"
   },
   {
    "duration": 5,
    "start_time": "2023-01-14T07:42:53.712Z"
   },
   {
    "duration": 5,
    "start_time": "2023-01-14T07:42:53.719Z"
   },
   {
    "duration": 17,
    "start_time": "2023-01-14T07:42:53.725Z"
   },
   {
    "duration": 47,
    "start_time": "2023-01-14T07:42:53.744Z"
   },
   {
    "duration": 14,
    "start_time": "2023-01-14T07:42:53.793Z"
   },
   {
    "duration": 5,
    "start_time": "2023-01-14T07:42:53.808Z"
   },
   {
    "duration": 15,
    "start_time": "2023-01-14T07:42:53.815Z"
   },
   {
    "duration": 12,
    "start_time": "2023-01-14T07:42:53.831Z"
   },
   {
    "duration": 41,
    "start_time": "2023-01-14T07:42:53.844Z"
   },
   {
    "duration": 27,
    "start_time": "2023-01-14T07:42:53.887Z"
   },
   {
    "duration": 6,
    "start_time": "2023-01-14T07:42:53.916Z"
   },
   {
    "duration": 20,
    "start_time": "2023-01-14T07:42:53.923Z"
   },
   {
    "duration": 12,
    "start_time": "2023-01-14T07:42:53.945Z"
   },
   {
    "duration": 119,
    "start_time": "2023-01-14T07:42:53.959Z"
   },
   {
    "duration": 86,
    "start_time": "2023-01-14T07:42:54.080Z"
   },
   {
    "duration": 24,
    "start_time": "2023-01-14T07:42:54.178Z"
   },
   {
    "duration": 423,
    "start_time": "2023-01-14T07:42:54.204Z"
   },
   {
    "duration": 12,
    "start_time": "2023-01-14T07:42:54.628Z"
   },
   {
    "duration": 390,
    "start_time": "2023-01-14T07:42:54.645Z"
   },
   {
    "duration": 161,
    "start_time": "2023-01-14T07:42:55.037Z"
   },
   {
    "duration": 55,
    "start_time": "2023-01-14T07:42:55.201Z"
   },
   {
    "duration": 220,
    "start_time": "2023-01-14T07:42:55.258Z"
   },
   {
    "duration": 14,
    "start_time": "2023-01-14T07:42:55.479Z"
   },
   {
    "duration": 195,
    "start_time": "2023-01-14T07:42:55.495Z"
   },
   {
    "duration": 418,
    "start_time": "2023-01-14T07:42:55.692Z"
   },
   {
    "duration": 174,
    "start_time": "2023-01-14T07:42:56.111Z"
   },
   {
    "duration": 384,
    "start_time": "2023-01-14T07:42:56.286Z"
   },
   {
    "duration": 141,
    "start_time": "2023-01-14T07:42:56.677Z"
   },
   {
    "duration": 269,
    "start_time": "2023-01-14T07:42:56.820Z"
   },
   {
    "duration": 352,
    "start_time": "2023-01-14T07:42:57.091Z"
   },
   {
    "duration": 3,
    "start_time": "2023-01-14T07:42:57.445Z"
   },
   {
    "duration": 113,
    "start_time": "2023-01-14T07:42:57.450Z"
   },
   {
    "duration": 8,
    "start_time": "2023-01-14T07:42:57.565Z"
   },
   {
    "duration": 22,
    "start_time": "2023-01-14T07:42:57.575Z"
   },
   {
    "duration": 5,
    "start_time": "2023-01-14T07:42:57.598Z"
   },
   {
    "duration": 10,
    "start_time": "2023-01-14T07:42:57.604Z"
   },
   {
    "duration": 6,
    "start_time": "2023-01-14T07:42:57.616Z"
   },
   {
    "duration": 18,
    "start_time": "2023-01-14T07:42:57.624Z"
   },
   {
    "duration": 1192,
    "start_time": "2023-01-14T07:42:57.645Z"
   },
   {
    "duration": 7,
    "start_time": "2023-01-14T07:42:58.840Z"
   },
   {
    "duration": 128,
    "start_time": "2023-01-14T07:42:58.849Z"
   },
   {
    "duration": 250,
    "start_time": "2023-01-14T07:42:58.979Z"
   },
   {
    "duration": 326,
    "start_time": "2023-01-14T07:42:59.230Z"
   },
   {
    "duration": 267,
    "start_time": "2023-01-14T07:42:59.558Z"
   },
   {
    "duration": 216,
    "start_time": "2023-01-14T07:42:59.827Z"
   },
   {
    "duration": 162,
    "start_time": "2023-01-14T07:43:00.045Z"
   },
   {
    "duration": 156,
    "start_time": "2023-01-14T07:43:00.209Z"
   },
   {
    "duration": 169,
    "start_time": "2023-01-14T07:43:00.367Z"
   },
   {
    "duration": 128,
    "start_time": "2023-01-14T07:43:00.538Z"
   },
   {
    "duration": 184,
    "start_time": "2023-01-14T07:43:00.668Z"
   },
   {
    "duration": 278,
    "start_time": "2023-01-14T07:43:00.854Z"
   },
   {
    "duration": 388,
    "start_time": "2023-01-14T07:43:01.134Z"
   },
   {
    "duration": 283,
    "start_time": "2023-01-14T07:43:01.524Z"
   },
   {
    "duration": 168,
    "start_time": "2023-01-14T07:43:01.809Z"
   },
   {
    "duration": 154,
    "start_time": "2023-01-14T07:43:01.979Z"
   },
   {
    "duration": 511,
    "start_time": "2023-01-14T07:43:02.135Z"
   },
   {
    "duration": 10,
    "start_time": "2023-01-14T07:43:02.647Z"
   },
   {
    "duration": 565,
    "start_time": "2023-01-14T07:43:02.659Z"
   },
   {
    "duration": 257,
    "start_time": "2023-01-14T07:43:03.226Z"
   },
   {
    "duration": 868,
    "start_time": "2023-01-14T07:43:03.485Z"
   },
   {
    "duration": 297,
    "start_time": "2023-01-14T07:43:04.355Z"
   },
   {
    "duration": 182,
    "start_time": "2023-01-14T07:43:04.654Z"
   },
   {
    "duration": 24,
    "start_time": "2023-01-14T07:43:04.838Z"
   },
   {
    "duration": 17,
    "start_time": "2023-01-14T07:43:04.864Z"
   },
   {
    "duration": 10,
    "start_time": "2023-01-14T07:43:04.883Z"
   },
   {
    "duration": 282,
    "start_time": "2023-01-14T07:43:04.895Z"
   }
  ],
  "kernelspec": {
   "display_name": "Python 3 (ipykernel)",
   "language": "python",
   "name": "python3"
  },
  "language_info": {
   "codemirror_mode": {
    "name": "ipython",
    "version": 3
   },
   "file_extension": ".py",
   "mimetype": "text/x-python",
   "name": "python",
   "nbconvert_exporter": "python",
   "pygments_lexer": "ipython3",
   "version": "3.11.3"
  },
  "toc": {
   "base_numbering": 1,
   "nav_menu": {},
   "number_sections": true,
   "sideBar": true,
   "skip_h1_title": true,
   "title_cell": "Table of Contents",
   "title_sidebar": "Contents",
   "toc_cell": false,
   "toc_position": {},
   "toc_section_display": true,
   "toc_window_display": false
  }
 },
 "nbformat": 4,
 "nbformat_minor": 2
}
